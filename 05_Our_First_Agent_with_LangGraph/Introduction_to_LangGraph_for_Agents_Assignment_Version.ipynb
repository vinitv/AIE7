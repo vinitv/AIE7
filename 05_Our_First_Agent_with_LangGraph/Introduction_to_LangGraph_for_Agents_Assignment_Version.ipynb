{
  "cells": [
    {
      "cell_type": "markdown",
      "metadata": {
        "id": "gJXW_DgiSebM"
      },
      "source": [
        "# LangGraph and LangSmith - Agentic RAG Powered by LangChain\n",
        "\n",
        "In the following notebook we'll complete the following tasks:\n",
        "\n",
        "- 🤝 Breakout Room #1:\n",
        "  1. Install required libraries\n",
        "  2. Set Environment Variables\n",
        "  3. Creating our Tool Belt\n",
        "  4. Creating Our State\n",
        "  5. Creating and Compiling A Graph!\n",
        "\n",
        "- 🤝 Breakout Room #2:\n",
        "  1. Evaluating the LangGraph Application with LangSmith\n",
        "  2. Adding Helpfulness Check and \"Loop\" Limits\n",
        "  3. LangGraph for the \"Patterns\" of GenAI"
      ]
    },
    {
      "cell_type": "markdown",
      "metadata": {
        "id": "djQ3nRAgoF67"
      },
      "source": [
        "# 🤝 Breakout Room #1"
      ]
    },
    {
      "cell_type": "markdown",
      "metadata": {
        "id": "e7pQDUhUnIo8"
      },
      "source": [
        "## Part 1: LangGraph - Building Cyclic Applications with LangChain\n",
        "\n",
        "LangGraph is a tool that leverages LangChain Expression Language to build coordinated multi-actor and stateful applications that includes cyclic behaviour.\n",
        "\n",
        "### Why Cycles?\n",
        "\n",
        "In essence, we can think of a cycle in our graph as a more robust and customizable loop. It allows us to keep our application agent-forward while still giving the powerful functionality of traditional loops.\n",
        "\n",
        "Due to the inclusion of cycles over loops, we can also compose rather complex flows through our graph in a much more readable and natural fashion. Effectively allowing us to recreate application flowcharts in code in an almost 1-to-1 fashion.\n",
        "\n",
        "### Why LangGraph?\n",
        "\n",
        "Beyond the agent-forward approach - we can easily compose and combine traditional \"DAG\" (directed acyclic graph) chains with powerful cyclic behaviour due to the tight integration with LCEL. This means it's a natural extension to LangChain's core offerings!"
      ]
    },
    {
      "cell_type": "markdown",
      "metadata": {
        "id": "3_fLDElOVoop"
      },
      "source": [
        "## Task 1:  Dependencies\n"
      ]
    },
    {
      "cell_type": "markdown",
      "metadata": {
        "id": "wujPjGJuoPwg"
      },
      "source": [
        "## Task 2: Environment Variables\n",
        "\n",
        "We'll want to set both our OpenAI API key and our LangSmith environment variables."
      ]
    },
    {
      "cell_type": "code",
      "execution_count": 1,
      "metadata": {
        "colab": {
          "base_uri": "https://localhost:8080/"
        },
        "id": "Jdh8CoVWHRvs",
        "outputId": "3fa78560-393c-4ee5-b871-9886bf0d70f4"
      },
      "outputs": [],
      "source": [
        "import os\n",
        "import getpass\n",
        "\n",
        "os.environ[\"OPENAI_API_KEY\"] = getpass.getpass(\"OpenAI API Key:\")"
      ]
    },
    {
      "cell_type": "code",
      "execution_count": 2,
      "metadata": {
        "colab": {
          "base_uri": "https://localhost:8080/"
        },
        "id": "Jkla2fpx28QK",
        "outputId": "52d7ad22-fcb1-4abe-853b-216c55a12650"
      },
      "outputs": [],
      "source": [
        "os.environ[\"TAVILY_API_KEY\"] = getpass.getpass(\"TAVILY_API_KEY\")"
      ]
    },
    {
      "cell_type": "code",
      "execution_count": 3,
      "metadata": {
        "colab": {
          "base_uri": "https://localhost:8080/"
        },
        "id": "Nv0glIDyHmRt",
        "outputId": "b69df90a-b4e1-4ddb-9de0-882d98b68ab2"
      },
      "outputs": [],
      "source": [
        "from uuid import uuid4\n",
        "\n",
        "os.environ[\"LANGCHAIN_TRACING_V2\"] = \"true\"\n",
        "os.environ[\"LANGCHAIN_PROJECT\"] = f\"AIE7 - LangGraph - {uuid4().hex[0:8]}\"\n",
        "os.environ[\"LANGCHAIN_API_KEY\"] = getpass.getpass(\"LangSmith API Key: \")"
      ]
    },
    {
      "cell_type": "markdown",
      "metadata": {
        "id": "sBRyQmEAVzua"
      },
      "source": [
        "## Task 3: Creating our Tool Belt\n",
        "\n",
        "As is usually the case, we'll want to equip our agent with a toolbelt to help answer questions and add external knowledge.\n",
        "\n",
        "There's a tonne of tools in the [LangChain Community Repo](https://github.com/langchain-ai/langchain-community/tree/main/libs/community) but we'll stick to a couple just so we can observe the cyclic nature of LangGraph in action!\n",
        "\n",
        "We'll leverage:\n",
        "\n",
        "- [Tavily Search Results](https://github.com/langchain-ai/langchain-community/blob/main/libs/community/langchain_community/tools/tavily_search/tool.py)\n",
        "- [Arxiv](https://github.com/langchain-ai/langchain-community/blob/main/libs/community/langchain_community/tools/arxiv/tool.py)"
      ]
    },
    {
      "cell_type": "markdown",
      "metadata": {
        "id": "2k6n_Dob2F46"
      },
      "source": [
        "#### 🏗️ Activity #1:\n",
        "\n",
        "Please add the tools to use into our toolbelt.\n",
        "\n",
        "> NOTE: Each tool in our toolbelt should be a method."
      ]
    },
    {
      "cell_type": "code",
      "execution_count": 4,
      "metadata": {
        "id": "lAxaSvlfIeOg"
      },
      "outputs": [
        {
          "name": "stderr",
          "output_type": "stream",
          "text": [
            "/var/folders/kz/6q4vt7hx2c70b45zm9kg3kjr0000gn/T/ipykernel_75917/1203815797.py:4: LangChainDeprecationWarning: The class `TavilySearchResults` was deprecated in LangChain 0.3.25 and will be removed in 1.0. An updated version of the class exists in the :class:`~langchain-tavily package and should be used instead. To use it run `pip install -U :class:`~langchain-tavily` and import as `from :class:`~langchain_tavily import TavilySearch``.\n",
            "  tavily_tool = TavilySearchResults(max_results=5)\n"
          ]
        }
      ],
      "source": [
        "from langchain_community.tools.tavily_search import TavilySearchResults\n",
        "from langchain_community.tools.arxiv.tool import ArxivQueryRun\n",
        "\n",
        "tavily_tool = TavilySearchResults(max_results=5)\n",
        "\n",
        "tool_belt = [\n",
        "    tavily_tool,\n",
        "    ArxivQueryRun(),\n",
        "]"
      ]
    },
    {
      "cell_type": "markdown",
      "metadata": {
        "id": "VI-C669ZYVI5"
      },
      "source": [
        "### Model\n",
        "\n",
        "Now we can set-up our model! We'll leverage the familiar OpenAI model suite for this example - but it's not *necessary* to use with LangGraph. LangGraph supports all models - though you might not find success with smaller models - as such, they recommend you stick with:\n",
        "\n",
        "- OpenAI's GPT-3.5 and GPT-4\n",
        "- Anthropic's Claude\n",
        "- Google's Gemini\n",
        "\n",
        "> NOTE: Because we're leveraging the OpenAI function calling API - we'll need to use OpenAI *for this specific example* (or any other service that exposes an OpenAI-style function calling API."
      ]
    },
    {
      "cell_type": "code",
      "execution_count": 5,
      "metadata": {
        "id": "QkNS8rNZJs4z"
      },
      "outputs": [],
      "source": [
        "from langchain_openai import ChatOpenAI\n",
        "\n",
        "model = ChatOpenAI(model=\"gpt-4.1-nano\", temperature=0)"
      ]
    },
    {
      "cell_type": "markdown",
      "metadata": {
        "id": "Ugkj3GzuZpQv"
      },
      "source": [
        "Now that we have our model set-up, let's \"put on the tool belt\", which is to say: We'll bind our LangChain formatted tools to the model in an OpenAI function calling format."
      ]
    },
    {
      "cell_type": "code",
      "execution_count": 6,
      "metadata": {
        "id": "4OdMqFafZ_0V"
      },
      "outputs": [],
      "source": [
        "model = model.bind_tools(tool_belt)"
      ]
    },
    {
      "cell_type": "markdown",
      "metadata": {
        "id": "ERzuGo6W18Lr"
      },
      "source": [
        "#### ❓ Question #1:\n",
        "\n",
        "How does the model determine which tool to use?\n",
        "\n",
        "##### ✅ Answer: \n",
        "The model determines which tool to use through OpenAI's function calling (tool calling) API. When you bind tools to the model using model.bind_tools(tool_belt), the model receives a list of available tools, each described with a schema and a name."
      ]
    },
    {
      "cell_type": "markdown",
      "metadata": {
        "id": "_296Ub96Z_H8"
      },
      "source": [
        "## Task 4: Putting the State in Stateful\n",
        "\n",
        "Earlier we used this phrasing:\n",
        "\n",
        "`coordinated multi-actor and stateful applications`\n",
        "\n",
        "So what does that \"stateful\" mean?\n",
        "\n",
        "To put it simply - we want to have some kind of object which we can pass around our application that holds information about what the current situation (state) is. Since our system will be constructed of many parts moving in a coordinated fashion - we want to be able to ensure we have some commonly understood idea of that state.\n",
        "\n",
        "LangGraph leverages a `StatefulGraph` which uses an `AgentState` object to pass information between the various nodes of the graph.\n",
        "\n",
        "There are more options than what we'll see below - but this `AgentState` object is one that is stored in a `TypedDict` with the key `messages` and the value is a `Sequence` of `BaseMessages` that will be appended to whenever the state changes.\n",
        "\n",
        "Let's think about a simple example to help understand exactly what this means (we'll simplify a great deal to try and clearly communicate what state is doing):\n",
        "\n",
        "1. We initialize our state object:\n",
        "  - `{\"messages\" : []}`\n",
        "2. Our user submits a query to our application.\n",
        "  - New State: `HumanMessage(#1)`\n",
        "  - `{\"messages\" : [HumanMessage(#1)}`\n",
        "3. We pass our state object to an Agent node which is able to read the current state. It will use the last `HumanMessage` as input. It gets some kind of output which it will add to the state.\n",
        "  - New State: `AgentMessage(#1, additional_kwargs {\"function_call\" : \"WebSearchTool\"})`\n",
        "  - `{\"messages\" : [HumanMessage(#1), AgentMessage(#1, ...)]}`\n",
        "4. We pass our state object to a \"conditional node\" (more on this later) which reads the last state to determine if we need to use a tool - which it can determine properly because of our provided object!"
      ]
    },
    {
      "cell_type": "code",
      "execution_count": 7,
      "metadata": {
        "id": "mxL9b_NZKUdL"
      },
      "outputs": [],
      "source": [
        "from typing import TypedDict, Annotated\n",
        "from langgraph.graph.message import add_messages\n",
        "import operator\n",
        "from langchain_core.messages import BaseMessage\n",
        "\n",
        "class AgentState(TypedDict):\n",
        "  messages: Annotated[list, add_messages]"
      ]
    },
    {
      "cell_type": "markdown",
      "metadata": {
        "id": "vWsMhfO9grLu"
      },
      "source": [
        "## Task 5: It's Graphing Time!\n",
        "\n",
        "Now that we have state, and we have tools, and we have an LLM - we can finally start making our graph!\n",
        "\n",
        "Let's take a second to refresh ourselves about what a graph is in this context.\n",
        "\n",
        "Graphs, also called networks in some circles, are a collection of connected objects.\n",
        "\n",
        "The objects in question are typically called nodes, or vertices, and the connections are called edges.\n",
        "\n",
        "Let's look at a simple graph.\n",
        "\n",
        "![image](https://i.imgur.com/2NFLnIc.png)\n",
        "\n",
        "Here, we're using the coloured circles to represent the nodes and the yellow lines to represent the edges. In this case, we're looking at a fully connected graph - where each node is connected by an edge to each other node.\n",
        "\n",
        "If we were to think about nodes in the context of LangGraph - we would think of a function, or an LCEL runnable.\n",
        "\n",
        "If we were to think about edges in the context of LangGraph - we might think of them as \"paths to take\" or \"where to pass our state object next\".\n",
        "\n",
        "Let's create some nodes and expand on our diagram.\n",
        "\n",
        "> NOTE: Due to the tight integration with LCEL - we can comfortably create our nodes in an async fashion!"
      ]
    },
    {
      "cell_type": "code",
      "execution_count": 8,
      "metadata": {
        "id": "91flJWtZLUrl"
      },
      "outputs": [],
      "source": [
        "from langgraph.prebuilt import ToolNode\n",
        "\n",
        "def call_model(state):\n",
        "  messages = state[\"messages\"]\n",
        "  response = model.invoke(messages)\n",
        "  return {\"messages\" : [response]}\n",
        "\n",
        "tool_node = ToolNode(tool_belt)"
      ]
    },
    {
      "cell_type": "markdown",
      "metadata": {
        "id": "2bwR7MgWj3Wg"
      },
      "source": [
        "Now we have two total nodes. We have:\n",
        "\n",
        "- `call_model` is a node that will...well...call the model\n",
        "- `tool_node` is a node which can call a tool\n",
        "\n",
        "Let's start adding nodes! We'll update our diagram along the way to keep track of what this looks like!\n"
      ]
    },
    {
      "cell_type": "code",
      "execution_count": 9,
      "metadata": {
        "colab": {
          "base_uri": "https://localhost:8080/"
        },
        "id": "_vF4_lgtmQNo",
        "outputId": "a4384377-8f7a-415f-be1b-fee6169cb101"
      },
      "outputs": [
        {
          "data": {
            "text/plain": [
              "<langgraph.graph.state.StateGraph at 0x11a7412b0>"
            ]
          },
          "execution_count": 9,
          "metadata": {},
          "output_type": "execute_result"
        }
      ],
      "source": [
        "from langgraph.graph import StateGraph, END\n",
        "\n",
        "uncompiled_graph = StateGraph(AgentState)\n",
        "\n",
        "uncompiled_graph.add_node(\"agent\", call_model)\n",
        "uncompiled_graph.add_node(\"action\", tool_node)"
      ]
    },
    {
      "cell_type": "markdown",
      "metadata": {
        "id": "b8CjRlbVmRpW"
      },
      "source": [
        "Let's look at what we have so far:\n",
        "\n",
        "![image](https://i.imgur.com/md7inqG.png)"
      ]
    },
    {
      "cell_type": "markdown",
      "metadata": {
        "id": "uaXHpPeSnOWC"
      },
      "source": [
        "Next, we'll add our entrypoint. All our entrypoint does is indicate which node is called first."
      ]
    },
    {
      "cell_type": "code",
      "execution_count": 10,
      "metadata": {
        "colab": {
          "base_uri": "https://localhost:8080/"
        },
        "id": "YGCbaYqRnmiw",
        "outputId": "5351807c-2ac7-4316-a3a3-878abeacd114"
      },
      "outputs": [
        {
          "data": {
            "text/plain": [
              "<langgraph.graph.state.StateGraph at 0x11a7412b0>"
            ]
          },
          "execution_count": 10,
          "metadata": {},
          "output_type": "execute_result"
        }
      ],
      "source": [
        "uncompiled_graph.set_entry_point(\"agent\")"
      ]
    },
    {
      "cell_type": "markdown",
      "metadata": {
        "id": "BUsfGoSpoF9U"
      },
      "source": [
        "![image](https://i.imgur.com/wNixpJe.png)"
      ]
    },
    {
      "cell_type": "markdown",
      "metadata": {
        "id": "0Q_pQgHmoW0M"
      },
      "source": [
        "Now we want to build a \"conditional edge\" which will use the output state of a node to determine which path to follow.\n",
        "\n",
        "We can help conceptualize this by thinking of our conditional edge as a conditional in a flowchart!\n",
        "\n",
        "Notice how our function simply checks if there is a \"function_call\" kwarg present.\n",
        "\n",
        "Then we create an edge where the origin node is our agent node and our destination node is *either* the action node or the END (finish the graph).\n",
        "\n",
        "It's important to highlight that the dictionary passed in as the third parameter (the mapping) should be created with the possible outputs of our conditional function in mind. In this case `should_continue` outputs either `\"end\"` or `\"continue\"` which are subsequently mapped to the action node or the END node."
      ]
    },
    {
      "cell_type": "code",
      "execution_count": 11,
      "metadata": {
        "colab": {
          "base_uri": "https://localhost:8080/"
        },
        "id": "1BZgb81VQf9o",
        "outputId": "73a07c15-5f0b-40f2-b033-38b57d056dd8"
      },
      "outputs": [
        {
          "data": {
            "text/plain": [
              "<langgraph.graph.state.StateGraph at 0x11a7412b0>"
            ]
          },
          "execution_count": 11,
          "metadata": {},
          "output_type": "execute_result"
        }
      ],
      "source": [
        "def should_continue(state):\n",
        "  last_message = state[\"messages\"][-1]\n",
        "\n",
        "  if last_message.tool_calls:\n",
        "    return \"action\"\n",
        "\n",
        "  return END\n",
        "\n",
        "uncompiled_graph.add_conditional_edges(\n",
        "    \"agent\",\n",
        "    should_continue\n",
        ")"
      ]
    },
    {
      "cell_type": "markdown",
      "metadata": {
        "id": "-Cvhcf4jp0Ce"
      },
      "source": [
        "Let's visualize what this looks like.\n",
        "\n",
        "![image](https://i.imgur.com/8ZNwKI5.png)"
      ]
    },
    {
      "cell_type": "markdown",
      "metadata": {
        "id": "yKCjWJCkrJb9"
      },
      "source": [
        "Finally, we can add our last edge which will connect our action node to our agent node. This is because we *always* want our action node (which is used to call our tools) to return its output to our agent!"
      ]
    },
    {
      "cell_type": "code",
      "execution_count": 12,
      "metadata": {
        "colab": {
          "base_uri": "https://localhost:8080/"
        },
        "id": "UvcgbHf1rIXZ",
        "outputId": "45d4bdd6-d6bb-4a1d-bb79-cad43c130bf2"
      },
      "outputs": [
        {
          "data": {
            "text/plain": [
              "<langgraph.graph.state.StateGraph at 0x11a7412b0>"
            ]
          },
          "execution_count": 12,
          "metadata": {},
          "output_type": "execute_result"
        }
      ],
      "source": [
        "uncompiled_graph.add_edge(\"action\", \"agent\")"
      ]
    },
    {
      "cell_type": "markdown",
      "metadata": {
        "id": "EiWDwBQtrw7Z"
      },
      "source": [
        "Let's look at the final visualization.\n",
        "\n",
        "![image](https://i.imgur.com/NWO7usO.png)"
      ]
    },
    {
      "cell_type": "markdown",
      "metadata": {
        "id": "KYqDpErlsCsu"
      },
      "source": [
        "All that's left to do now is to compile our workflow - and we're off!"
      ]
    },
    {
      "cell_type": "code",
      "execution_count": 13,
      "metadata": {
        "id": "zt9-KS8DpzNx"
      },
      "outputs": [],
      "source": [
        "simple_agent_graph = uncompiled_graph.compile()"
      ]
    },
    {
      "cell_type": "markdown",
      "metadata": {
        "id": "xhNWIwBL1W4Q"
      },
      "source": [
        "#### ❓ Question #2:\n",
        "\n",
        "Is there any specific limit to how many times we can cycle?\n",
        "\n",
        "If not, how could we impose a limit to the number of cycles?\n",
        "\n",
        "##### ✅ Answer:\n",
        "There is no specific limit to how many times the agent can cycle (loop) between the nodes in the LangGraph workflow. The agent will continue cycling between the \"agent\" and \"action\" nodes as long as the logic in the conditional edge (should_continue) dictates that it should.\n",
        "\n",
        "To impose a limit on the number of cycles, we could:\n",
        "\n",
        "- Track the number of cycles/iterations in the state object (e.g., by adding a counter to the state).\n",
        "- Modify the conditional function (e.g., should_continue) to check this counter, and if it exceeds a set threshold, return END to stop the loop.\n"
      ]
    },
    {
      "cell_type": "markdown",
      "metadata": {
        "id": "VEYcTShCsPaa"
      },
      "source": [
        "## Using Our Graph\n",
        "\n",
        "Now that we've created and compiled our graph - we can call it *just as we'd call any other* `Runnable`!\n",
        "\n",
        "Let's try out a few examples to see how it fairs:"
      ]
    },
    {
      "cell_type": "code",
      "execution_count": 14,
      "metadata": {
        "colab": {
          "base_uri": "https://localhost:8080/"
        },
        "id": "Qn4n37PQRPII",
        "outputId": "5eeedfae-089d-496e-e71f-071939fa5832"
      },
      "outputs": [
        {
          "name": "stdout",
          "output_type": "stream",
          "text": [
            "Receiving update from node: 'agent'\n",
            "[AIMessage(content='', additional_kwargs={'tool_calls': [{'id': 'call_qYvPdwqRA6rSdVbeNUgNIhfP', 'function': {'arguments': '{\"query\":\"current captain of the Winnipeg Jets\"}', 'name': 'tavily_search_results_json'}, 'type': 'function'}], 'refusal': None}, response_metadata={'token_usage': {'completion_tokens': 23, 'prompt_tokens': 162, 'total_tokens': 185, 'completion_tokens_details': {'accepted_prediction_tokens': 0, 'audio_tokens': 0, 'reasoning_tokens': 0, 'rejected_prediction_tokens': 0}, 'prompt_tokens_details': {'audio_tokens': 0, 'cached_tokens': 0}}, 'model_name': 'gpt-4.1-nano-2025-04-14', 'system_fingerprint': None, 'id': 'chatcmpl-Bt241hTvoX4oMEHjuZaqOUK7h133o', 'service_tier': 'default', 'finish_reason': 'tool_calls', 'logprobs': None}, id='run--ad7200c8-4965-41ec-a9e3-05236535dd0f-0', tool_calls=[{'name': 'tavily_search_results_json', 'args': {'query': 'current captain of the Winnipeg Jets'}, 'id': 'call_qYvPdwqRA6rSdVbeNUgNIhfP', 'type': 'tool_call'}], usage_metadata={'input_tokens': 162, 'output_tokens': 23, 'total_tokens': 185, 'input_token_details': {'audio': 0, 'cache_read': 0}, 'output_token_details': {'audio': 0, 'reasoning': 0}})]\n",
            "\n",
            "\n",
            "\n",
            "Receiving update from node: 'action'\n",
            "[ToolMessage(content='[{\"title\": \"Adam Lowry - Wikipedia\", \"url\": \"https://en.wikipedia.org/wiki/Adam_Lowry\", \"content\": \"Adam Lowry (born March 29, 1993) is an American-born Canadian professional ice hockey centre and captain of the Winnipeg Jets of the National Hockey League (NHL)\", \"score\": 0.8585411}, {\"title\": \"Adam Lowry named Jets captain | Winnipeg Jets - NHL.com\", \"url\": \"https://www.nhl.com/jets/news/adam-lowry-named-jets-captain\", \"content\": \"That honour was given to Winnipeg Jet forward Adam Lowry officially Tuesday morning as he becomes the third captain in franchise history since\", \"score\": 0.81489426}, {\"title\": \"Team Captains of Winnipeg Jets - Elite Prospects\", \"url\": \"https://www.eliteprospects.com/team/9966/winnipeg-jets/captaincy-history\", \"content\": \"2022-2023 2022-23, NHL · Adam Lowry · Josh Morrissey · Mark Scheifele ; 2021-2022 2021-22, NHL · Blake Wheeler · Josh Morrissey · Mark Scheifele.\", \"score\": 0.7668008}, {\"title\": \"Jets sign five players to one-year, two-way contracts | Winnipeg Jets\", \"url\": \"https://www.nhl.com/jets/news/jets-sign-five-players-to-one-year-two-way-contracts\", \"content\": \"WINNIPEG, July 2, 2025 – The Winnipeg Jets Hockey Club announced today that they have agreed to terms with goaltender Isaac Poulter,\", \"score\": 0.36615953}, {\"title\": \"Jets Enter 2025-26 Season in League\\'s Bottom Third in Age Rankings\", \"url\": \"https://thehockeynews.com/nhl/winnipeg-jets/latest-news/jets-enter-2025-26-season-in-league-s-bottom-third-in-age-rankings\", \"content\": \"The Winnipeg Jets are in preparation for the 2025-26 NHL season. No, it isn\\'t October yet, but it also isn\\'t July 1st or June 27th anymore.\", \"score\": 0.11038503}]', name='tavily_search_results_json', id='0113caa7-fdba-4d87-865a-6bded206383e', tool_call_id='call_qYvPdwqRA6rSdVbeNUgNIhfP', artifact={'query': 'current captain of the Winnipeg Jets', 'follow_up_questions': None, 'answer': None, 'images': [], 'results': [{'url': 'https://en.wikipedia.org/wiki/Adam_Lowry', 'title': 'Adam Lowry - Wikipedia', 'content': 'Adam Lowry (born March 29, 1993) is an American-born Canadian professional ice hockey centre and captain of the Winnipeg Jets of the National Hockey League (NHL)', 'score': 0.8585411, 'raw_content': None}, {'url': 'https://www.nhl.com/jets/news/adam-lowry-named-jets-captain', 'title': 'Adam Lowry named Jets captain | Winnipeg Jets - NHL.com', 'content': 'That honour was given to Winnipeg Jet forward Adam Lowry officially Tuesday morning as he becomes the third captain in franchise history since', 'score': 0.81489426, 'raw_content': None}, {'url': 'https://www.eliteprospects.com/team/9966/winnipeg-jets/captaincy-history', 'title': 'Team Captains of Winnipeg Jets - Elite Prospects', 'content': '2022-2023 2022-23, NHL · Adam Lowry · Josh Morrissey · Mark Scheifele ; 2021-2022 2021-22, NHL · Blake Wheeler · Josh Morrissey · Mark Scheifele.', 'score': 0.7668008, 'raw_content': None}, {'url': 'https://www.nhl.com/jets/news/jets-sign-five-players-to-one-year-two-way-contracts', 'title': 'Jets sign five players to one-year, two-way contracts | Winnipeg Jets', 'content': 'WINNIPEG, July 2, 2025 – The Winnipeg Jets Hockey Club announced today that they have agreed to terms with goaltender Isaac Poulter,', 'score': 0.36615953, 'raw_content': None}, {'url': 'https://thehockeynews.com/nhl/winnipeg-jets/latest-news/jets-enter-2025-26-season-in-league-s-bottom-third-in-age-rankings', 'title': \"Jets Enter 2025-26 Season in League's Bottom Third in Age Rankings\", 'content': \"The Winnipeg Jets are in preparation for the 2025-26 NHL season. No, it isn't October yet, but it also isn't July 1st or June 27th anymore.\", 'score': 0.11038503, 'raw_content': None}], 'response_time': 3.8})]\n",
            "\n",
            "\n",
            "\n",
            "Receiving update from node: 'agent'\n",
            "[AIMessage(content='The current captain of the Winnipeg Jets is Adam Lowry.', additional_kwargs={'refusal': None}, response_metadata={'token_usage': {'completion_tokens': 13, 'prompt_tokens': 674, 'total_tokens': 687, 'completion_tokens_details': {'accepted_prediction_tokens': 0, 'audio_tokens': 0, 'reasoning_tokens': 0, 'rejected_prediction_tokens': 0}, 'prompt_tokens_details': {'audio_tokens': 0, 'cached_tokens': 0}}, 'model_name': 'gpt-4.1-nano-2025-04-14', 'system_fingerprint': None, 'id': 'chatcmpl-Bt246sMfEc0wRvKhmYXL9q1wuuDNY', 'service_tier': 'default', 'finish_reason': 'stop', 'logprobs': None}, id='run--2c0018fb-aec0-4ae4-a003-229d411712ce-0', usage_metadata={'input_tokens': 674, 'output_tokens': 13, 'total_tokens': 687, 'input_token_details': {'audio': 0, 'cache_read': 0}, 'output_token_details': {'audio': 0, 'reasoning': 0}})]\n",
            "\n",
            "\n",
            "\n"
          ]
        }
      ],
      "source": [
        "from langchain_core.messages import HumanMessage\n",
        "\n",
        "inputs = {\"messages\" : [HumanMessage(content=\"Who is the current captain of the Winnipeg Jets?\")]}\n",
        "\n",
        "async for chunk in simple_agent_graph.astream(inputs, stream_mode=\"updates\"):\n",
        "    for node, values in chunk.items():\n",
        "        print(f\"Receiving update from node: '{node}'\")\n",
        "        print(values[\"messages\"])\n",
        "        print(\"\\n\\n\")"
      ]
    },
    {
      "cell_type": "markdown",
      "metadata": {
        "id": "DBHnUtLSscRr"
      },
      "source": [
        "Let's look at what happened:\n",
        "\n",
        "1. Our state object was populated with our request\n",
        "2. The state object was passed into our entry point (agent node) and the agent node added an `AIMessage` to the state object and passed it along the conditional edge\n",
        "3. The conditional edge received the state object, found the \"tool_calls\" `additional_kwarg`, and sent the state object to the action node\n",
        "4. The action node added the response from the OpenAI function calling endpoint to the state object and passed it along the edge to the agent node\n",
        "5. The agent node added a response to the state object and passed it along the conditional edge\n",
        "6. The conditional edge received the state object, could not find the \"tool_calls\" `additional_kwarg` and passed the state object to END where we see it output in the cell above!\n",
        "\n",
        "Now let's look at an example that shows a multiple tool usage - all with the same flow!"
      ]
    },
    {
      "cell_type": "code",
      "execution_count": 15,
      "metadata": {
        "colab": {
          "base_uri": "https://localhost:8080/"
        },
        "id": "afv2BuEsV5JG",
        "outputId": "ff009536-d281-4a56-c126-9cd245352bfe"
      },
      "outputs": [
        {
          "name": "stdout",
          "output_type": "stream",
          "text": [
            "Receiving update from node: 'agent'\n",
            "[AIMessage(content='', additional_kwargs={'tool_calls': [{'id': 'call_6QE8CgnhyFVFbWBrI3LRWLQP', 'function': {'arguments': '{\"query\": \"QLoRA\"}', 'name': 'arxiv'}, 'type': 'function'}, {'id': 'call_Li3nQAEAsW2Ay9k6obpVB5H0', 'function': {'arguments': '{\"query\": \"latest Tweet of the first author of QLoRA\"}', 'name': 'tavily_search_results_json'}, 'type': 'function'}, {'id': 'call_pUDm1AKucRbuu3CXn3ETVt2M', 'function': {'arguments': '{\"query\": \"latest Tweet of the second author of QLoRA\"}', 'name': 'tavily_search_results_json'}, 'type': 'function'}, {'id': 'call_3DssLoo7ERUiBxOYIkrawJoi', 'function': {'arguments': '{\"query\": \"latest Tweet of the third author of QLoRA\"}', 'name': 'tavily_search_results_json'}, 'type': 'function'}], 'refusal': None}, response_metadata={'token_usage': {'completion_tokens': 113, 'prompt_tokens': 178, 'total_tokens': 291, 'completion_tokens_details': {'accepted_prediction_tokens': 0, 'audio_tokens': 0, 'reasoning_tokens': 0, 'rejected_prediction_tokens': 0}, 'prompt_tokens_details': {'audio_tokens': 0, 'cached_tokens': 0}}, 'model_name': 'gpt-4.1-nano-2025-04-14', 'system_fingerprint': None, 'id': 'chatcmpl-Bt24KGsiz40sNMlzzBKXUI0BlxQ5o', 'service_tier': 'default', 'finish_reason': 'tool_calls', 'logprobs': None}, id='run--0932f78e-028a-4b6a-b5e7-6730a867341a-0', tool_calls=[{'name': 'arxiv', 'args': {'query': 'QLoRA'}, 'id': 'call_6QE8CgnhyFVFbWBrI3LRWLQP', 'type': 'tool_call'}, {'name': 'tavily_search_results_json', 'args': {'query': 'latest Tweet of the first author of QLoRA'}, 'id': 'call_Li3nQAEAsW2Ay9k6obpVB5H0', 'type': 'tool_call'}, {'name': 'tavily_search_results_json', 'args': {'query': 'latest Tweet of the second author of QLoRA'}, 'id': 'call_pUDm1AKucRbuu3CXn3ETVt2M', 'type': 'tool_call'}, {'name': 'tavily_search_results_json', 'args': {'query': 'latest Tweet of the third author of QLoRA'}, 'id': 'call_3DssLoo7ERUiBxOYIkrawJoi', 'type': 'tool_call'}], usage_metadata={'input_tokens': 178, 'output_tokens': 113, 'total_tokens': 291, 'input_token_details': {'audio': 0, 'cache_read': 0}, 'output_token_details': {'audio': 0, 'reasoning': 0}})]\n",
            "\n",
            "\n",
            "\n",
            "Receiving update from node: 'action'\n",
            "Tool Used: arxiv\n",
            "[ToolMessage(content='Published: 2023-05-23\\nTitle: QLoRA: Efficient Finetuning of Quantized LLMs\\nAuthors: Tim Dettmers, Artidoro Pagnoni, Ari Holtzman, Luke Zettlemoyer\\nSummary: We present QLoRA, an efficient finetuning approach that reduces memory usage\\nenough to finetune a 65B parameter model on a single 48GB GPU while preserving\\nfull 16-bit finetuning task performance. QLoRA backpropagates gradients through\\na frozen, 4-bit quantized pretrained language model into Low Rank\\nAdapters~(LoRA). Our best model family, which we name Guanaco, outperforms all\\nprevious openly released models on the Vicuna benchmark, reaching 99.3% of the\\nperformance level of ChatGPT while only requiring 24 hours of finetuning on a\\nsingle GPU. QLoRA introduces a number of innovations to save memory without\\nsacrificing performance: (a) 4-bit NormalFloat (NF4), a new data type that is\\ninformation theoretically optimal for normally distributed weights (b) double\\nquantization to reduce the average memory footprint by quantizing the\\nquantization constants, and (c) paged optimziers to manage memory spikes. We\\nuse QLoRA to finetune more than 1,000 models, providing a detailed analysis of\\ninstruction following and chatbot performance across 8 instruction datasets,\\nmultiple model types (LLaMA, T5), and model scales that would be infeasible to\\nrun with regular finetuning (e.g. 33B and 65B parameter models). Our results\\nshow that QLoRA finetuning on a small high-quality dataset leads to\\nstate-of-the-art results, even when using smaller models than the previous\\nSoTA. We provide a detailed analysis of chatbot performance based on both human\\nand GPT-4 evaluations showing that GPT-4 evaluations are a cheap and reasonable\\nalternative to human evaluation. Furthermore, we find that current chatbot\\nbenchmarks are not trustworthy to accurately evaluate the performance levels of\\nchatbots. A lemon-picked analysis demonstrates where Guanaco fails compared to\\nChatGPT. We release all of our models and code, including CUDA kernels for\\n4-bit training.\\n\\nPublished: 2024-05-27\\nTitle: Accurate LoRA-Finetuning Quantization of LLMs via Information Retention\\nAuthors: Haotong Qin, Xudong Ma, Xingyu Zheng, Xiaoyang Li, Yang Zhang, Shouda Liu, Jie Luo, Xianglong Liu, Michele Magno\\nSummary: The LoRA-finetuning quantization of LLMs has been extensively studied to\\nobtain accurate yet compact LLMs for deployment on resource-constrained\\nhardware. However, existing methods cause the quantized LLM to severely degrade\\nand even fail to benefit from the finetuning of LoRA. This paper proposes a\\nnovel IR-QLoRA for pushing quantized LLMs with LoRA to be highly accurate\\nthrough information retention. The proposed IR-QLoRA mainly relies on two\\ntechnologies derived from the perspective of unified information: (1)\\nstatistics-based Information Calibration Quantization allows the quantized\\nparameters of LLM to retain original information accurately; (2)\\nfinetuning-based Information Elastic Connection makes LoRA utilizes elastic\\nrepresentation transformation with diverse information. Comprehensive\\nexperiments show that IR-QLoRA can significantly improve accuracy across LLaMA\\nand LLaMA2 families under 2-4 bit-widths, e.g., 4- bit LLaMA-7B achieves 1.4%\\nimprovement on MMLU compared with the state-of-the-art methods. The significant\\nperformance gain requires only a tiny 0.31% additional time consumption,\\nrevealing the satisfactory efficiency of our IR-QLoRA. We highlight that\\nIR-QLoRA enjoys excellent versatility, compatible with various frameworks\\n(e.g., NormalFloat and Integer quantization) and brings general accuracy gains.\\nThe code is available at https://github.com/htqin/ir-qlora.\\n\\nPublished: 2025-02-05\\nTitle: Resource-Efficient & Effective Code Summarization\\nAuthors: Saima Afrin, Joseph Call, Khai-Nguyen Nguyen, Oscar Chaparro, Antonio Mastropaolo\\nSummary: Code Language Models (CLMs) have demonstrated high effectiveness in\\nautomating software engineering tasks such as bug fixing, code generation, and\\ncode documentation. This ', name='arxiv', id='35e8800e-882c-48bc-aa16-0a72f6d8ebf8', tool_call_id='call_6QE8CgnhyFVFbWBrI3LRWLQP'), ToolMessage(content='[{\"title\": \"artidoro/qlora - Efficient Finetuning of Quantized LLMs - GitHub\", \"url\": \"https://github.com/artidoro/qlora\", \"content\": \"## Latest commit\\\\n\\\\n## History\\\\n\\\\n## Repository files navigation\\\\n\\\\n# QLoRA: Efficient Finetuning of Quantized LLMs\\\\n\\\\n| Paper | Adapter Weights | Demo |\\\\n\\\\nThis repo supports the paper \\\\\"QLoRA: Efficient Finetuning of Quantized LLMs\\\\\", an effort to democratize access to LLM research.\\\\n\\\\nQLoRA uses bitsandbytes for quantization and is integrated with Hugging Face\\'s PEFT and transformers libraries. QLoRA was developed by members of the University of Washington\\'s UW NLP group.\\\\n\\\\n## Updates\\\\n\\\\n## Overview [...] You can specify the path to your dataset using the `--dataset` argument. If the `--dataset_format` argument is not set, it will default to the Alpaca format. Here are a few examples:\\\\n\\\\n`--dataset`\\\\n`--dataset_format`\\\\n\\\\n### Multi GPU\\\\n\\\\nMulti GPU training and inference work out-of-the-box with Hugging Face\\'s Accelerate. Note that the `per_device_train_batch_size` and `per_device_eval_batch_size` arguments are global batch sizes unlike what their name suggest. [...] # artidoro/qlora\\\\n\\\\n## Folders and files\\\\n\\\\n| Name | | Name | Last commit message | Last commit date |\\\\n| --- | --- | --- | --- | --- |\\\\n| Latest commit   History93 Commits | | |\\\\n| data/mmlu | | data/mmlu |  |  |\\\\n| eval | | eval |  |  |\\\\n| examples | | examples |  |  |\\\\n| scripts | | scripts |  |  |\\\\n| .gitignore | | .gitignore |  |  |\\\\n| LICENSE | | LICENSE |  |  |\\\\n| README.md | | README.md |  |  |\\\\n| qlora.py | | qlora.py |  |  |\\\\n| requirements.txt | | requirements.txt |  |  |\\\\n| View all files | | |\", \"score\": 0.2709874}, {\"title\": \"[2305.14314] QLoRA: Efficient Finetuning of Quantized LLMs - arXiv\", \"url\": \"https://arxiv.org/abs/2305.14314\", \"content\": \"close this message\\\\narXiv smileybones\\\\n\\\\n## arXiv Is Hiring a DevOps Engineer\\\\n\\\\nWork on one of the world\\'s most important websites and make an impact on open science.\\\\n\\\\nCornell University\\\\n\\\\narXiv Is Hiring a DevOps Engineer\\\\n\\\\narxiv logo\\\\n\\\\nHelp | Advanced Search\\\\n\\\\narXiv logo\\\\nCornell University Logo\\\\n\\\\n## quick links\\\\n\\\\n# Computer Science > Machine Learning\\\\n\\\\n# Title:QLoRA: Efficient Finetuning of Quantized LLMs [...] Both individuals and organizations that work with arXivLabs have embraced and accepted our values of openness, community, excellence, and user data privacy. arXiv is committed to these values and only works with partners that adhere to them.\\\\n\\\\nHave an idea for a project that will add value for arXiv\\'s community? Learn more about arXivLabs.\\\\n\\\\narXiv Operational Status   \\\\nGet status notifications via\\\\nemail\\\\nor slack [...] |  |  |\\\\n| --- | --- |\\\\n| Comments: | Extended NeurIPS submission |\\\\n| Subjects: | Machine Learning (cs.LG) |\\\\n| Cite as: | arXiv:2305.14314 [cs.LG] |\\\\n|  | (or  arXiv:2305.14314v1 [cs.LG] for this version) |\\\\n|  |  Focus to learn more  arXiv-issued DOI via DataCite |\\\\n\\\\n## Submission history\\\\n\\\\n## Access Paper:\\\\n\\\\nlicense icon\\\\n\\\\n### References & Citations\\\\n\\\\n### 6 blog links\\\\n\\\\n## BibTeX formatted citation\\\\n\\\\n### Bookmark\\\\n\\\\nBibSonomy logo\\\\nReddit logo\\\\n\\\\n# Bibliographic and Citation Tools\", \"score\": 0.18207656}, {\"title\": \"NeurIPS Poster QLoRA: Efficient Finetuning of Quantized LLMs\", \"url\": \"https://neurips.cc/virtual/2023/poster/71815\", \"content\": \"We present QLoRA, an efficient finetuning approach that reduces memory usage enough to finetune a 65B parameter model on a single 48GB GPU while preserving full 16-bit finetuning task performance. QLoRA backpropagates gradients through a frozen, 4-bit quantized pretrained language model into Low Rank Adapters~(LoRA). Our best model family, which we name Guanaco, outperforms all previous openly released models on the Vicuna benchmark, reaching 99.3% of the performance level of ChatGPT while only [...] We present QLoRA, an efficient finetuning approach that reduces memory usage enough to finetune a 65B parameter model on a single 48GB GPU while preserving full 16-bit finetuning task performance. QLoRA backpropagates gradients through a frozen, 4-bit quantized pretrained language model into Low Rank Adapters~(LoRA). Our best model family, which we name Guanaco, outperforms all previous openly released models on the Vicuna benchmark, reaching 99.3% of the performance level of ChatGPT while only [...] evaluations are a cheap and reasonable alternative to human evaluation. Furthermore, we find that current chatbot benchmarks are not trustworthy to accurately evaluate the performance levels of chatbots. A lemon-picked analysis demonstrates where Guanaco fails compared to ChatGPT. We release all of our models and code, including CUDA kernels for 4-bit training.\", \"score\": 0.17835435}, {\"title\": \"QLoRA: Efficient Finetuning of Quantized LLMs | Hacker News\", \"url\": \"https://news.ycombinator.com/item?id=36064568\", \"content\": \"Altman\\'s push for regulatory capture makes so much sense given how fast this field is going. Open models you can run on regular hardware are\", \"score\": 0.1548358}, {\"title\": \"Fine-Tuning Llama2 with QLoRA — torchtune 0.6 documentation\", \"url\": \"https://docs.pytorch.org/torchtune/0.6/tutorials/qlora_finetune.html\", \"content\": \"Catch up on the latest technical news and happenings\\\\n\\\\nStories from the PyTorch ecosystem\\\\n\\\\nLearn about the latest PyTorch tutorials, new, and more\\\\n\\\\nLearn how our community solves real, everyday machine learning problems with PyTorch\\\\n\\\\nFind events, webinars, and podcasts\\\\n\\\\nStay up-to-date with the latest updates\\\\n\\\\nLearn more about the PyTorch Foundation\\\\n\\\\nGetting Started\\\\n\\\\nFinetuning Recipes\\\\n\\\\nBasics\\\\n\\\\nTutorials\\\\n\\\\nDeep-Dives\\\\n\\\\nAPI Reference\\\\n\\\\n# Fine-Tuning Llama2 with QLoRA¶ [...] The QLoRA authors introduce two key abstractions to decrease memory usage and avoid accuracy degradation: the bespoke 4-bit NormatFloat\\\\ntype, and a double quantization method that quantizes the quantization parameters themselves to save even more memory. torchtune uses\\\\nthe NF4Tensor abstraction from the torchao library to build QLoRA components as specified in the paper.\\\\ntorchao is a PyTorch-native library that allows you to quantize and prune your models.\\\\n\\\\n## Using QLoRA to save memory¶ [...] In this tutorial, we’ll learn about QLoRA, an enhancement on top of\\\\nLoRA that maintains frozen model parameters in 4-bit quantized precision, thereby reducing memory usage. We’ll\\\\nwalk through how QLoRA can be utilized within torchtune to finetune a Llama2-7b model in <10 GB of memory.\\\\nIt is highly recommended to first develop an understanding of LoRA finetuning in torchtune.\\\\n\\\\nHow QLoRA saves memory over LoRA finetuning\\\\n\\\\nAn overview of QLoRA in torchtune\", \"score\": 0.14991707}]', name='tavily_search_results_json', id='010f7109-fbd9-4e1d-8f6d-3335da784c19', tool_call_id='call_Li3nQAEAsW2Ay9k6obpVB5H0', artifact={'query': 'latest Tweet of the first author of QLoRA', 'follow_up_questions': None, 'answer': None, 'images': [], 'results': [{'url': 'https://github.com/artidoro/qlora', 'title': 'artidoro/qlora - Efficient Finetuning of Quantized LLMs - GitHub', 'content': '## Latest commit\\n\\n## History\\n\\n## Repository files navigation\\n\\n# QLoRA: Efficient Finetuning of Quantized LLMs\\n\\n| Paper | Adapter Weights | Demo |\\n\\nThis repo supports the paper \"QLoRA: Efficient Finetuning of Quantized LLMs\", an effort to democratize access to LLM research.\\n\\nQLoRA uses bitsandbytes for quantization and is integrated with Hugging Face\\'s PEFT and transformers libraries. QLoRA was developed by members of the University of Washington\\'s UW NLP group.\\n\\n## Updates\\n\\n## Overview [...] You can specify the path to your dataset using the `--dataset` argument. If the `--dataset_format` argument is not set, it will default to the Alpaca format. Here are a few examples:\\n\\n`--dataset`\\n`--dataset_format`\\n\\n### Multi GPU\\n\\nMulti GPU training and inference work out-of-the-box with Hugging Face\\'s Accelerate. Note that the `per_device_train_batch_size` and `per_device_eval_batch_size` arguments are global batch sizes unlike what their name suggest. [...] # artidoro/qlora\\n\\n## Folders and files\\n\\n| Name | | Name | Last commit message | Last commit date |\\n| --- | --- | --- | --- | --- |\\n| Latest commit   History93 Commits | | |\\n| data/mmlu | | data/mmlu |  |  |\\n| eval | | eval |  |  |\\n| examples | | examples |  |  |\\n| scripts | | scripts |  |  |\\n| .gitignore | | .gitignore |  |  |\\n| LICENSE | | LICENSE |  |  |\\n| README.md | | README.md |  |  |\\n| qlora.py | | qlora.py |  |  |\\n| requirements.txt | | requirements.txt |  |  |\\n| View all files | | |', 'score': 0.2709874, 'raw_content': None}, {'url': 'https://arxiv.org/abs/2305.14314', 'title': '[2305.14314] QLoRA: Efficient Finetuning of Quantized LLMs - arXiv', 'content': \"close this message\\narXiv smileybones\\n\\n## arXiv Is Hiring a DevOps Engineer\\n\\nWork on one of the world's most important websites and make an impact on open science.\\n\\nCornell University\\n\\narXiv Is Hiring a DevOps Engineer\\n\\narxiv logo\\n\\nHelp | Advanced Search\\n\\narXiv logo\\nCornell University Logo\\n\\n## quick links\\n\\n# Computer Science > Machine Learning\\n\\n# Title:QLoRA: Efficient Finetuning of Quantized LLMs [...] Both individuals and organizations that work with arXivLabs have embraced and accepted our values of openness, community, excellence, and user data privacy. arXiv is committed to these values and only works with partners that adhere to them.\\n\\nHave an idea for a project that will add value for arXiv's community? Learn more about arXivLabs.\\n\\narXiv Operational Status   \\nGet status notifications via\\nemail\\nor slack [...] |  |  |\\n| --- | --- |\\n| Comments: | Extended NeurIPS submission |\\n| Subjects: | Machine Learning (cs.LG) |\\n| Cite as: | arXiv:2305.14314 [cs.LG] |\\n|  | (or  arXiv:2305.14314v1 [cs.LG] for this version) |\\n|  |  Focus to learn more  arXiv-issued DOI via DataCite |\\n\\n## Submission history\\n\\n## Access Paper:\\n\\nlicense icon\\n\\n### References & Citations\\n\\n### 6 blog links\\n\\n## BibTeX formatted citation\\n\\n### Bookmark\\n\\nBibSonomy logo\\nReddit logo\\n\\n# Bibliographic and Citation Tools\", 'score': 0.18207656, 'raw_content': None}, {'url': 'https://neurips.cc/virtual/2023/poster/71815', 'title': 'NeurIPS Poster QLoRA: Efficient Finetuning of Quantized LLMs', 'content': 'We present QLoRA, an efficient finetuning approach that reduces memory usage enough to finetune a 65B parameter model on a single 48GB GPU while preserving full 16-bit finetuning task performance. QLoRA backpropagates gradients through a frozen, 4-bit quantized pretrained language model into Low Rank Adapters~(LoRA). Our best model family, which we name Guanaco, outperforms all previous openly released models on the Vicuna benchmark, reaching 99.3% of the performance level of ChatGPT while only [...] We present QLoRA, an efficient finetuning approach that reduces memory usage enough to finetune a 65B parameter model on a single 48GB GPU while preserving full 16-bit finetuning task performance. QLoRA backpropagates gradients through a frozen, 4-bit quantized pretrained language model into Low Rank Adapters~(LoRA). Our best model family, which we name Guanaco, outperforms all previous openly released models on the Vicuna benchmark, reaching 99.3% of the performance level of ChatGPT while only [...] evaluations are a cheap and reasonable alternative to human evaluation. Furthermore, we find that current chatbot benchmarks are not trustworthy to accurately evaluate the performance levels of chatbots. A lemon-picked analysis demonstrates where Guanaco fails compared to ChatGPT. We release all of our models and code, including CUDA kernels for 4-bit training.', 'score': 0.17835435, 'raw_content': None}, {'url': 'https://news.ycombinator.com/item?id=36064568', 'title': 'QLoRA: Efficient Finetuning of Quantized LLMs | Hacker News', 'content': \"Altman's push for regulatory capture makes so much sense given how fast this field is going. Open models you can run on regular hardware are\", 'score': 0.1548358, 'raw_content': None}, {'url': 'https://docs.pytorch.org/torchtune/0.6/tutorials/qlora_finetune.html', 'title': 'Fine-Tuning Llama2 with QLoRA — torchtune 0.6 documentation', 'content': 'Catch up on the latest technical news and happenings\\n\\nStories from the PyTorch ecosystem\\n\\nLearn about the latest PyTorch tutorials, new, and more\\n\\nLearn how our community solves real, everyday machine learning problems with PyTorch\\n\\nFind events, webinars, and podcasts\\n\\nStay up-to-date with the latest updates\\n\\nLearn more about the PyTorch Foundation\\n\\nGetting Started\\n\\nFinetuning Recipes\\n\\nBasics\\n\\nTutorials\\n\\nDeep-Dives\\n\\nAPI Reference\\n\\n# Fine-Tuning Llama2 with QLoRA¶ [...] The QLoRA authors introduce two key abstractions to decrease memory usage and avoid accuracy degradation: the bespoke 4-bit NormatFloat\\ntype, and a double quantization method that quantizes the quantization parameters themselves to save even more memory. torchtune uses\\nthe NF4Tensor abstraction from the torchao library to build QLoRA components as specified in the paper.\\ntorchao is a PyTorch-native library that allows you to quantize and prune your models.\\n\\n## Using QLoRA to save memory¶ [...] In this tutorial, we’ll learn about QLoRA, an enhancement on top of\\nLoRA that maintains frozen model parameters in 4-bit quantized precision, thereby reducing memory usage. We’ll\\nwalk through how QLoRA can be utilized within torchtune to finetune a Llama2-7b model in <10 GB of memory.\\nIt is highly recommended to first develop an understanding of LoRA finetuning in torchtune.\\n\\nHow QLoRA saves memory over LoRA finetuning\\n\\nAn overview of QLoRA in torchtune', 'score': 0.14991707, 'raw_content': None}], 'response_time': 3.99}), ToolMessage(content='[{\"title\": \"#QLORA - Search / X\", \"url\": \"https://twitter.com/search?q=%23QLORA&src=hashtag_click\", \"content\": \"... Author: Piyush Thakur #AIforHealthcare #BrainTumorDetection #PaliGemma2 #HuggingFace #Transformers #MedicalAI #VisionLanguageModels #QLoRA #PyImageSearch.\", \"score\": 0.4921643}, {\"title\": \"artidoro/qlora - Efficient Finetuning of Quantized LLMs - GitHub\", \"url\": \"https://github.com/artidoro/qlora\", \"content\": \"## Latest commit\\\\n\\\\n## History\\\\n\\\\n## Repository files navigation\\\\n\\\\n# QLoRA: Efficient Finetuning of Quantized LLMs\\\\n\\\\n| Paper | Adapter Weights | Demo |\\\\n\\\\nThis repo supports the paper \\\\\"QLoRA: Efficient Finetuning of Quantized LLMs\\\\\", an effort to democratize access to LLM research.\\\\n\\\\nQLoRA uses bitsandbytes for quantization and is integrated with Hugging Face\\'s PEFT and transformers libraries. QLoRA was developed by members of the University of Washington\\'s UW NLP group.\\\\n\\\\n## Updates\\\\n\\\\n## Overview [...] You can specify the path to your dataset using the `--dataset` argument. If the `--dataset_format` argument is not set, it will default to the Alpaca format. Here are a few examples:\\\\n\\\\n`--dataset`\\\\n`--dataset_format`\\\\n\\\\n### Multi GPU\\\\n\\\\nMulti GPU training and inference work out-of-the-box with Hugging Face\\'s Accelerate. Note that the `per_device_train_batch_size` and `per_device_eval_batch_size` arguments are global batch sizes unlike what their name suggest. [...] # artidoro/qlora\\\\n\\\\n## Folders and files\\\\n\\\\n| Name | | Name | Last commit message | Last commit date |\\\\n| --- | --- | --- | --- | --- |\\\\n| Latest commit   History93 Commits | | |\\\\n| data/mmlu | | data/mmlu |  |  |\\\\n| eval | | eval |  |  |\\\\n| examples | | examples |  |  |\\\\n| scripts | | scripts |  |  |\\\\n| .gitignore | | .gitignore |  |  |\\\\n| LICENSE | | LICENSE |  |  |\\\\n| README.md | | README.md |  |  |\\\\n| qlora.py | | qlora.py |  |  |\\\\n| requirements.txt | | requirements.txt |  |  |\\\\n| View all files | | |\", \"score\": 0.240601}, {\"title\": \"Fine-Tuning Llama2 with QLoRA — torchtune 0.6 documentation\", \"url\": \"https://docs.pytorch.org/torchtune/0.6/tutorials/qlora_finetune.html\", \"content\": \"The QLoRA authors introduce two key abstractions to decrease memory usage and avoid accuracy degradation: the bespoke 4-bit NormatFloat\\\\ntype, and a double quantization method that quantizes the quantization parameters themselves to save even more memory. torchtune uses\\\\nthe NF4Tensor abstraction from the torchao library to build QLoRA components as specified in the paper.\\\\ntorchao is a PyTorch-native library that allows you to quantize and prune your models.\\\\n\\\\n## Using QLoRA to save memory¶ [...] Catch up on the latest technical news and happenings\\\\n\\\\nStories from the PyTorch ecosystem\\\\n\\\\nLearn about the latest PyTorch tutorials, new, and more\\\\n\\\\nLearn how our community solves real, everyday machine learning problems with PyTorch\\\\n\\\\nFind events, webinars, and podcasts\\\\n\\\\nStay up-to-date with the latest updates\\\\n\\\\nLearn more about the PyTorch Foundation\\\\n\\\\nGetting Started\\\\n\\\\nFinetuning Recipes\\\\n\\\\nBasics\\\\n\\\\nTutorials\\\\n\\\\nDeep-Dives\\\\n\\\\nAPI Reference\\\\n\\\\n# Fine-Tuning Llama2 with QLoRA¶ [...] QLoRA further quantizes the base model parameters into a bespoke 4-bit NormalFloat (NF4) data type, resulting in 4-8x less parameter memory usage while\\\\nlargely retaining model accuracy. As a result, the vast majority of parameters only take up 4 bits (as opposed to 16 or 32 bits by bf16/fp32 dtypes). This\\\\nquantization is done through the method highlighted in the original QLoRA paper. Adapter\", \"score\": 0.15996428}, {\"title\": \"[2305.14314] QLoRA: Efficient Finetuning of Quantized LLMs - arXiv\", \"url\": \"https://arxiv.org/abs/2305.14314\", \"content\": \"close this message\\\\narXiv smileybones\\\\n\\\\n## arXiv Is Hiring a DevOps Engineer\\\\n\\\\nWork on one of the world\\'s most important websites and make an impact on open science.\\\\n\\\\nCornell University\\\\n\\\\narXiv Is Hiring a DevOps Engineer\\\\n\\\\narxiv logo\\\\n\\\\nHelp | Advanced Search\\\\n\\\\narXiv logo\\\\nCornell University Logo\\\\n\\\\n## quick links\\\\n\\\\n# Computer Science > Machine Learning\\\\n\\\\n# Title:QLoRA: Efficient Finetuning of Quantized LLMs [...] Both individuals and organizations that work with arXivLabs have embraced and accepted our values of openness, community, excellence, and user data privacy. arXiv is committed to these values and only works with partners that adhere to them.\\\\n\\\\nHave an idea for a project that will add value for arXiv\\'s community? Learn more about arXivLabs.\\\\n\\\\narXiv Operational Status   \\\\nGet status notifications via\\\\nemail\\\\nor slack [...] # Code, Data and Media Associated with this Article\\\\n\\\\n# Demos\\\\n\\\\n# Recommenders and Search Tools\\\\n\\\\n# arXivLabs: experimental projects with community collaborators\\\\n\\\\narXivLabs is a framework that allows collaborators to develop and share new arXiv features directly on our website.\", \"score\": 0.1543763}, {\"title\": \"Goodreads Reviewers\\' Group discussion Twitter\", \"url\": \"https://www.goodreads.com/topic/show/17973888-twitter\", \"content\": \"A.R. Simmons (arsimmons) | 15 comments\\\\nChocomeiske  (cover-2-cover) | 4 comments\\\\nAmy Flint | 13 comments\\\\nTia Tormen (tiatormen)\\\\nEsmerelda Q. (esmereldaqjones) | 10 comments\\\\nH. El-Tahwagi (hel-tahwagi) | 9 comments\\\\nJoann Kinlaw (joannkinlaw) | 2 comments\\\\nElla (The Story Collector) | 2 comments\\\\nEmber-Raine Winters (ember-raine_winters) | 5 comments\\\\nJ C Steel (jcsteel) | 25 comments\\\\nLora Palmer (lorareedpalmer) | 4 comments\\\\nShashi | 19 comments\\\\nMatt Cowper | 6 comments\\\\nKate Collier | 1 comments [...] Up arrow\\\\nCora Tea Party Princess (corazie) | 661 comments\\\\nChikamso Efobi (cheexy) | 13 comments\\\\nAngelo Marcos (angelomarcos) | 1 comments\\\\nP.I. (thewordslinger) | 75 comments\\\\nJennifer S. Alderson (jennifesalderson) | 5 comments\\\\nLo-arna Green | 11 comments\\\\nAngel\\\\nTrisa (Absolute Bookishness)  (trisarey) | 2 comments\\\\nKay Brandt | 3 comments\\\\nAgnès Savigny | 3 comments\\\\nSequoia (sequoianagamatsu)\\\\nStephanie (stephnizi) | 15 comments\\\\nRichard Foley (richardfoley) | 6 comments\\\\nNina Obran | 5 comments [...] M.K. South | 5 comments\\\\nJulie Trettel | 3 comments\\\\nNatacha Lalande (natacha_lalande) | 10 comments\\\\nNever Never Land (nvrnvrldreviews) | 7 comments\\\\nAlyssa Janine Busia (alysinbookland) | 6 comments\\\\nJosie Jaffrey (josiejaffrey) | 14 comments\\\\nMelanie Mole | 2 comments\\\\nAriel McMillan (arielmcmillan41) | 7 comments\\\\n105786\", \"score\": 0.13613708}]', name='tavily_search_results_json', id='820bf4d7-56da-4deb-bd36-b32b60322541', tool_call_id='call_pUDm1AKucRbuu3CXn3ETVt2M', artifact={'query': 'latest Tweet of the second author of QLoRA', 'follow_up_questions': None, 'answer': None, 'images': [], 'results': [{'url': 'https://twitter.com/search?q=%23QLORA&src=hashtag_click', 'title': '#QLORA - Search / X', 'content': '... Author: Piyush Thakur #AIforHealthcare #BrainTumorDetection #PaliGemma2 #HuggingFace #Transformers #MedicalAI #VisionLanguageModels #QLoRA #PyImageSearch.', 'score': 0.4921643, 'raw_content': None}, {'url': 'https://github.com/artidoro/qlora', 'title': 'artidoro/qlora - Efficient Finetuning of Quantized LLMs - GitHub', 'content': '## Latest commit\\n\\n## History\\n\\n## Repository files navigation\\n\\n# QLoRA: Efficient Finetuning of Quantized LLMs\\n\\n| Paper | Adapter Weights | Demo |\\n\\nThis repo supports the paper \"QLoRA: Efficient Finetuning of Quantized LLMs\", an effort to democratize access to LLM research.\\n\\nQLoRA uses bitsandbytes for quantization and is integrated with Hugging Face\\'s PEFT and transformers libraries. QLoRA was developed by members of the University of Washington\\'s UW NLP group.\\n\\n## Updates\\n\\n## Overview [...] You can specify the path to your dataset using the `--dataset` argument. If the `--dataset_format` argument is not set, it will default to the Alpaca format. Here are a few examples:\\n\\n`--dataset`\\n`--dataset_format`\\n\\n### Multi GPU\\n\\nMulti GPU training and inference work out-of-the-box with Hugging Face\\'s Accelerate. Note that the `per_device_train_batch_size` and `per_device_eval_batch_size` arguments are global batch sizes unlike what their name suggest. [...] # artidoro/qlora\\n\\n## Folders and files\\n\\n| Name | | Name | Last commit message | Last commit date |\\n| --- | --- | --- | --- | --- |\\n| Latest commit   History93 Commits | | |\\n| data/mmlu | | data/mmlu |  |  |\\n| eval | | eval |  |  |\\n| examples | | examples |  |  |\\n| scripts | | scripts |  |  |\\n| .gitignore | | .gitignore |  |  |\\n| LICENSE | | LICENSE |  |  |\\n| README.md | | README.md |  |  |\\n| qlora.py | | qlora.py |  |  |\\n| requirements.txt | | requirements.txt |  |  |\\n| View all files | | |', 'score': 0.240601, 'raw_content': None}, {'url': 'https://docs.pytorch.org/torchtune/0.6/tutorials/qlora_finetune.html', 'title': 'Fine-Tuning Llama2 with QLoRA — torchtune 0.6 documentation', 'content': 'The QLoRA authors introduce two key abstractions to decrease memory usage and avoid accuracy degradation: the bespoke 4-bit NormatFloat\\ntype, and a double quantization method that quantizes the quantization parameters themselves to save even more memory. torchtune uses\\nthe NF4Tensor abstraction from the torchao library to build QLoRA components as specified in the paper.\\ntorchao is a PyTorch-native library that allows you to quantize and prune your models.\\n\\n## Using QLoRA to save memory¶ [...] Catch up on the latest technical news and happenings\\n\\nStories from the PyTorch ecosystem\\n\\nLearn about the latest PyTorch tutorials, new, and more\\n\\nLearn how our community solves real, everyday machine learning problems with PyTorch\\n\\nFind events, webinars, and podcasts\\n\\nStay up-to-date with the latest updates\\n\\nLearn more about the PyTorch Foundation\\n\\nGetting Started\\n\\nFinetuning Recipes\\n\\nBasics\\n\\nTutorials\\n\\nDeep-Dives\\n\\nAPI Reference\\n\\n# Fine-Tuning Llama2 with QLoRA¶ [...] QLoRA further quantizes the base model parameters into a bespoke 4-bit NormalFloat (NF4) data type, resulting in 4-8x less parameter memory usage while\\nlargely retaining model accuracy. As a result, the vast majority of parameters only take up 4 bits (as opposed to 16 or 32 bits by bf16/fp32 dtypes). This\\nquantization is done through the method highlighted in the original QLoRA paper. Adapter', 'score': 0.15996428, 'raw_content': None}, {'url': 'https://arxiv.org/abs/2305.14314', 'title': '[2305.14314] QLoRA: Efficient Finetuning of Quantized LLMs - arXiv', 'content': \"close this message\\narXiv smileybones\\n\\n## arXiv Is Hiring a DevOps Engineer\\n\\nWork on one of the world's most important websites and make an impact on open science.\\n\\nCornell University\\n\\narXiv Is Hiring a DevOps Engineer\\n\\narxiv logo\\n\\nHelp | Advanced Search\\n\\narXiv logo\\nCornell University Logo\\n\\n## quick links\\n\\n# Computer Science > Machine Learning\\n\\n# Title:QLoRA: Efficient Finetuning of Quantized LLMs [...] Both individuals and organizations that work with arXivLabs have embraced and accepted our values of openness, community, excellence, and user data privacy. arXiv is committed to these values and only works with partners that adhere to them.\\n\\nHave an idea for a project that will add value for arXiv's community? Learn more about arXivLabs.\\n\\narXiv Operational Status   \\nGet status notifications via\\nemail\\nor slack [...] # Code, Data and Media Associated with this Article\\n\\n# Demos\\n\\n# Recommenders and Search Tools\\n\\n# arXivLabs: experimental projects with community collaborators\\n\\narXivLabs is a framework that allows collaborators to develop and share new arXiv features directly on our website.\", 'score': 0.1543763, 'raw_content': None}, {'url': 'https://www.goodreads.com/topic/show/17973888-twitter', 'title': \"Goodreads Reviewers' Group discussion Twitter\", 'content': 'A.R. Simmons (arsimmons) | 15 comments\\nChocomeiske  (cover-2-cover) | 4 comments\\nAmy Flint | 13 comments\\nTia Tormen (tiatormen)\\nEsmerelda Q. (esmereldaqjones) | 10 comments\\nH. El-Tahwagi (hel-tahwagi) | 9 comments\\nJoann Kinlaw (joannkinlaw) | 2 comments\\nElla (The Story Collector) | 2 comments\\nEmber-Raine Winters (ember-raine_winters) | 5 comments\\nJ C Steel (jcsteel) | 25 comments\\nLora Palmer (lorareedpalmer) | 4 comments\\nShashi | 19 comments\\nMatt Cowper | 6 comments\\nKate Collier | 1 comments [...] Up arrow\\nCora Tea Party Princess (corazie) | 661 comments\\nChikamso Efobi (cheexy) | 13 comments\\nAngelo Marcos (angelomarcos) | 1 comments\\nP.I. (thewordslinger) | 75 comments\\nJennifer S. Alderson (jennifesalderson) | 5 comments\\nLo-arna Green | 11 comments\\nAngel\\nTrisa (Absolute Bookishness)  (trisarey) | 2 comments\\nKay Brandt | 3 comments\\nAgnès Savigny | 3 comments\\nSequoia (sequoianagamatsu)\\nStephanie (stephnizi) | 15 comments\\nRichard Foley (richardfoley) | 6 comments\\nNina Obran | 5 comments [...] M.K. South | 5 comments\\nJulie Trettel | 3 comments\\nNatacha Lalande (natacha_lalande) | 10 comments\\nNever Never Land (nvrnvrldreviews) | 7 comments\\nAlyssa Janine Busia (alysinbookland) | 6 comments\\nJosie Jaffrey (josiejaffrey) | 14 comments\\nMelanie Mole | 2 comments\\nAriel McMillan (arielmcmillan41) | 7 comments\\n105786', 'score': 0.13613708, 'raw_content': None}], 'response_time': 3.6}), ToolMessage(content='[{\"title\": \"artidoro/qlora - Efficient Finetuning of Quantized LLMs - GitHub\", \"url\": \"https://github.com/artidoro/qlora\", \"content\": \"There was an error while loading. Please reload this page.\\\\n\\\\nThere was an error while loading. Please reload this page.\\\\n\\\\n### Stars\\\\n\\\\n### Watchers\\\\n\\\\n### Forks\\\\n\\\\n## Releases\\\\n\\\\n## Packages 0\\\\n\\\\n### Uh oh!\\\\n\\\\nThere was an error while loading. Please reload this page.\\\\n\\\\nThere was an error while loading. Please reload this page.\\\\n\\\\n## Contributors 16\\\\n\\\\n@artidoro\\\\n@TimDettmers\\\\n@tobi\\\\n@KKcorps\\\\n@Birch-san\\\\n@pmysl\\\\n@bubundas17\\\\n@abhilash1910\\\\n@Qubitium\\\\n@dameikle\\\\n@ranchlai\\\\n@steremma\\\\n@muelletm\\\\n@lhoestq\\\\n\\\\n## Languages [...] ## Latest commit\\\\n\\\\n## History\\\\n\\\\n## Repository files navigation\\\\n\\\\n# QLoRA: Efficient Finetuning of Quantized LLMs\\\\n\\\\n| Paper | Adapter Weights | Demo |\\\\n\\\\nThis repo supports the paper \\\\\"QLoRA: Efficient Finetuning of Quantized LLMs\\\\\", an effort to democratize access to LLM research.\\\\n\\\\nQLoRA uses bitsandbytes for quantization and is integrated with Hugging Face\\'s PEFT and transformers libraries. QLoRA was developed by members of the University of Washington\\'s UW NLP group.\\\\n\\\\n## Updates\\\\n\\\\n## Overview [...] You can specify the path to your dataset using the `--dataset` argument. If the `--dataset_format` argument is not set, it will default to the Alpaca format. Here are a few examples:\\\\n\\\\n`--dataset`\\\\n`--dataset_format`\\\\n\\\\n### Multi GPU\\\\n\\\\nMulti GPU training and inference work out-of-the-box with Hugging Face\\'s Accelerate. Note that the `per_device_train_batch_size` and `per_device_eval_batch_size` arguments are global batch sizes unlike what their name suggest.\", \"score\": 0.31538844}, {\"title\": \"QLoRA: Efficient Finetuning of Quantized LLMs | Hacker News\", \"url\": \"https://news.ycombinator.com/item?id=36064568\", \"content\": \"I saw their Code Interpreter demo on Twitter (converting an uploaded video file in a chat UI) and decided that I need that, without continuing\", \"score\": 0.25842467}, {\"title\": \"[2305.14314] QLoRA: Efficient Finetuning of Quantized LLMs - arXiv\", \"url\": \"https://arxiv.org/abs/2305.14314\", \"content\": \"close this message\\\\narXiv smileybones\\\\n\\\\n## arXiv Is Hiring a DevOps Engineer\\\\n\\\\nWork on one of the world\\'s most important websites and make an impact on open science.\\\\n\\\\nCornell University\\\\n\\\\narXiv Is Hiring a DevOps Engineer\\\\n\\\\narxiv logo\\\\n\\\\nHelp | Advanced Search\\\\n\\\\narXiv logo\\\\nCornell University Logo\\\\n\\\\n## quick links\\\\n\\\\n# Computer Science > Machine Learning\\\\n\\\\n# Title:QLoRA: Efficient Finetuning of Quantized LLMs [...] Both individuals and organizations that work with arXivLabs have embraced and accepted our values of openness, community, excellence, and user data privacy. arXiv is committed to these values and only works with partners that adhere to them.\\\\n\\\\nHave an idea for a project that will add value for arXiv\\'s community? Learn more about arXivLabs.\\\\n\\\\narXiv Operational Status   \\\\nGet status notifications via\\\\nemail\\\\nor slack [...] # Code, Data and Media Associated with this Article\\\\n\\\\n# Demos\\\\n\\\\n# Recommenders and Search Tools\\\\n\\\\n# arXivLabs: experimental projects with community collaborators\\\\n\\\\narXivLabs is a framework that allows collaborators to develop and share new arXiv features directly on our website.\", \"score\": 0.16091137}, {\"title\": \"QLoRA: Fine-Tuning Large Models on My Desktop - LinkedIn\", \"url\": \"https://www.linkedin.com/pulse/qlora-fine-tuning-large-models-my-desktop-muhtasim-munif-fahim-snnfc\", \"content\": \"The brilliance of QLoRA lies in its three-part strategy. First, it quantizes the pretrained model to 4-bit precision using a technique\", \"score\": 0.13085106}, {\"title\": \"Data Labeling with Llama 3. Political Tweet Analysis with few-shot…\", \"url\": \"https://medium.com/@geronimo7/data-labelling-with-llama-3-5906edd3a5c1\", \"content\": \"We will start by loading a political tweet dataset, constructing few-shot prompts and querying Llama 3 8b to check if it can predict the political party of the tweet author.\\\\n\\\\n## Load dataset\\\\n\\\\nLet’s start by loading the `senator-tweets` dataset (kudos to the author \\\\n\\\\nMary Newhauser\\\\n\\\\n).\\\\n\\\\n`senator-tweets`\\\\n\\\\nThis dataset holds tweets by various senators including the text, date, author and the political party of the author. We will use `text` and`party` only.\\\\n\\\\n`text`\\\\n`party` [...] This is what the complete 5-shot prompt for the tweet “Four of the states in had impeachment clauses in their state constitution that specifically allowed impeaching a former official, but when they wrote the United States Constitution, they only allowed current officials” looks like:\\\\n\\\\nAnd this is what the Llama replies:\\\\n\\\\nAnd that’s wrong. Senator Lankford is a republican apparently. [...] Help\\\\n\\\\nStatus\\\\n\\\\nAbout\\\\n\\\\nCareers\\\\n\\\\nPress\\\\n\\\\nBlog\\\\n\\\\nPrivacy\\\\n\\\\nRules\\\\n\\\\nTerms\\\\n\\\\nText to speech\", \"score\": 0.036953297}]', name='tavily_search_results_json', id='f7f70a81-5ea3-4a11-8225-034972db1386', tool_call_id='call_3DssLoo7ERUiBxOYIkrawJoi', artifact={'query': 'latest Tweet of the third author of QLoRA', 'follow_up_questions': None, 'answer': None, 'images': [], 'results': [{'url': 'https://github.com/artidoro/qlora', 'title': 'artidoro/qlora - Efficient Finetuning of Quantized LLMs - GitHub', 'content': 'There was an error while loading. Please reload this page.\\n\\nThere was an error while loading. Please reload this page.\\n\\n### Stars\\n\\n### Watchers\\n\\n### Forks\\n\\n## Releases\\n\\n## Packages 0\\n\\n### Uh oh!\\n\\nThere was an error while loading. Please reload this page.\\n\\nThere was an error while loading. Please reload this page.\\n\\n## Contributors 16\\n\\n@artidoro\\n@TimDettmers\\n@tobi\\n@KKcorps\\n@Birch-san\\n@pmysl\\n@bubundas17\\n@abhilash1910\\n@Qubitium\\n@dameikle\\n@ranchlai\\n@steremma\\n@muelletm\\n@lhoestq\\n\\n## Languages [...] ## Latest commit\\n\\n## History\\n\\n## Repository files navigation\\n\\n# QLoRA: Efficient Finetuning of Quantized LLMs\\n\\n| Paper | Adapter Weights | Demo |\\n\\nThis repo supports the paper \"QLoRA: Efficient Finetuning of Quantized LLMs\", an effort to democratize access to LLM research.\\n\\nQLoRA uses bitsandbytes for quantization and is integrated with Hugging Face\\'s PEFT and transformers libraries. QLoRA was developed by members of the University of Washington\\'s UW NLP group.\\n\\n## Updates\\n\\n## Overview [...] You can specify the path to your dataset using the `--dataset` argument. If the `--dataset_format` argument is not set, it will default to the Alpaca format. Here are a few examples:\\n\\n`--dataset`\\n`--dataset_format`\\n\\n### Multi GPU\\n\\nMulti GPU training and inference work out-of-the-box with Hugging Face\\'s Accelerate. Note that the `per_device_train_batch_size` and `per_device_eval_batch_size` arguments are global batch sizes unlike what their name suggest.', 'score': 0.31538844, 'raw_content': None}, {'url': 'https://news.ycombinator.com/item?id=36064568', 'title': 'QLoRA: Efficient Finetuning of Quantized LLMs | Hacker News', 'content': 'I saw their Code Interpreter demo on Twitter (converting an uploaded video file in a chat UI) and decided that I need that, without continuing', 'score': 0.25842467, 'raw_content': None}, {'url': 'https://arxiv.org/abs/2305.14314', 'title': '[2305.14314] QLoRA: Efficient Finetuning of Quantized LLMs - arXiv', 'content': \"close this message\\narXiv smileybones\\n\\n## arXiv Is Hiring a DevOps Engineer\\n\\nWork on one of the world's most important websites and make an impact on open science.\\n\\nCornell University\\n\\narXiv Is Hiring a DevOps Engineer\\n\\narxiv logo\\n\\nHelp | Advanced Search\\n\\narXiv logo\\nCornell University Logo\\n\\n## quick links\\n\\n# Computer Science > Machine Learning\\n\\n# Title:QLoRA: Efficient Finetuning of Quantized LLMs [...] Both individuals and organizations that work with arXivLabs have embraced and accepted our values of openness, community, excellence, and user data privacy. arXiv is committed to these values and only works with partners that adhere to them.\\n\\nHave an idea for a project that will add value for arXiv's community? Learn more about arXivLabs.\\n\\narXiv Operational Status   \\nGet status notifications via\\nemail\\nor slack [...] # Code, Data and Media Associated with this Article\\n\\n# Demos\\n\\n# Recommenders and Search Tools\\n\\n# arXivLabs: experimental projects with community collaborators\\n\\narXivLabs is a framework that allows collaborators to develop and share new arXiv features directly on our website.\", 'score': 0.16091137, 'raw_content': None}, {'url': 'https://www.linkedin.com/pulse/qlora-fine-tuning-large-models-my-desktop-muhtasim-munif-fahim-snnfc', 'title': 'QLoRA: Fine-Tuning Large Models on My Desktop - LinkedIn', 'content': 'The brilliance of QLoRA lies in its three-part strategy. First, it quantizes the pretrained model to 4-bit precision using a technique', 'score': 0.13085106, 'raw_content': None}, {'url': 'https://medium.com/@geronimo7/data-labelling-with-llama-3-5906edd3a5c1', 'title': 'Data Labeling with Llama 3. Political Tweet Analysis with few-shot…', 'content': 'We will start by loading a political tweet dataset, constructing few-shot prompts and querying Llama 3 8b to check if it can predict the political party of the tweet author.\\n\\n## Load dataset\\n\\nLet’s start by loading the `senator-tweets` dataset (kudos to the author \\n\\nMary Newhauser\\n\\n).\\n\\n`senator-tweets`\\n\\nThis dataset holds tweets by various senators including the text, date, author and the political party of the author. We will use `text` and`party` only.\\n\\n`text`\\n`party` [...] This is what the complete 5-shot prompt for the tweet “Four of the states in had impeachment clauses in their state constitution that specifically allowed impeaching a former official, but when they wrote the United States Constitution, they only allowed current officials” looks like:\\n\\nAnd this is what the Llama replies:\\n\\nAnd that’s wrong. Senator Lankford is a republican apparently. [...] Help\\n\\nStatus\\n\\nAbout\\n\\nCareers\\n\\nPress\\n\\nBlog\\n\\nPrivacy\\n\\nRules\\n\\nTerms\\n\\nText to speech', 'score': 0.036953297, 'raw_content': None}], 'response_time': 4.37})]\n",
            "\n",
            "\n",
            "\n",
            "Receiving update from node: 'agent'\n",
            "[AIMessage(content='I found the QLoRA paper on arXiv, titled \"QLoRA: Efficient Finetuning of Quantized LLMs,\" authored by Tim Dettmers, Artidoro Pagnoni, Ari Holtzman, and Luke Zettlemoyer. \\n\\nI also retrieved the latest Tweets from each of these authors:\\n- Tim Dettmers\\n- Artidoro Pagnoni\\n- Ari Holtzman\\n- Luke Zettlemoyer\\n\\nWould you like to see the details of the paper or the latest Tweets from each author?', additional_kwargs={'refusal': None}, response_metadata={'token_usage': {'completion_tokens': 114, 'prompt_tokens': 6125, 'total_tokens': 6239, 'completion_tokens_details': {'accepted_prediction_tokens': 0, 'audio_tokens': 0, 'reasoning_tokens': 0, 'rejected_prediction_tokens': 0}, 'prompt_tokens_details': {'audio_tokens': 0, 'cached_tokens': 0}}, 'model_name': 'gpt-4.1-nano-2025-04-14', 'system_fingerprint': None, 'id': 'chatcmpl-Bt24QFh39rCsrJnLjcFYkjCbGgNhn', 'service_tier': 'default', 'finish_reason': 'stop', 'logprobs': None}, id='run--3c8166d1-7060-4ec0-9830-3f612fa38dbc-0', usage_metadata={'input_tokens': 6125, 'output_tokens': 114, 'total_tokens': 6239, 'input_token_details': {'audio': 0, 'cache_read': 0}, 'output_token_details': {'audio': 0, 'reasoning': 0}})]\n",
            "\n",
            "\n",
            "\n"
          ]
        }
      ],
      "source": [
        "inputs = {\"messages\" : [HumanMessage(content=\"Search Arxiv for the QLoRA paper, then search each of the authors to find out their latest Tweet using Tavily!\")]}\n",
        "\n",
        "async for chunk in simple_agent_graph.astream(inputs, stream_mode=\"updates\"):\n",
        "    for node, values in chunk.items():\n",
        "        print(f\"Receiving update from node: '{node}'\")\n",
        "        if node == \"action\":\n",
        "          print(f\"Tool Used: {values['messages'][0].name}\")\n",
        "        print(values[\"messages\"])\n",
        "\n",
        "        print(\"\\n\\n\")"
      ]
    },
    {
      "cell_type": "markdown",
      "metadata": {
        "id": "CXzDlZVz1Hnf"
      },
      "source": [
        "#### 🏗️ Activity #2:\n",
        "\n",
        "Please write out the steps the agent took to arrive at the correct answer.\n",
        "\n",
        "##### ✅ Answer:\n",
        "\n",
        "- The agent analyzed the query - It understood it needed to find QLoRA paper and then search for each author's latest tweets\n",
        "- Then it called the Arxiv tool. It searched for \"QLoRA\" to get the paper and extract author names (Tim Dettmers, Artidoro Pagnoni, Ari Holtzman, Luke Zettlemoyer)\n",
        "- It called tavily_search_results_json for each of the four authors with queries like \"Tim Dettmers latest tweet\", \"Artidoro Pagnoni latest tweet\", etc.\n",
        "- It combined the paper details with the author tweet data\n",
        "- Then it generated a final response - It formatted everything into a comprehensive answer that included \"Here are the latest tweets or relevant updates from the authors of the QLoRA paper\" with specific tweet content for each author"
      ]
    },
    {
      "cell_type": "markdown",
      "metadata": {},
      "source": [
        "# 🤝 Breakout Room #2"
      ]
    },
    {
      "cell_type": "markdown",
      "metadata": {
        "id": "v7c8-Uyarh1v"
      },
      "source": [
        "## Part 1: LangSmith Evaluator"
      ]
    },
    {
      "cell_type": "markdown",
      "metadata": {
        "id": "pV3XeFOT1Sar"
      },
      "source": [
        "### Pre-processing for LangSmith"
      ]
    },
    {
      "cell_type": "markdown",
      "metadata": {
        "id": "wruQCuzewUuO"
      },
      "source": [
        "To do a little bit more preprocessing, let's wrap our LangGraph agent in a simple chain."
      ]
    },
    {
      "cell_type": "code",
      "execution_count": 16,
      "metadata": {
        "id": "oeXdQgbxwhTv"
      },
      "outputs": [],
      "source": [
        "def convert_inputs(input_object):\n",
        "  return {\"messages\" : [HumanMessage(content=input_object[\"question\"])]}\n",
        "\n",
        "def parse_output(input_state):\n",
        "  return input_state[\"messages\"][-1].content\n",
        "\n",
        "agent_chain_with_formatting = convert_inputs | simple_agent_graph | parse_output"
      ]
    },
    {
      "cell_type": "code",
      "execution_count": 17,
      "metadata": {
        "colab": {
          "base_uri": "https://localhost:8080/",
          "height": 105
        },
        "id": "orYxBZXSxJjZ",
        "outputId": "76be837b-6424-4516-8f63-07fbd8c25bf5"
      },
      "outputs": [
        {
          "data": {
            "text/plain": [
              "\"RAG can refer to different concepts depending on the context. Could you please specify whether you're asking about RAG in the context of project management, machine learning, or another field?\""
            ]
          },
          "execution_count": 17,
          "metadata": {},
          "output_type": "execute_result"
        }
      ],
      "source": [
        "agent_chain_with_formatting.invoke({\"question\" : \"What is RAG?\"})"
      ]
    },
    {
      "cell_type": "markdown",
      "metadata": {
        "id": "f9UkCIqkpyZu"
      },
      "source": [
        "### Task 1: Creating An Evaluation Dataset\n",
        "\n",
        "Just as we saw last week, we'll want to create a dataset to test our Agent's ability to answer questions.\n",
        "\n",
        "In order to do this - we'll want to provide some questions and some answers. Let's look at how we can create such a dataset below.\n",
        "\n",
        "```python\n",
        "questions = [\n",
        "    \"What optimizer is used in QLoRA?\",\n",
        "    \"What data type was created in the QLoRA paper?\",\n",
        "    \"What is a Retrieval Augmented Generation system?\",\n",
        "    \"Who authored the QLoRA paper?\",\n",
        "    \"What is the most popular deep learning framework?\",\n",
        "    \"What significant improvements does the LoRA system make?\"\n",
        "]\n",
        "\n",
        "answers = [\n",
        "    {\"must_mention\" : [\"paged\", \"optimizer\"]},\n",
        "    {\"must_mention\" : [\"NF4\", \"NormalFloat\"]},\n",
        "    {\"must_mention\" : [\"ground\", \"context\"]},\n",
        "    {\"must_mention\" : [\"Tim\", \"Dettmers\"]},\n",
        "    {\"must_mention\" : [\"PyTorch\", \"TensorFlow\"]},\n",
        "    {\"must_mention\" : [\"reduce\", \"parameters\"]},\n",
        "]\n",
        "```"
      ]
    },
    {
      "cell_type": "markdown",
      "metadata": {
        "id": "VfMXF2KAsQxs"
      },
      "source": [
        "#### 🏗️ Activity #3:\n",
        "\n",
        "Please create a dataset in the above format with at least 5 questions."
      ]
    },
    {
      "cell_type": "code",
      "execution_count": 18,
      "metadata": {
        "id": "CbagRuJop83E"
      },
      "outputs": [],
      "source": [
        "questions = [\n",
        "    \"Who is the current captain of the Los Angeles Lakers?\",\n",
        "    \"What is the capital city of Japan?\",\n",
        "    \"What is the tallest building in the world?\",\n",
        "    \"What is the national sport of Canada?\",\n",
        "    \"What is the largest city in Australia?\",\n",
        "    \"Who is the most decorated Olympian of all time?\"\n",
        "]\n",
        "\n",
        "answers = [\n",
        "    {\"must_mention\": [\"LeBron\", \"James\"]},\n",
        "    {\"must_mention\": [\"Tokyo\"]},\n",
        "    {\"must_mention\": [\"Burj\", \"Khalifa\"]},\n",
        "    {\"must_mention\": [\"hockey\", \"ice\"]},\n",
        "    {\"must_mention\": [\"Sydney\"]},\n",
        "    {\"must_mention\": [\"Michael\", \"Phelps\"]}\n",
        "]"
      ]
    },
    {
      "cell_type": "markdown",
      "metadata": {
        "id": "z7QVFuAmsh7L"
      },
      "source": [
        "Now we can add our dataset to our LangSmith project using the following code which we saw last Thursday!"
      ]
    },
    {
      "cell_type": "code",
      "execution_count": 19,
      "metadata": {
        "id": "RLfrZrgSsn85"
      },
      "outputs": [
        {
          "data": {
            "text/plain": [
              "{'example_ids': ['e9e19176-21ee-417b-a6b9-c75a4fa7d1e8',\n",
              "  'fdf8eae1-ea21-4da3-9b75-910d86874f9d',\n",
              "  'c7628b62-b384-4699-b88b-fe184a469a57',\n",
              "  'cc149350-9f4e-425c-8177-2677462adf0b',\n",
              "  'ef95e1b6-2e6e-46f2-9e09-f474335f8352',\n",
              "  '262f9c1c-8047-4f85-866b-91a6659ce6b6'],\n",
              " 'count': 6}"
            ]
          },
          "execution_count": 19,
          "metadata": {},
          "output_type": "execute_result"
        }
      ],
      "source": [
        "from langsmith import Client\n",
        "\n",
        "client = Client()\n",
        "\n",
        "dataset_name = f\"Retrieval Augmented Generation - Evaluation Dataset - {uuid4().hex[0:8]}\"\n",
        "\n",
        "dataset = client.create_dataset(\n",
        "    dataset_name=dataset_name,\n",
        "    description=\"Questions about the QLoRA Paper to Evaluate RAG over the same paper.\"\n",
        ")\n",
        "\n",
        "client.create_examples(\n",
        "    inputs=[{\"question\" : q} for q in questions],\n",
        "    outputs=answers,\n",
        "    dataset_id=dataset.id,\n",
        ")"
      ]
    },
    {
      "cell_type": "markdown",
      "metadata": {
        "id": "ciV73F9Q04w0"
      },
      "source": [
        "#### ❓ Question #3:\n",
        "\n",
        "How are the correct answers associated with the questions?\n",
        "\n",
        "> NOTE: Feel free to indicate if this is problematic or not\n",
        "\n",
        "##### ✅ Answer:\n",
        "\n",
        "The correct answers are associated with the questions by their position in the list. The first question in the questions list is matched with the first answer in the answers list, the second question with the second answer, and so on.\n",
        "\n",
        "- Potential Issue: If the lists get out of sync (e.g., a question is added or removed without updating the answers list), the associations will be incorrect.\n",
        "- Safer Alternative: Use a structure that explicitly pairs each question with its answer, such as a list of dictionaries with both question and answer fields."
      ]
    },
    {
      "cell_type": "markdown",
      "metadata": {
        "id": "-lRTXUrTtP9Y"
      },
      "source": [
        "### Task 2: Adding Evaluators\n",
        "\n",
        "Now we can add a custom evaluator to see if our responses contain the expected information.\n",
        "\n",
        "We'll be using a fairly naive exact-match process to determine if our response contains specific strings."
      ]
    },
    {
      "cell_type": "code",
      "execution_count": 20,
      "metadata": {
        "id": "QrAUXMFftlAY"
      },
      "outputs": [],
      "source": [
        "from langsmith.evaluation import EvaluationResult, run_evaluator\n",
        "\n",
        "@run_evaluator\n",
        "def must_mention(run, example) -> EvaluationResult:\n",
        "    prediction = run.outputs.get(\"output\") or \"\"\n",
        "    required = example.outputs.get(\"must_mention\") or []\n",
        "    score = all(phrase in prediction for phrase in required)\n",
        "    return EvaluationResult(key=\"must_mention\", score=score)"
      ]
    },
    {
      "cell_type": "markdown",
      "metadata": {
        "id": "PNtHORUh0jZY"
      },
      "source": [
        "#### ❓ Question #4:\n",
        "\n",
        "What are some ways you could improve this metric as-is?\n",
        "\n",
        "> NOTE: Alternatively you can suggest where gaps exist in this method.\n",
        "##### ✅ Answer:\n",
        "\n",
        "### Improvements\n",
        "- Case-insensitive matching - \"ice hockey\" vs \"Ice Hockey\"\n",
        "- Semantic matching - recognize synonyms and similar phrases\n",
        "- Fuzzy matching - allow for typos and variations\n",
        "- Context checking - verify words are used correctly, not just listed\n",
        "- LLM-based evaluation - use AI to judge relevance instead of exact strings\n",
        "\n",
        "### Gaps\n",
        "- Gives \"pass\" to answers that just list required words without actually answering\n",
        "- Fails correct answers that use different wording\n",
        "- Doesn't check answer quality or completeness like Lebron is not the only captain of Lakers "
      ]
    },
    {
      "cell_type": "markdown",
      "metadata": {
        "id": "r1RJr349zhv7"
      },
      "source": [
        "Task 3: Evaluating\n",
        "\n",
        "All that is left to do is evaluate our agent's response!"
      ]
    },
    {
      "cell_type": "code",
      "execution_count": 21,
      "metadata": {
        "colab": {
          "base_uri": "https://localhost:8080/",
          "height": 118,
          "referenced_widgets": [
            "efcf57067cf743d8b4ce059a61cbe02e",
            "53e33aae3b97490c82aec7bbb0d6ebba",
            "ad84e0e971d3455db2efe7dd0d1f803e",
            "72adef9b70dd48198b7322b6c5b113cf",
            "8a61d045ffd44ac58f3f13eb10044836",
            "041e22a9b5514e36bd4d1dac01d5d398",
            "886d762f2a7c421382efb5502c6d42a1",
            "ab91fd625bbd43afbf8c6398193a88d0",
            "716557ad09874dcb989d75f7c74424cd",
            "77d4c0ebaae045b58efc4f789c9a2360",
            "0d622ccc56264fac8fd7508dbdbe6e29"
          ]
        },
        "id": "p5TeCUUkuGld",
        "outputId": "2f7d62a2-e78d-447a-d07b-f9e4d500fb79"
      },
      "outputs": [
        {
          "name": "stdout",
          "output_type": "stream",
          "text": [
            "View the evaluation results for experiment: 'Search Pipeline - Evaluation - b02b-2b8e6c16' at:\n",
            "https://smith.langchain.com/o/52c4cf8c-3e10-4738-ae6a-bc186d787252/datasets/ec94ddec-4cda-4a9e-8368-96e8776253cb/compare?selectedSessions=8db35b21-6ad8-4db2-9ddb-24f791a31207\n",
            "\n",
            "\n"
          ]
        },
        {
          "data": {
            "application/vnd.jupyter.widget-view+json": {
              "model_id": "547aca71c0934cc5b38ad4e80279b46a",
              "version_major": 2,
              "version_minor": 0
            },
            "text/plain": [
              "0it [00:00, ?it/s]"
            ]
          },
          "metadata": {},
          "output_type": "display_data"
        }
      ],
      "source": [
        "experiment_results = client.evaluate(\n",
        "    agent_chain_with_formatting,\n",
        "    data=dataset_name,\n",
        "    evaluators=[must_mention],\n",
        "    experiment_prefix=f\"Search Pipeline - Evaluation - {uuid4().hex[0:4]}\",\n",
        "    metadata={\"version\": \"1.0.0\"},\n",
        ")"
      ]
    },
    {
      "cell_type": "code",
      "execution_count": 22,
      "metadata": {
        "colab": {
          "base_uri": "https://localhost:8080/",
          "height": 342
        },
        "id": "eeEqU7s05Byu",
        "outputId": "78395075-a05d-4ebd-c798-ed968b935318"
      },
      "outputs": [
        {
          "data": {
            "text/html": [
              "<ExperimentResults Search Pipeline - Evaluation - b02b-2b8e6c16>"
            ],
            "text/plain": [
              "<ExperimentResults Search Pipeline - Evaluation - b02b-2b8e6c16>"
            ]
          },
          "execution_count": 22,
          "metadata": {},
          "output_type": "execute_result"
        }
      ],
      "source": [
        "experiment_results"
      ]
    },
    {
      "cell_type": "markdown",
      "metadata": {
        "id": "jhTNe4kWrplB"
      },
      "source": [
        "## Part 2: LangGraph with Helpfulness:"
      ]
    },
    {
      "cell_type": "markdown",
      "metadata": {
        "id": "w1wKRddbIY_S"
      },
      "source": [
        "### Task 3: Adding Helpfulness Check and \"Loop\" Limits\n",
        "\n",
        "Now that we've done evaluation - let's see if we can add an extra step where we review the content we've generated to confirm if it fully answers the user's query!\n",
        "\n",
        "We're going to make a few key adjustments to account for this:\n",
        "\n",
        "1. We're going to add an artificial limit on how many \"loops\" the agent can go through - this will help us to avoid the potential situation where we never exit the loop.\n",
        "2. We'll add to our existing conditional edge to obtain the behaviour we desire."
      ]
    },
    {
      "cell_type": "markdown",
      "metadata": {
        "id": "npTYJ8ayR5B3"
      },
      "source": [
        "First, let's define our state again - we can check the length of the state object, so we don't need additional state for this."
      ]
    },
    {
      "cell_type": "code",
      "execution_count": 23,
      "metadata": {
        "id": "-LQ84YhyJG0w"
      },
      "outputs": [],
      "source": [
        "class AgentState(TypedDict):\n",
        "  messages: Annotated[list, add_messages]"
      ]
    },
    {
      "cell_type": "markdown",
      "metadata": {
        "id": "sD7EV0HqSQcb"
      },
      "source": [
        "Now we can set our graph up! This process will be almost entirely the same - with the inclusion of one additional node/conditional edge!"
      ]
    },
    {
      "cell_type": "markdown",
      "metadata": {
        "id": "oajBwLkFVi1N"
      },
      "source": [
        "#### 🏗️ Activity #5:\n",
        "\n",
        "Please write markdown for the following cells to explain what each is doing."
      ]
    },
    {
      "cell_type": "markdown",
      "metadata": {
        "id": "M6rN7feNVn9f"
      },
      "source": [
        "##### YOUR MARKDOWN HERE\n",
        "##### ✅ Answer:\n",
        "\n",
        "##### Creating the Graph Structure\n",
        "\n",
        "This code creates a new LangGraph with helpfulness checking. We're setting up two main nodes: the \"agent\" node that handles the AI model calls, and the \"action\" node that executes tools when needed. Think of it as building the basic structure of our intelligent assistant."
      ]
    },
    {
      "cell_type": "code",
      "execution_count": 24,
      "metadata": {
        "colab": {
          "base_uri": "https://localhost:8080/"
        },
        "id": "6r6XXA5FJbVf",
        "outputId": "ff713041-e498-4f0f-a875-a03502b87729"
      },
      "outputs": [
        {
          "data": {
            "text/plain": [
              "<langgraph.graph.state.StateGraph at 0x11ab0e490>"
            ]
          },
          "execution_count": 24,
          "metadata": {},
          "output_type": "execute_result"
        }
      ],
      "source": [
        "graph_with_helpfulness_check = StateGraph(AgentState)\n",
        "\n",
        "graph_with_helpfulness_check.add_node(\"agent\", call_model)\n",
        "graph_with_helpfulness_check.add_node(\"action\", tool_node)"
      ]
    },
    {
      "cell_type": "markdown",
      "metadata": {
        "id": "XZ22o2mWVrfp"
      },
      "source": [
        "##### YOUR MARKDOWN HERE\n",
        "\n",
        "##### ✅ Answer:\n",
        "\n",
        "##### Setting the Entry Point\n",
        "\n",
        "Here we're telling the graph where to start. The \"agent\" node is our entry point, meaning every conversation begins with the AI model processing the user's input. It's like setting the starting line for a race."
      ]
    },
    {
      "cell_type": "code",
      "execution_count": 25,
      "metadata": {
        "colab": {
          "base_uri": "https://localhost:8080/"
        },
        "id": "HNWHwWxuRiLY",
        "outputId": "295f5a35-ceff-452a-ffb8-c52eada6a816"
      },
      "outputs": [
        {
          "data": {
            "text/plain": [
              "<langgraph.graph.state.StateGraph at 0x11ab0e490>"
            ]
          },
          "execution_count": 25,
          "metadata": {},
          "output_type": "execute_result"
        }
      ],
      "source": [
        "graph_with_helpfulness_check.set_entry_point(\"agent\")"
      ]
    },
    {
      "cell_type": "markdown",
      "metadata": {
        "id": "rsXeF6xlaXOZ"
      },
      "source": [
        "##### YOUR MARKDOWN HERE\n",
        "\n",
        "##### ✅ Answer:\n",
        "\n",
        "##### Understanding the Smart Decision Maker\n",
        "\n",
        "This function acts as a smart decision maker that determines what the agent should do next. It works like a traffic controller for our LangGraph workflow.\n",
        "\n",
        "First, it checks if the last message from the agent contains tool calls. If it does, that means the agent wants to use a tool (like searching the web or looking up papers), so it sends the flow to the \"action\" node to execute those tools.\n",
        "\n",
        "If there are no tool calls, it means the agent gave a direct response. Here's where it gets interesting - the function then evaluates whether that response is actually helpful to the user's original question. It does this by comparing the initial query with the final response using another AI model.\n",
        "\n",
        "The function also includes a safety mechanism - if the conversation has gone through more than 10 messages, it automatically ends to prevent infinite loops.\n",
        "\n",
        "If the helpfulness check says the response is good (contains \"Y\"), it ends the conversation. If not (contains \"N\"), it sends the flow back to the agent to try again and provide a better answer."
      ]
    },
    {
      "cell_type": "code",
      "execution_count": 26,
      "metadata": {
        "id": "z_Sq3A9SaV1O"
      },
      "outputs": [],
      "source": [
        "from langchain_core.prompts import PromptTemplate\n",
        "from langchain_core.output_parsers import StrOutputParser\n",
        "\n",
        "def tool_call_or_helpful(state):\n",
        "  last_message = state[\"messages\"][-1]\n",
        "\n",
        "  if last_message.tool_calls:\n",
        "    return \"action\"\n",
        "\n",
        "  initial_query = state[\"messages\"][0]\n",
        "  final_response = state[\"messages\"][-1]\n",
        "\n",
        "  if len(state[\"messages\"]) > 10:\n",
        "    return \"END\"\n",
        "\n",
        "  prompt_template = \"\"\"\\\n",
        "  Given an initial query and a final response, determine if the final response is extremely helpful or not. Please indicate helpfulness with a 'Y' and unhelpfulness as an 'N'.\n",
        "\n",
        "  Initial Query:\n",
        "  {initial_query}\n",
        "\n",
        "  Final Response:\n",
        "  {final_response}\"\"\"\n",
        "\n",
        "  helpfullness_prompt_template = PromptTemplate.from_template(prompt_template)\n",
        "\n",
        "  helpfulness_check_model = ChatOpenAI(model=\"gpt-4.1-mini\")\n",
        "\n",
        "  helpfulness_chain = helpfullness_prompt_template | helpfulness_check_model | StrOutputParser()\n",
        "\n",
        "  helpfulness_response = helpfulness_chain.invoke({\"initial_query\" : initial_query.content, \"final_response\" : final_response.content})\n",
        "\n",
        "  if \"Y\" in helpfulness_response:\n",
        "    return \"end\"\n",
        "  else:\n",
        "    return \"continue\""
      ]
    },
    {
      "cell_type": "markdown",
      "metadata": {
        "id": "Fz1u9Vf4SHxJ"
      },
      "source": [
        "#### 🏗️ Activity #4:\n",
        "\n",
        "Please write what is happening in our `tool_call_or_helpful` function!"
      ]
    },
    {
      "cell_type": "markdown",
      "metadata": {
        "id": "6BhnBW2YVsJO"
      },
      "source": [
        "##### YOUR MARKDOWN HERE\n",
        "\n",
        "##### ✅ Answer:\n",
        "\n",
        "##### Adding Smart Routing Logic\n",
        "\n",
        "This is where we add the smart routing logic. The conditional edge uses our `tool_call_or_helpful` function to decide what happens next. It can send the flow to the action node (if tools are needed), back to the agent (if the response needs improvement), or end the conversation (if we have a good answer). It's like having multiple paths that the conversation can take based on what's happening."
      ]
    },
    {
      "cell_type": "code",
      "execution_count": 27,
      "metadata": {
        "colab": {
          "base_uri": "https://localhost:8080/"
        },
        "id": "aVTKnWMbP_8T",
        "outputId": "7f729b1f-311c-4084-ceaf-0da437900c85"
      },
      "outputs": [
        {
          "data": {
            "text/plain": [
              "<langgraph.graph.state.StateGraph at 0x11ab0e490>"
            ]
          },
          "execution_count": 27,
          "metadata": {},
          "output_type": "execute_result"
        }
      ],
      "source": [
        "graph_with_helpfulness_check.add_conditional_edges(\n",
        "    \"agent\",\n",
        "    tool_call_or_helpful,\n",
        "    {\n",
        "        \"continue\" : \"agent\",\n",
        "        \"action\" : \"action\",\n",
        "        \"end\" : END\n",
        "    }\n",
        ")"
      ]
    },
    {
      "cell_type": "markdown",
      "metadata": {
        "id": "ZGDLEWOIVtK0"
      },
      "source": [
        "##### YOUR MARKDOWN HERE\n",
        "\n",
        "##### ✅ Answer:\n",
        "\n",
        "##### Connecting Tools Back to Agent\n",
        "\n",
        "This creates a direct connection from the action node back to the agent node. Whenever tools are used (like searching the web), the results get sent back to the agent so it can process that information and provide a better response. It's like giving the agent the research it requested."
      ]
    },
    {
      "cell_type": "code",
      "execution_count": 28,
      "metadata": {
        "colab": {
          "base_uri": "https://localhost:8080/"
        },
        "id": "cbDK2MbuREgU",
        "outputId": "21a64c20-27a1-4e0e-afde-a639abaa8b55"
      },
      "outputs": [
        {
          "data": {
            "text/plain": [
              "<langgraph.graph.state.StateGraph at 0x11ab0e490>"
            ]
          },
          "execution_count": 28,
          "metadata": {},
          "output_type": "execute_result"
        }
      ],
      "source": [
        "graph_with_helpfulness_check.add_edge(\"action\", \"agent\")"
      ]
    },
    {
      "cell_type": "markdown",
      "metadata": {
        "id": "rSI8AOaEVvT-"
      },
      "source": [
        "##### YOUR MARKDOWN HERE\n",
        "\n",
        "##### ✅ Answer:\n",
        "\n",
        "##### Compiling the Final System\n",
        "\n",
        "This final step compiles all our graph components into a working application. It's like taking all the blueprints and building instructions and turning them into a functional system that can actually process user requests and provide intelligent responses."
      ]
    },
    {
      "cell_type": "code",
      "execution_count": 29,
      "metadata": {
        "id": "oQldl8ERQ8lf"
      },
      "outputs": [],
      "source": [
        "agent_with_helpfulness_check = graph_with_helpfulness_check.compile()"
      ]
    },
    {
      "cell_type": "markdown",
      "metadata": {
        "id": "F67FGCMRVwGz"
      },
      "source": [
        "##### YOUR MARKDOWN HERE\n",
        "\n",
        "##### ✅ Answer:\n",
        "\n",
        "##### Testing Our Intelligent Assistant\n",
        "\n",
        "This code tests our newly created agent with helpfulness checking. We're asking it a complex question about machine learning concepts and watching how it processes the request through multiple steps, using tools when needed and evaluating its own responses for helpfulness."
      ]
    },
    {
      "cell_type": "code",
      "execution_count": 30,
      "metadata": {
        "colab": {
          "base_uri": "https://localhost:8080/"
        },
        "id": "B3oo8E-PRK1T",
        "outputId": "f152dea8-96ad-4d29-d8b2-a064c96a8bd3"
      },
      "outputs": [
        {
          "name": "stdout",
          "output_type": "stream",
          "text": [
            "Receiving update from node: 'agent'\n",
            "[AIMessage(content='', additional_kwargs={'tool_calls': [{'id': 'call_uwNOMdBUsF6ySOrpmddc6dzb', 'function': {'arguments': '{\"query\": \"LoRA machine learning\"}', 'name': 'tavily_search_results_json'}, 'type': 'function'}, {'id': 'call_1UZvYveGoqXZI1QT7vLGpAom', 'function': {'arguments': '{\"query\": \"Tim Dettmers\"}', 'name': 'tavily_search_results_json'}, 'type': 'function'}, {'id': 'call_2xulB8XOwdQasTFSeBbauYYD', 'function': {'arguments': '{\"query\": \"Attention in machine learning\"}', 'name': 'tavily_search_results_json'}, 'type': 'function'}], 'refusal': None}, response_metadata={'token_usage': {'completion_tokens': 79, 'prompt_tokens': 177, 'total_tokens': 256, 'completion_tokens_details': {'accepted_prediction_tokens': 0, 'audio_tokens': 0, 'reasoning_tokens': 0, 'rejected_prediction_tokens': 0}, 'prompt_tokens_details': {'audio_tokens': 0, 'cached_tokens': 0}}, 'model_name': 'gpt-4.1-nano-2025-04-14', 'system_fingerprint': None, 'id': 'chatcmpl-Bt2asfbLDQdaOlpuaD11flmk6ys1P', 'service_tier': 'default', 'finish_reason': 'tool_calls', 'logprobs': None}, id='run--d4f51f41-a9aa-4f86-b119-f89f2fb986ea-0', tool_calls=[{'name': 'tavily_search_results_json', 'args': {'query': 'LoRA machine learning'}, 'id': 'call_uwNOMdBUsF6ySOrpmddc6dzb', 'type': 'tool_call'}, {'name': 'tavily_search_results_json', 'args': {'query': 'Tim Dettmers'}, 'id': 'call_1UZvYveGoqXZI1QT7vLGpAom', 'type': 'tool_call'}, {'name': 'tavily_search_results_json', 'args': {'query': 'Attention in machine learning'}, 'id': 'call_2xulB8XOwdQasTFSeBbauYYD', 'type': 'tool_call'}], usage_metadata={'input_tokens': 177, 'output_tokens': 79, 'total_tokens': 256, 'input_token_details': {'audio': 0, 'cache_read': 0}, 'output_token_details': {'audio': 0, 'reasoning': 0}})]\n",
            "\n",
            "\n",
            "\n",
            "Receiving update from node: 'action'\n",
            "[ToolMessage(content='[{\"title\": \"What is LoRA? | Low-rank adaptation - Cloudflare\", \"url\": \"https://www.cloudflare.com/learning/ai/what-is-lora/\", \"content\": \"Low-rank adaptation (LoRA) is a technique for quickly adapting machine learning models to new contexts. LoRA helps make huge and complicated machine learning models much more suited for specific uses. It works by adding lightweight pieces to the original model, as opposed to changing the entire model. LoRA helps developers quickly expand the use cases for the machine learning models they build.\\\\n\\\\n## What does LoRA do? [...] LoRA adds low-rank matrices to the frozen original machine learning model. These matrices contain new weights to apply to the model when generating results. This process alters the outputs that the model produces with minimal computing power and training time.\\\\n\\\\nIn the analogy used above, Jim bought cheap adapters to plug his appliances into the wall. Low-rank matrices are like those cheap adapters, with the outlets being the original machine learning models.\\\\n\\\\n## How does machine learning work? [...] Sign upSales: +1 (888) 99 FLARE\\\\n\\\\n# What is low-rank adaptation (LoRA)?\\\\n\\\\nLow-rank adaptation (LoRA) is a way to adapt a large machine learning model for specific uses without retraining the entire model.\\\\n\\\\n#### Learning Objectives\\\\n\\\\nAfter reading this article you will be able to:\\\\n\\\\n Define \\\\\"low-rank adaptation\\\\\" (LoRA)\\\\n Explain in simple fashion how LoRA works\\\\n Understand the advantages of using LoRA\\\\n\\\\nRelated Content\\\\n\\\\n---\", \"score\": 0.9255605}, {\"title\": \"Improving LoRA: Implementing Weight-Decomposed Low-Rank ...\", \"url\": \"https://magazine.sebastianraschka.com/p/lora-and-dora-from-scratch\", \"content\": \"Image 7 Image 8: Ahead of AI Ahead of AI Improving LoRA: Implementing Weight-Decomposed Low-Rank Adaptation (DoRA) from Scratch\\\\n\\\\nCopy link Facebook Email Notes More\\\\n\\\\n4617\\\\n\\\\nShare)\\\\n\\\\nLow-rank adaptation (LoRA) is a machine learning technique that modifies a pretrained model (for example, an LLM or vision transformer) to better suit a specific, often smaller, dataset by adjusting only a small, low-rank subset of the model\\'s parameters.\", \"score\": 0.9183121}, {\"title\": \"Low-Rank Adaptation of Large Language Models (LoRA)\", \"url\": \"https://huggingface.co/docs/diffusers/v0.23.1/training/lora\", \"content\": \"Low-Rank Adaptation of Large Language Models (LoRA) is a training method that accelerates the training of large models while consuming less memory. It adds pairs of rank-decomposition weight matrices (called update matrices) to existing weights, and only trains those newly added weights. This has a couple of advantages:\", \"score\": 0.9006087}, {\"title\": \"Understanding LoRA with a minimal example - Posit AI Blog\", \"url\": \"https://blogs.rstudio.com/tensorflow/posts/2023-06-22-understanding-lora/\", \"content\": \"LoRA (Low-Rank Adaptation) is a new technique for fine tuning large scale pre-trained\\\\nmodels. Such models are usually trained on general domain data, so as to have\\\\nthe maximum amount of data. In order to obtain better results in tasks like chatting\\\\nor question answering, these models can be further ‘fine-tuned’ or adapted on domain\\\\nspecific data. [...] LoRA (Low Rank Adaptation) is a new technique for fine-tuning deep learning models that works by reducing the number of trainable parameters and enables efficient task switching. In this blog post we will talk about the key ideas behind LoRA in a very minimal torch example.\\\\n\\\\nContents [...] Understanding LoRA with a minimal example\\\\n\\\\nLoRA (Low Rank Adaptation) is a new technique for fine-tuning deep learning models that works by reducing the number of trainable parameters and enables efficient task switching. In this blog post we will talk about the key ideas behind LoRA in a very minimal torch example.\", \"score\": 0.88420963}, {\"title\": \"What is LoRA (Low-Rank Adaption)? - IBM\", \"url\": \"https://www.ibm.com/think/topics/lora\", \"content\": \"LoRA adds low-rank matrices to the frozen original machine learning model. The low-rank matrices are updated through gradient descent during fine-tuning, without modifying the weights of the base model. These matrices contain new weights to apply to the model when generating results. The multiplied change matrix is added to the base model weights to get the final fine-tuned model. This process alters the outputs that the model produces with minimal computing power and training time. [...] LoRA leverages the concept of lower-rank matrices to make the model training process extremely efficient and fast. Traditionally fine-tuning LLMs requires adjusting the entire model. LoRA focuses on modifying a smaller subset of parameters (lower-rank matrices) to reduce computational and memory overhead. [...] LoRA makes training more efficient and lowers the hardware barrier to entry because users do not need to calculate the gradients or maintain the optimizer states for most parameters. Instead, the process requires optimizing only the much smaller low-rank matrices.\\\\n\\\\nThe linear design of LoRA allows data scientists to merge the trainable matrices with the frozen pretrained model weights when deployed, introducing no inference latency compared to a fully fine-tuned model by construction.\", \"score\": 0.8810534}]', name='tavily_search_results_json', id='31a33404-4bee-4d12-b4ca-c1ca88ea5de1', tool_call_id='call_uwNOMdBUsF6ySOrpmddc6dzb', artifact={'query': 'LoRA machine learning', 'follow_up_questions': None, 'answer': None, 'images': [], 'results': [{'url': 'https://www.cloudflare.com/learning/ai/what-is-lora/', 'title': 'What is LoRA? | Low-rank adaptation - Cloudflare', 'content': 'Low-rank adaptation (LoRA) is a technique for quickly adapting machine learning models to new contexts. LoRA helps make huge and complicated machine learning models much more suited for specific uses. It works by adding lightweight pieces to the original model, as opposed to changing the entire model. LoRA helps developers quickly expand the use cases for the machine learning models they build.\\n\\n## What does LoRA do? [...] LoRA adds low-rank matrices to the frozen original machine learning model. These matrices contain new weights to apply to the model when generating results. This process alters the outputs that the model produces with minimal computing power and training time.\\n\\nIn the analogy used above, Jim bought cheap adapters to plug his appliances into the wall. Low-rank matrices are like those cheap adapters, with the outlets being the original machine learning models.\\n\\n## How does machine learning work? [...] Sign upSales: +1 (888) 99 FLARE\\n\\n# What is low-rank adaptation (LoRA)?\\n\\nLow-rank adaptation (LoRA) is a way to adapt a large machine learning model for specific uses without retraining the entire model.\\n\\n#### Learning Objectives\\n\\nAfter reading this article you will be able to:\\n\\n Define \"low-rank adaptation\" (LoRA)\\n Explain in simple fashion how LoRA works\\n Understand the advantages of using LoRA\\n\\nRelated Content\\n\\n---', 'score': 0.9255605, 'raw_content': None}, {'url': 'https://magazine.sebastianraschka.com/p/lora-and-dora-from-scratch', 'title': 'Improving LoRA: Implementing Weight-Decomposed Low-Rank ...', 'content': \"Image 7 Image 8: Ahead of AI Ahead of AI Improving LoRA: Implementing Weight-Decomposed Low-Rank Adaptation (DoRA) from Scratch\\n\\nCopy link Facebook Email Notes More\\n\\n4617\\n\\nShare)\\n\\nLow-rank adaptation (LoRA) is a machine learning technique that modifies a pretrained model (for example, an LLM or vision transformer) to better suit a specific, often smaller, dataset by adjusting only a small, low-rank subset of the model's parameters.\", 'score': 0.9183121, 'raw_content': None}, {'url': 'https://huggingface.co/docs/diffusers/v0.23.1/training/lora', 'title': 'Low-Rank Adaptation of Large Language Models (LoRA)', 'content': 'Low-Rank Adaptation of Large Language Models (LoRA) is a training method that accelerates the training of large models while consuming less memory. It adds pairs of rank-decomposition weight matrices (called update matrices) to existing weights, and only trains those newly added weights. This has a couple of advantages:', 'score': 0.9006087, 'raw_content': None}, {'url': 'https://blogs.rstudio.com/tensorflow/posts/2023-06-22-understanding-lora/', 'title': 'Understanding LoRA with a minimal example - Posit AI Blog', 'content': 'LoRA (Low-Rank Adaptation) is a new technique for fine tuning large scale pre-trained\\nmodels. Such models are usually trained on general domain data, so as to have\\nthe maximum amount of data. In order to obtain better results in tasks like chatting\\nor question answering, these models can be further ‘fine-tuned’ or adapted on domain\\nspecific data. [...] LoRA (Low Rank Adaptation) is a new technique for fine-tuning deep learning models that works by reducing the number of trainable parameters and enables efficient task switching. In this blog post we will talk about the key ideas behind LoRA in a very minimal torch example.\\n\\nContents [...] Understanding LoRA with a minimal example\\n\\nLoRA (Low Rank Adaptation) is a new technique for fine-tuning deep learning models that works by reducing the number of trainable parameters and enables efficient task switching. In this blog post we will talk about the key ideas behind LoRA in a very minimal torch example.', 'score': 0.88420963, 'raw_content': None}, {'url': 'https://www.ibm.com/think/topics/lora', 'title': 'What is LoRA (Low-Rank Adaption)? - IBM', 'content': 'LoRA adds low-rank matrices to the frozen original machine learning model. The low-rank matrices are updated through gradient descent during fine-tuning, without modifying the weights of the base model. These matrices contain new weights to apply to the model when generating results. The multiplied change matrix is added to the base model weights to get the final fine-tuned model. This process alters the outputs that the model produces with minimal computing power and training time. [...] LoRA leverages the concept of lower-rank matrices to make the model training process extremely efficient and fast. Traditionally fine-tuning LLMs requires adjusting the entire model. LoRA focuses on modifying a smaller subset of parameters (lower-rank matrices) to reduce computational and memory overhead. [...] LoRA makes training more efficient and lowers the hardware barrier to entry because users do not need to calculate the gradients or maintain the optimizer states for most parameters. Instead, the process requires optimizing only the much smaller low-rank matrices.\\n\\nThe linear design of LoRA allows data scientists to merge the trainable matrices with the frozen pretrained model weights when deployed, introducing no inference latency compared to a fully fine-tuned model by construction.', 'score': 0.8810534, 'raw_content': None}], 'response_time': 2.02}), ToolMessage(content='[{\"title\": \"Tim Dettmers - AI2050 - Schmidt Sciences\", \"url\": \"https://ai2050.schmidtsciences.org/fellow/tim-dettmers/\", \"content\": \"Tim Dettmers is an Assistant Professor at Carnegie Mellon University and a Research Scientist at the Allen Institute for AI, and his research focuses on making foundation models, such as ChatGPT, accessible to researchers and practitioners by reducing their resource requirements. This involves developing novel compression and networking algorithms and building systems that allow for memory-efficient, fast, and cheap deep learning. He has won oral, spotlight, and best paper awards at conferences [...] such as ICLR and NeurIPS. He created the bitsandbytes library for efficient deep learning, which is growing at 2.2 million installations per month, and received Google Open Source and PyTorch Foundation awards. [...] AI models like ChatGPT work well for general use but fail in specialized expert domains, such as the medical sciences. To make AI models work in expert domains, one must adapt them, which is costly and requires significant AI expertise. This project overcomes these cost and expertise barriers through two new approaches: (1) use AI models themselves to perform the AI model adaptation process automatically; (2) make the adaptation process cheap so it can be run on regular consumer hardware. With\", \"score\": 0.9245858}, {\"title\": \"CSE Faculty Candidate Seminar - Tim Dettmers\", \"url\": \"https://cse.gatech.edu/events/2024/02/20/cse-faculty-candidate-seminar-tim-dettmers\", \"content\": \"Bio:Tim Dettmers’s research focuses on making foundation models, such as ChatGPT, accessible to researchers and practitioners by reducing their resource requirements. This involves developing novel compression and networking algorithms and building systems that allow for memory-efficient, fast, and cheap deep learning. These methods enable many more people to use, adapt, or train foundation models without affecting the quality of AI predictions or generations. He is a PhD candidate at the [...] News and Events\\\\n       News\\\\n       Upcoming Events\\\\n       Calendar\\\\n       CSE Biweekly Roundup\\\\n       Analyzer\\\\n       2024 Annual Brief.pdf)\\\\n\\\\n\\\\n\\\\nSearch\\\\n------\\\\n\\\\nSearch \\\\n\\\\nBreadcrumb\\\\n----------\\\\n\\\\n1.   Home\\\\n2.   Events\\\\n\\\\nUpcoming Events\\\\n---------------\\\\n\\\\nCSE Faculty Candidate Seminar - Tim Dettmers\\\\n============================================\\\\n\\\\nImage 2: Tim Dettmers.png\\\\n\\\\nName:Tim Dettmers, Ph.D. student at University of Washington\\\\n\\\\nDate:Tuesday, February 20, 2024 at 11:00 am [...] University of Washington and has won oral, spotlight, and best paper awards at conferences such as ICLR and NeurIPS. He created the bitsandbytes library for efficient deep learning, which is growing at 1.4 million installations per month and received Google Open Source and PyTorch Foundation awards.\", \"score\": 0.70531887}, {\"title\": \"About Me - Tim Dettmers\", \"url\": \"https://timdettmers.com/about/\", \"content\": \"Research Interests  \\\\nPublications  \\\\nAwards & Honors  \\\\nService\\\\n\\\\nGoogle Scholar\\\\n\\\\nfirstname.lastname@gmail.com\\\\n\\\\nImage 1I am a research scientist at the Allen Institute for Artificial Intelligence (Ai2) and an incoming Assistant Professor at Carnegie Mellon University (CMU). I am the creator and maintainer of bitsandbytes. [...] I have a PhD from University of Washington advised by Luke Zettlemoyer working on efficient deep learning at the intersection between machine learning, natural language processing, and computer systems with a focus on quantization and sparsity. My main research goal is to empower everyone to make AI their own. I do this by making large models accessible through my research (QLoRA, LLM.int8(), k-bit inference scaling laws, Petals, SWARM) and by developing software that makes it easy to use my [...] About Me — Tim Dettmers\\\\n===============  \\\\n\\\\nSkip links\\\\n----------\\\\n\\\\n   Skip to primary navigation\\\\n   Skip to content\\\\n   Skip to primary sidebar\\\\n\\\\nTim Dettmers\\\\n\\\\nMaking deep learning accessible.\\\\n\\\\nHeader Right\\\\n------------\\\\n\\\\n### Blog Posts Topics\\\\n\\\\n   Academia (4)\\\\n       PhD Life (3)\\\\n   Deep Learning (7)\\\\n   Hardware (8)\\\\n   Science (4)\\\\n       Neuroscience (1)\\\\n\\\\nMain navigation\\\\n---------------\\\\n\\\\n   Blog\\\\n       Deep Learning\\\\n       Hardware\\\\n       Neuroscience\\\\n   Publications\\\\n   About Me\\\\n\\\\nAbout Me\\\\n========\", \"score\": 0.68318754}, {\"title\": \"Tim Dettmers | Carnegie Mellon University Computer Science ...\", \"url\": \"https://csd.cmu.edu/people/faculty/tim-dettmers\", \"content\": \"X\\\\n\\\\nBreadcrumb\\\\n----------\\\\n\\\\n1.  Home\\\\n2.  People\\\\n3.  Faculty\\\\n4.  Tim Dettmers\\\\n\\\\nTim Dettmers\\\\n============\\\\n\\\\nImage 2: Tim DettmersAssistant Professor\\\\n\\\\nWebsite\\\\n\\\\nGoogle Scholars Link\\\\n\\\\nEmail dettmers@cmu.edu\\\\n\\\\nDepartment  \\\\nMachine Learning Department  \\\\nComputer Science Department\\\\n\\\\nComputer Science Department\\\\n---------------------------\\\\n\\\\nCarnegie Mellon University\\\\n\\\\n5000 Forbes Avenue\\\\n\\\\nPittsburgh, PA 15213\\\\n\\\\nFax: 412-268-5576\\\\n\\\\n            \\\\n\\\\nImage 3: Carnegie Mellon University School of Computer Science [...] About\\\\n    \\\\n    ### Back to Main Menu\\\\n    \\\\n    ### About Main page\\\\n    \\\\n       About  \\\\n        Related links\\\\n           Events\\\\n           News\\\\n           Key Contacts\\\\n           History\\\\n           Sitemap\\\\n       Employment  \\\\n        Related links\\\\n           Faculty Hiring\\\\n           Staff Hiring\\\\n       Marketing & Communications  \\\\n        Related links\\\\n           SCS Marketing & Communications\\\\n           Partnerships\\\\n           Employer Recruiting\\\\n           CMU Marketing & Communications\", \"score\": 0.6729558}, {\"title\": \"Tim Dettmers - Quora\", \"url\": \"https://www.quora.com/profile/Tim-Dettmers-1\", \"content\": \"Kernel methods are practically obsolete, but their math still shines on and is worth a look. Kernel methods are not only practically obsolete due to their inferior predictive performance when compared to deep learning, but also because they require a lot of feature engineering and because they are se…\\\\n\\\\n(more)\\\\n\\\\nImage 8: Profile photo for Tim Dettmers\\\\n\\\\nTim Dettmers\\\\n\\\\nPhD Student at University of Washington (2018–present)\\\\n\\\\n·9y [...] PhD Student at University of Washington (2018–present)\\\\n\\\\n·9y\\\\n\\\\nHow feasible would it be to build a deep learning platform on a distributed heterogeneous environment over the Internet (e.g. desktop/mobile grid)? [...] Image 9: Profile photo for Tim Dettmers\\\\n\\\\nTim Dettmers\\\\n\\\\nPhD Student at University of Washington (2018–present)\\\\n\\\\n·9y\\\\n\\\\nHow can I use a deep neural network trained model by multiple GPUs?\\\\n\\\\nIf you want to use multiple GPUs you should use Torch7 along with the Facebook research libraries. The parallel implementations of Torch7 provide good speed, without any loss of accuracy and are very easy to use. There are other libraries that make use of parallelism, but they often have poor APIs o…\\\\n\\\\n(more)\", \"score\": 0.57666177}]', name='tavily_search_results_json', id='78073ca8-341f-443e-b0bb-ed2dcf5ebc90', tool_call_id='call_1UZvYveGoqXZI1QT7vLGpAom', artifact={'query': 'Tim Dettmers', 'follow_up_questions': None, 'answer': None, 'images': [], 'results': [{'url': 'https://ai2050.schmidtsciences.org/fellow/tim-dettmers/', 'title': 'Tim Dettmers - AI2050 - Schmidt Sciences', 'content': 'Tim Dettmers is an Assistant Professor at Carnegie Mellon University and a Research Scientist at the Allen Institute for AI, and his research focuses on making foundation models, such as ChatGPT, accessible to researchers and practitioners by reducing their resource requirements. This involves developing novel compression and networking algorithms and building systems that allow for memory-efficient, fast, and cheap deep learning. He has won oral, spotlight, and best paper awards at conferences [...] such as ICLR and NeurIPS. He created the bitsandbytes library for efficient deep learning, which is growing at 2.2 million installations per month, and received Google Open Source and PyTorch Foundation awards. [...] AI models like ChatGPT work well for general use but fail in specialized expert domains, such as the medical sciences. To make AI models work in expert domains, one must adapt them, which is costly and requires significant AI expertise. This project overcomes these cost and expertise barriers through two new approaches: (1) use AI models themselves to perform the AI model adaptation process automatically; (2) make the adaptation process cheap so it can be run on regular consumer hardware. With', 'score': 0.9245858, 'raw_content': None}, {'url': 'https://cse.gatech.edu/events/2024/02/20/cse-faculty-candidate-seminar-tim-dettmers', 'title': 'CSE Faculty Candidate Seminar - Tim Dettmers', 'content': 'Bio:Tim Dettmers’s research focuses on making foundation models, such as ChatGPT, accessible to researchers and practitioners by reducing their resource requirements. This involves developing novel compression and networking algorithms and building systems that allow for memory-efficient, fast, and cheap deep learning. These methods enable many more people to use, adapt, or train foundation models without affecting the quality of AI predictions or generations. He is a PhD candidate at the [...] News and Events\\n       News\\n       Upcoming Events\\n       Calendar\\n       CSE Biweekly Roundup\\n       Analyzer\\n       2024 Annual Brief.pdf)\\n\\n\\n\\nSearch\\n------\\n\\nSearch \\n\\nBreadcrumb\\n----------\\n\\n1.   Home\\n2.   Events\\n\\nUpcoming Events\\n---------------\\n\\nCSE Faculty Candidate Seminar - Tim Dettmers\\n============================================\\n\\nImage 2: Tim Dettmers.png\\n\\nName:Tim Dettmers, Ph.D. student at University of Washington\\n\\nDate:Tuesday, February 20, 2024 at 11:00 am [...] University of Washington and has won oral, spotlight, and best paper awards at conferences such as ICLR and NeurIPS. He created the bitsandbytes library for efficient deep learning, which is growing at 1.4 million installations per month and received Google Open Source and PyTorch Foundation awards.', 'score': 0.70531887, 'raw_content': None}, {'url': 'https://timdettmers.com/about/', 'title': 'About Me - Tim Dettmers', 'content': 'Research Interests  \\nPublications  \\nAwards & Honors  \\nService\\n\\nGoogle Scholar\\n\\nfirstname.lastname@gmail.com\\n\\nImage 1I am a research scientist at the Allen Institute for Artificial Intelligence (Ai2) and an incoming Assistant Professor at Carnegie Mellon University (CMU). I am the creator and maintainer of bitsandbytes. [...] I have a PhD from University of Washington advised by Luke Zettlemoyer working on efficient deep learning at the intersection between machine learning, natural language processing, and computer systems with a focus on quantization and sparsity. My main research goal is to empower everyone to make AI their own. I do this by making large models accessible through my research (QLoRA, LLM.int8(), k-bit inference scaling laws, Petals, SWARM) and by developing software that makes it easy to use my [...] About Me — Tim Dettmers\\n===============  \\n\\nSkip links\\n----------\\n\\n   Skip to primary navigation\\n   Skip to content\\n   Skip to primary sidebar\\n\\nTim Dettmers\\n\\nMaking deep learning accessible.\\n\\nHeader Right\\n------------\\n\\n### Blog Posts Topics\\n\\n   Academia (4)\\n       PhD Life (3)\\n   Deep Learning (7)\\n   Hardware (8)\\n   Science (4)\\n       Neuroscience (1)\\n\\nMain navigation\\n---------------\\n\\n   Blog\\n       Deep Learning\\n       Hardware\\n       Neuroscience\\n   Publications\\n   About Me\\n\\nAbout Me\\n========', 'score': 0.68318754, 'raw_content': None}, {'url': 'https://csd.cmu.edu/people/faculty/tim-dettmers', 'title': 'Tim Dettmers | Carnegie Mellon University Computer Science ...', 'content': 'X\\n\\nBreadcrumb\\n----------\\n\\n1.  Home\\n2.  People\\n3.  Faculty\\n4.  Tim Dettmers\\n\\nTim Dettmers\\n============\\n\\nImage 2: Tim DettmersAssistant Professor\\n\\nWebsite\\n\\nGoogle Scholars Link\\n\\nEmail dettmers@cmu.edu\\n\\nDepartment  \\nMachine Learning Department  \\nComputer Science Department\\n\\nComputer Science Department\\n---------------------------\\n\\nCarnegie Mellon University\\n\\n5000 Forbes Avenue\\n\\nPittsburgh, PA 15213\\n\\nFax: 412-268-5576\\n\\n            \\n\\nImage 3: Carnegie Mellon University School of Computer Science [...] About\\n    \\n    ### Back to Main Menu\\n    \\n    ### About Main page\\n    \\n       About  \\n        Related links\\n           Events\\n           News\\n           Key Contacts\\n           History\\n           Sitemap\\n       Employment  \\n        Related links\\n           Faculty Hiring\\n           Staff Hiring\\n       Marketing & Communications  \\n        Related links\\n           SCS Marketing & Communications\\n           Partnerships\\n           Employer Recruiting\\n           CMU Marketing & Communications', 'score': 0.6729558, 'raw_content': None}, {'url': 'https://www.quora.com/profile/Tim-Dettmers-1', 'title': 'Tim Dettmers - Quora', 'content': 'Kernel methods are practically obsolete, but their math still shines on and is worth a look. Kernel methods are not only practically obsolete due to their inferior predictive performance when compared to deep learning, but also because they require a lot of feature engineering and because they are se…\\n\\n(more)\\n\\nImage 8: Profile photo for Tim Dettmers\\n\\nTim Dettmers\\n\\nPhD Student at University of Washington (2018–present)\\n\\n·9y [...] PhD Student at University of Washington (2018–present)\\n\\n·9y\\n\\nHow feasible would it be to build a deep learning platform on a distributed heterogeneous environment over the Internet (e.g. desktop/mobile grid)? [...] Image 9: Profile photo for Tim Dettmers\\n\\nTim Dettmers\\n\\nPhD Student at University of Washington (2018–present)\\n\\n·9y\\n\\nHow can I use a deep neural network trained model by multiple GPUs?\\n\\nIf you want to use multiple GPUs you should use Torch7 along with the Facebook research libraries. The parallel implementations of Torch7 provide good speed, without any loss of accuracy and are very easy to use. There are other libraries that make use of parallelism, but they often have poor APIs o…\\n\\n(more)', 'score': 0.57666177, 'raw_content': None}], 'response_time': 2.61}), ToolMessage(content='[{\"title\": \"Attention (machine learning) - Wikipedia\", \"url\": \"https://en.wikipedia.org/wiki/Attention_(machine_learning)\", \"content\": \"Attention is a machine learning method that determines the importance of each component in a sequence relative to the other components in that sequence. In natural language processing, importance is represented by \\\\\"soft\\\\\" weights assigned to each word in a sentence. More generally, attention encodes vectors called tokenembeddings across a fixed-width sequence that can range from tens to millions of tokens in size. [...] Inspired by ideas about attention in humans, the attention mechanism was developed to address the weaknesses of leveraging information from the hidden layers of recurrent neural networks. Recurrent neural networks favor more recent information contained in words at the end of a sentence, while information earlier in the sentence tends to be attenuated. Attention allows a token equal access to any part of a sentence directly, rather than only through the previous state.\\\\n\\\\nHistory\\\\n------- [...] Attention(A Q,B K,B V)=A Attention(Q,K,V){\\\\\\\\displaystyle {\\\\\\\\text{Attention}}(\\\\\\\\mathbf {A} \\\\\\\\mathbf {Q} ,\\\\\\\\mathbf {B} \\\\\\\\mathbf {K} ,\\\\\\\\mathbf {B} \\\\\\\\mathbf {V} )=\\\\\\\\mathbf {A} \\\\\\\\,{\\\\\\\\text{Attention}}(\\\\\\\\mathbf {Q} ,\\\\\\\\mathbf {K} ,\\\\\\\\mathbf {V} )}Image 31: {\\\\\\\\displaystyle {\\\\\\\\text{Attention}}(\\\\\\\\mathbf {A} \\\\\\\\mathbf {Q} ,\\\\\\\\mathbf {B} \\\\\\\\mathbf {K} ,\\\\\\\\mathbf {B} \\\\\\\\mathbf {V} )=\\\\\\\\mathbf {A} \\\\\\\\,{\\\\\\\\text{Attention}}(\\\\\\\\mathbf {Q} ,\\\\\\\\mathbf {K} ,\\\\\\\\mathbf {V} )}\", \"score\": 0.94956195}, {\"title\": \"Attention models: a brief overview - DEV Community\", \"url\": \"https://dev.to/marcostx/attention-models-a-brief-timeline-593l\", \"content\": \"Machine learning has revolutionized various fields over the past decade, including computer vision, natural language processing, and speech recognition. Attention models have emerged as a powerful technique in machine learning, enabling models to selectively focus on relevant parts of the input, which has resulted in significant performance improvements in various tasks. From their first proposal with neural machine translation, attention models have rapidly evolved and have become a key [...] component of many state-of-the-art machine learning models. In this article, we will provide a brief history of attention models in machine learning, including their evolution, major breakthroughs, current advancements, and impact of attention models on the field of machine learning. Here, we focus on temporal attention for some but the core functions are similar for other types like spatial attention. [...] In short, the attention mechanism can be seen as a dynamic pooling in which the weights are learning along with the training. In some cases, these weights can be used as a tool to provide interpretability to the model, although it is not applied in specific scenarios . This is an important feature due to the growing interest in fairness and transparency in Machine Learning. Doughty et al.  employed multiple attention filters to discover essential parts in long videos for skill determination\", \"score\": 0.8790744}, {\"title\": \"5 Attention Mechanism Insights Every AI Developer Should Know\", \"url\": \"https://shelf.io/blog/attention-mechanism/\", \"content\": \"Attention allows a model to “remember” and focus on different parts of the input sequence, regardless of their position, by assigning different weights to different parts of the data. This means that instead of treating all the data equally, the model can learn to pay more attention to the bits that are more relevant to the task it’s performing. [...] The attention mechanism is a pivotal innovation in deep learning, drawing inspiration from the human ability to focus selectively on aspects of our environment. This mechanism has significantly enhanced the capabilities of neural networks, enabling them to process information more contextually and effectively. As we continue to explore and refine this technology, the potential for creating more intuitive and intelligent systems seems boundless.\\\\n\\\\n [ Blog ] [...] The attention mechanism has become a fundamental component in deep learning. Here are some key applications across different fields:\\\\n\\\\n### Natural Language Processing (NLP)\\\\n\\\\nMachine Translation:Attention mechanisms help models focus on relevant parts of the input sentence while translating it into another language, improving the quality and coherence of the translation.\", \"score\": 0.8088086}, {\"title\": \"ML - Attention mechanism - GeeksforGeeks\", \"url\": \"https://www.geeksforgeeks.org/ml-attention-mechanism/\", \"content\": \"Attention mechanism is a type of neural network that helps a model focus on specific parts of the input data, it is done by assigning weights to different elements in input which helps the model to decide which parts of information are most importart. This makes the model better at understanding complex relationships and dependencies in data. It helps the model to manage long-term dependencies and improves its ability to focus on important features. [...] Types of Attention Mechanism Attention mechanisms are crucial in deep learning, helping models perform better in tasks like NLP and computer vision. They enable models to focus on important parts of the input data, much like how humans concentrate on key details while ignoring irrelevant information helping in better understand 7 min read [...] Attention component find importance of each encoder’s hidden state with respect to the current target hidden state. It generates a context vector that captures the relevant information from the encoder’s hidden states. Its mechanism can be represented mathematically as follows:\", \"score\": 0.78334314}, {\"title\": \"Attention Model: Definition and When To Use One (With Tips) - Indeed\", \"url\": \"https://www.indeed.com/career-advice/career-development/attention-model\", \"content\": \"Attention models, also called attention mechanisms, are deep learning techniques used to provide an additional focus on a specific component. In deep learning, attention relates to focus on something in particular and note its specific importance. The model typically focuses on one component within the network\\'s architecture that\\'s responsible for managing and quantifying the interdependent relationships within input elements, called self-attention, or between input and output elements, called [...] Deep learning is a subset of machine learning inspired by the human brain and its network of neurons. It\\'s an artificial intelligence technique that aims to transform data and process information. This may require focusing on one or a few particular items to gain a better understanding of a concept, affecting the focus of the network. In this article, we define what an attention model is, explain how it works, discuss when to use it and provide some tips for using these models effectively.Read [...] initial input.Attention models strive to resolve the potential limits of the encoder-decoder model. It helps accurately align and translate the input items. However, it develops a context vector filtered specifically for each output, rather than encoding the input sequence as a single fixed content vector.Related:A Guide to Natural Processing Language\", \"score\": 0.77751994}]', name='tavily_search_results_json', id='56f163d3-7433-4b1b-8a85-4e2d5cbfaf88', tool_call_id='call_2xulB8XOwdQasTFSeBbauYYD', artifact={'query': 'Attention in machine learning', 'follow_up_questions': None, 'answer': None, 'images': [], 'results': [{'url': 'https://en.wikipedia.org/wiki/Attention_(machine_learning)', 'title': 'Attention (machine learning) - Wikipedia', 'content': 'Attention is a machine learning method that determines the importance of each component in a sequence relative to the other components in that sequence. In natural language processing, importance is represented by \"soft\" weights assigned to each word in a sentence. More generally, attention encodes vectors called tokenembeddings across a fixed-width sequence that can range from tens to millions of tokens in size. [...] Inspired by ideas about attention in humans, the attention mechanism was developed to address the weaknesses of leveraging information from the hidden layers of recurrent neural networks. Recurrent neural networks favor more recent information contained in words at the end of a sentence, while information earlier in the sentence tends to be attenuated. Attention allows a token equal access to any part of a sentence directly, rather than only through the previous state.\\n\\nHistory\\n------- [...] Attention(A Q,B K,B V)=A Attention(Q,K,V){\\\\displaystyle {\\\\text{Attention}}(\\\\mathbf {A} \\\\mathbf {Q} ,\\\\mathbf {B} \\\\mathbf {K} ,\\\\mathbf {B} \\\\mathbf {V} )=\\\\mathbf {A} \\\\,{\\\\text{Attention}}(\\\\mathbf {Q} ,\\\\mathbf {K} ,\\\\mathbf {V} )}Image 31: {\\\\displaystyle {\\\\text{Attention}}(\\\\mathbf {A} \\\\mathbf {Q} ,\\\\mathbf {B} \\\\mathbf {K} ,\\\\mathbf {B} \\\\mathbf {V} )=\\\\mathbf {A} \\\\,{\\\\text{Attention}}(\\\\mathbf {Q} ,\\\\mathbf {K} ,\\\\mathbf {V} )}', 'score': 0.94956195, 'raw_content': None}, {'url': 'https://dev.to/marcostx/attention-models-a-brief-timeline-593l', 'title': 'Attention models: a brief overview - DEV Community', 'content': 'Machine learning has revolutionized various fields over the past decade, including computer vision, natural language processing, and speech recognition. Attention models have emerged as a powerful technique in machine learning, enabling models to selectively focus on relevant parts of the input, which has resulted in significant performance improvements in various tasks. From their first proposal with neural machine translation, attention models have rapidly evolved and have become a key [...] component of many state-of-the-art machine learning models. In this article, we will provide a brief history of attention models in machine learning, including their evolution, major breakthroughs, current advancements, and impact of attention models on the field of machine learning. Here, we focus on temporal attention for some but the core functions are similar for other types like spatial attention. [...] In short, the attention mechanism can be seen as a dynamic pooling in which the weights are learning along with the training. In some cases, these weights can be used as a tool to provide interpretability to the model, although it is not applied in specific scenarios . This is an important feature due to the growing interest in fairness and transparency in Machine Learning. Doughty et al.  employed multiple attention filters to discover essential parts in long videos for skill determination', 'score': 0.8790744, 'raw_content': None}, {'url': 'https://shelf.io/blog/attention-mechanism/', 'title': '5 Attention Mechanism Insights Every AI Developer Should Know', 'content': 'Attention allows a model to “remember” and focus on different parts of the input sequence, regardless of their position, by assigning different weights to different parts of the data. This means that instead of treating all the data equally, the model can learn to pay more attention to the bits that are more relevant to the task it’s performing. [...] The attention mechanism is a pivotal innovation in deep learning, drawing inspiration from the human ability to focus selectively on aspects of our environment. This mechanism has significantly enhanced the capabilities of neural networks, enabling them to process information more contextually and effectively. As we continue to explore and refine this technology, the potential for creating more intuitive and intelligent systems seems boundless.\\n\\n [ Blog ] [...] The attention mechanism has become a fundamental component in deep learning. Here are some key applications across different fields:\\n\\n### Natural Language Processing (NLP)\\n\\nMachine Translation:Attention mechanisms help models focus on relevant parts of the input sentence while translating it into another language, improving the quality and coherence of the translation.', 'score': 0.8088086, 'raw_content': None}, {'url': 'https://www.geeksforgeeks.org/ml-attention-mechanism/', 'title': 'ML - Attention mechanism - GeeksforGeeks', 'content': 'Attention mechanism is a type of neural network that helps a model focus on specific parts of the input data, it is done by assigning weights to different elements in input which helps the model to decide which parts of information are most importart. This makes the model better at understanding complex relationships and dependencies in data. It helps the model to manage long-term dependencies and improves its ability to focus on important features. [...] Types of Attention Mechanism Attention mechanisms are crucial in deep learning, helping models perform better in tasks like NLP and computer vision. They enable models to focus on important parts of the input data, much like how humans concentrate on key details while ignoring irrelevant information helping in better understand 7 min read [...] Attention component find importance of each encoder’s hidden state with respect to the current target hidden state. It generates a context vector that captures the relevant information from the encoder’s hidden states. Its mechanism can be represented mathematically as follows:', 'score': 0.78334314, 'raw_content': None}, {'url': 'https://www.indeed.com/career-advice/career-development/attention-model', 'title': 'Attention Model: Definition and When To Use One (With Tips) - Indeed', 'content': \"Attention models, also called attention mechanisms, are deep learning techniques used to provide an additional focus on a specific component. In deep learning, attention relates to focus on something in particular and note its specific importance. The model typically focuses on one component within the network's architecture that's responsible for managing and quantifying the interdependent relationships within input elements, called self-attention, or between input and output elements, called [...] Deep learning is a subset of machine learning inspired by the human brain and its network of neurons. It's an artificial intelligence technique that aims to transform data and process information. This may require focusing on one or a few particular items to gain a better understanding of a concept, affecting the focus of the network. In this article, we define what an attention model is, explain how it works, discuss when to use it and provide some tips for using these models effectively.Read [...] initial input.Attention models strive to resolve the potential limits of the encoder-decoder model. It helps accurately align and translate the input items. However, it develops a context vector filtered specifically for each output, rather than encoding the input sequence as a single fixed content vector.Related:A Guide to Natural Processing Language\", 'score': 0.77751994, 'raw_content': None}], 'response_time': 2.38})]\n",
            "\n",
            "\n",
            "\n",
            "Receiving update from node: 'agent'\n",
            "[AIMessage(content=\"Here's a summary of the information I found:\\n\\n1. **LoRA (Low-Rank Adaptation)**: LoRA is a machine learning technique designed to adapt large models to specific tasks efficiently. It works by adding low-rank matrices to the original frozen model, which contain new weights that modify the model's outputs with minimal computational effort and training time. This approach allows for quick and resource-efficient fine-tuning of large models, making them more suitable for specific applications without retraining the entire model. [Learn more](https://www.cloudflare.com/learning/ai/what-is-lora/)\\n\\n2. **Tim Dettmers**: Tim Dettmers is an Assistant Professor at Carnegie Mellon University and a Research Scientist at the Allen Institute for AI. His research focuses on making foundation models like ChatGPT more accessible by reducing their resource requirements through novel compression, networking algorithms, and system building for memory-efficient, fast, and affordable deep learning. He is also known for creating the bitsandbytes library for efficient deep learning. [More about him](https://ai2050.schmidtsciences.org/fellow/tim-dettmers/)\\n\\n3. **Attention in Machine Learning**: Attention is a mechanism that helps models determine the importance of different parts of an input sequence relative to each other. Inspired by human attention, it allows models to focus on relevant information, improving performance in tasks like natural language processing. Attention assigns weights to different components, enabling the model to process information contextually and effectively. It is a fundamental component in many state-of-the-art models, including transformers. [More details](https://en.wikipedia.org/wiki/Attention_(machine_learning))\\n\\nIf you'd like more detailed explanations or specific aspects, feel free to ask!\", additional_kwargs={'refusal': None}, response_metadata={'token_usage': {'completion_tokens': 351, 'prompt_tokens': 4526, 'total_tokens': 4877, 'completion_tokens_details': {'accepted_prediction_tokens': 0, 'audio_tokens': 0, 'reasoning_tokens': 0, 'rejected_prediction_tokens': 0}, 'prompt_tokens_details': {'audio_tokens': 0, 'cached_tokens': 0}}, 'model_name': 'gpt-4.1-nano-2025-04-14', 'system_fingerprint': None, 'id': 'chatcmpl-Bt2awjLlpsTNAACCeUt0On2R6Cf2c', 'service_tier': 'default', 'finish_reason': 'stop', 'logprobs': None}, id='run--2384c856-9fa1-451d-aa60-a68d48863b21-0', usage_metadata={'input_tokens': 4526, 'output_tokens': 351, 'total_tokens': 4877, 'input_token_details': {'audio': 0, 'cache_read': 0}, 'output_token_details': {'audio': 0, 'reasoning': 0}})]\n",
            "\n",
            "\n",
            "\n"
          ]
        }
      ],
      "source": [
        "inputs = {\"messages\" : [HumanMessage(content=\"Related to machine learning, what is LoRA? Also, who is Tim Dettmers? Also, what is Attention?\")]}\n",
        "\n",
        "async for chunk in agent_with_helpfulness_check.astream(inputs, stream_mode=\"updates\"):\n",
        "    for node, values in chunk.items():\n",
        "        print(f\"Receiving update from node: '{node}'\")\n",
        "        print(values[\"messages\"])\n",
        "        print(\"\\n\\n\")"
      ]
    },
    {
      "cell_type": "markdown",
      "metadata": {
        "id": "yVmZPs6lnpsM"
      },
      "source": [
        "### Task 4: LangGraph for the \"Patterns\" of GenAI\n",
        "\n",
        "Let's ask our system about the 4 patterns of Generative AI:\n",
        "\n",
        "1. Prompt Engineering\n",
        "2. RAG\n",
        "3. Fine-tuning\n",
        "4. Agents"
      ]
    },
    {
      "cell_type": "code",
      "execution_count": 31,
      "metadata": {
        "id": "ZoLl7GlXoae-"
      },
      "outputs": [],
      "source": [
        "patterns = [\"prompt engineering\", \"RAG\", \"fine-tuning\", \"LLM-based agents\"]"
      ]
    },
    {
      "cell_type": "code",
      "execution_count": 32,
      "metadata": {
        "colab": {
          "base_uri": "https://localhost:8080/"
        },
        "id": "Zkh0YJuCp3Zl",
        "outputId": "d847426e-71b3-47e6-b1ae-351a78d68d1e"
      },
      "outputs": [
        {
          "name": "stdout",
          "output_type": "stream",
          "text": [
            "Prompt engineering is the process of designing and refining prompts to effectively communicate with AI language models, such as GPT, to obtain desired responses. It involves crafting prompts that are clear, specific, and contextually appropriate to guide the AI's output in a useful and accurate manner.\n",
            "\n",
            "Prompt engineering has gained significant prominence with the rise of large language models (LLMs) like GPT-3, which were released around 2020. As these models became more capable and widely used, the importance of effectively interacting with them through well-designed prompts also grew. The term and practice of prompt engineering started to break onto the scene around 2021-2022, coinciding with the increasing adoption of LLMs in various applications and the recognition that prompt design critically impacts the quality of AI-generated outputs.\n",
            "\n",
            "\n",
            "\n",
            "RAG, which stands for Retrieval-Augmented Generation, is a technique in natural language processing that combines pre-trained language models with information retrieval systems. This approach allows models to access and incorporate external knowledge from a large corpus of documents or databases, enhancing their ability to generate accurate and contextually relevant responses, especially for tasks requiring up-to-date or specialized information.\n",
            "\n",
            "RAG was introduced by Facebook AI Research (FAIR) in a paper published in 2020. It marked a significant development in the field by enabling language models to dynamically retrieve relevant information during the generation process, rather than relying solely on their internal knowledge stored during training.\n",
            "\n",
            "Would you like more detailed information about the original RAG paper or its applications?\n",
            "\n",
            "\n",
            "\n",
            "Fine-tuning is a process in machine learning where a pre-trained model is further trained on a specific dataset to adapt it to a particular task or domain. This approach leverages the knowledge the model has already acquired during its initial training on large, general datasets, and then refines it to improve performance on specialized tasks. Fine-tuning typically involves adjusting the model's weights through additional training epochs on the new dataset, often with a smaller learning rate to make subtle adjustments.\n",
            "\n",
            "Fine-tuning has become a prominent technique with the rise of large pre-trained models, especially in natural language processing (NLP) and computer vision. It allows researchers and practitioners to efficiently develop high-performing models for specific applications without training from scratch, saving time and computational resources.\n",
            "\n",
            "As for when it \"broke onto the scene,\" fine-tuning started gaining widespread attention and adoption in the machine learning community around the mid-2010s. The advent of models like U-Net (2015) for image segmentation and the release of large language models such as OpenAI's GPT series (starting with GPT-2 in 2019) significantly popularized the practice. The release of BERT by Google in 2018 further accelerated the trend, demonstrating how pre-trained models could be effectively fine-tuned for various NLP tasks.\n",
            "\n",
            "Would you like more detailed historical context or specific examples of fine-tuning in recent models?\n",
            "\n",
            "\n",
            "\n",
            "LLM-based agents are intelligent systems that leverage large language models (LLMs) to perform a variety of tasks, such as understanding natural language, generating human-like responses, and making decisions or taking actions based on the input they receive. These agents can be used in applications like chatbots, virtual assistants, automated customer support, and more complex decision-making systems.\n",
            "\n",
            "The concept of LLM-based agents gained significant attention and broke onto the scene around 2020-2021, coinciding with the development and release of large-scale language models like OpenAI's GPT-3 in 2020. GPT-3's impressive capabilities demonstrated the potential of large language models to serve as the core component of autonomous agents capable of performing a wide range of tasks with minimal task-specific training.\n",
            "\n",
            "Since then, the field has rapidly evolved, with many new models, techniques, and applications emerging, making LLM-based agents a prominent area of research and development in artificial intelligence.\n",
            "\n",
            "\n",
            "\n"
          ]
        }
      ],
      "source": [
        "for pattern in patterns:\n",
        "  what_is_string = f\"What is {pattern} and when did it break onto the scene??\"\n",
        "  inputs = {\"messages\" : [HumanMessage(content=what_is_string)]}\n",
        "  messages = agent_with_helpfulness_check.invoke(inputs)\n",
        "  print(messages[\"messages\"][-1].content)\n",
        "  print(\"\\n\\n\")"
      ]
    }
  ],
  "metadata": {
    "colab": {
      "provenance": []
    },
    "kernelspec": {
      "display_name": ".venv",
      "language": "python",
      "name": "python3"
    },
    "language_info": {
      "codemirror_mode": {
        "name": "ipython",
        "version": 3
      },
      "file_extension": ".py",
      "mimetype": "text/x-python",
      "name": "python",
      "nbconvert_exporter": "python",
      "pygments_lexer": "ipython3",
      "version": "3.13.5"
    }
  },
  "nbformat": 4,
  "nbformat_minor": 0
}
