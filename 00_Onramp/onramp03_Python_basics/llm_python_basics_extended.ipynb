{
 "cells": [
  {
   "cell_type": "markdown",
   "id": "bd834a97",
   "metadata": {},
   "source": [
    "#  🧠 Python Basics for LLM Development\n",
    "Welcome! In this notebook, you'll practice the Python fundamentals—variables, control flow, loops, and functions—that you'll frequently use when building and experimenting with language‑model projects."
   ]
  },
  {
   "cell_type": "markdown",
   "id": "ed44242c",
   "metadata": {},
   "source": [
    "## Learning Objectives\n",
    "By the end of this notebook you will be able to:\n",
    "1. Work confidently with Python variables and data structures.\n",
    "2. Write conditional logic and loops for automation.\n",
    "3. Encapsulate reusable code in functions (with docstrings & type hints).\n",
    "4. Use popular data libraries (NumPy, Pandas) to prepare model inputs.\n",
    "5. Make your **first call** to an LLM API (OpenAI) and inspect its response.\n",
    "\n",
    "Feel free to **run** each cell (Shift‑Enter) and **edit** the code to test your understanding."
   ]
  },
  {
   "cell_type": "markdown",
   "id": "8d38653d",
   "metadata": {},
   "source": [
    "## 0. Quick Warm‑Up"
   ]
  },
  {
   "cell_type": "code",
   "execution_count": 1,
   "id": "2c125f6d",
   "metadata": {},
   "outputs": [
    {
     "name": "stdout",
     "output_type": "stream",
     "text": [
      "Hello, LLM world!\n"
     ]
    }
   ],
   "source": [
    "print('Hello, LLM world!')"
   ]
  },
  {
   "cell_type": "markdown",
   "id": "b4c59070",
   "metadata": {},
   "source": [
    "## 1. Variables & Data Types"
   ]
  },
  {
   "cell_type": "markdown",
   "id": "bec809fa",
   "metadata": {},
   "source": [
    "Without type hints"
   ]
  },
  {
   "cell_type": "code",
   "execution_count": 2,
   "id": "76264c25",
   "metadata": {},
   "outputs": [
    {
     "name": "stdout",
     "output_type": "stream",
     "text": [
      "Ada Lovelace 27 1.65 True\n"
     ]
    }
   ],
   "source": [
    "# Basic types\n",
    "name = 'Ada Lovelace'\n",
    "age = 27\n",
    "height_m = 1.65\n",
    "is_data_scientist = True\n",
    "\n",
    "print(name, age, height_m, is_data_scientist)"
   ]
  },
  {
   "cell_type": "code",
   "execution_count": 3,
   "id": "619cb995",
   "metadata": {},
   "outputs": [
    {
     "name": "stdout",
     "output_type": "stream",
     "text": [
      "<class 'str'>\n",
      "<class 'float'>\n",
      "<class 'bool'>\n"
     ]
    }
   ],
   "source": [
    "# You can use type() to get the type of a variable\n",
    "print(type(name))   # is a string\n",
    "print(type(height_m))   # is a float\n",
    "print(type(is_data_scientist))   # is a bool"
   ]
  },
  {
   "cell_type": "markdown",
   "id": "1b59b5bb",
   "metadata": {},
   "source": [
    "Note that these are `class`es. In python, everything is an object."
   ]
  },
  {
   "cell_type": "markdown",
   "id": "af7a9295",
   "metadata": {},
   "source": [
    "Python is dynamically typed, but you can add type hints for clarity (handy for larger codebases & editors)."
   ]
  },
  {
   "cell_type": "code",
   "execution_count": 4,
   "id": "28be3f98",
   "metadata": {},
   "outputs": [
    {
     "name": "stdout",
     "output_type": "stream",
     "text": [
      "Ada Lovelace 27 1.65 True\n"
     ]
    }
   ],
   "source": [
    "# Basic types\n",
    "name: str = 'Ada Lovelace'\n",
    "age: int = 27\n",
    "height_m: float = 1.65\n",
    "is_data_scientist: bool = True\n",
    "\n",
    "print(name, age, height_m, is_data_scientist)"
   ]
  },
  {
   "cell_type": "markdown",
   "id": "48999f15",
   "metadata": {},
   "source": [
    "#### 🏗️ Activity 1:\n",
    "\n",
    "1. Create two variables `tokens` (int) and `model_name` (str).\n",
    "2. Print a sentence like _\"The model gpt‑4 will process 1536 tokens.\"_\n",
    "\n",
    "Run the cell below and write your answer in the space provided."
   ]
  },
  {
   "cell_type": "code",
   "execution_count": 5,
   "id": "03cc8b87",
   "metadata": {},
   "outputs": [],
   "source": [
    "# Your code here ➡️"
   ]
  },
  {
   "cell_type": "markdown",
   "id": "cf6ca363",
   "metadata": {},
   "source": [
    "## 2. Sequences: Lists, Tuples & Dicts"
   ]
  },
  {
   "cell_type": "code",
   "execution_count": 6,
   "id": "b7adac04",
   "metadata": {},
   "outputs": [
    {
     "name": "stdout",
     "output_type": "stream",
     "text": [
      "Translate to French:\n",
      "Width=768, Height=1024\n",
      "{'role': 'system', 'content': 'You are a helpful assistant.'}\n"
     ]
    }
   ],
   "source": [
    "# List of prompt strings\n",
    "prompts = ['Translate to French:', 'Summarize:', 'Explain like I am five:']\n",
    "print(prompts[0])\n",
    "\n",
    "# Tuple (immutable ordered collection)\n",
    "dimensions = (768, 1024)\n",
    "width, height = dimensions\n",
    "print(f'Width={width}, Height={height}')\n",
    "\n",
    "# Dict mapping role → content\n",
    "message = {'role': 'system', 'content': 'You are a helpful assistant.'}\n",
    "print(message)"
   ]
  },
  {
   "cell_type": "markdown",
   "id": "e4823a2c",
   "metadata": {},
   "source": [
    "#### 🏗️ Activity 2:\n",
    "\n",
    "*Create a dictionary called `hyperparams` that stores a `learning_rate` of 3e‑4, `batch_size` of 8, and `num_epochs` of 2.*"
   ]
  },
  {
   "cell_type": "code",
   "execution_count": 7,
   "id": "d3a70c98",
   "metadata": {},
   "outputs": [],
   "source": [
    "# Your code here ➡️"
   ]
  },
  {
   "cell_type": "markdown",
   "id": "063c7ae6",
   "metadata": {},
   "source": [
    "## 3. Control Flow"
   ]
  },
  {
   "cell_type": "markdown",
   "id": "c3a60714",
   "metadata": {},
   "source": [
    "### 3.1. Conditional statements"
   ]
  },
  {
   "cell_type": "code",
   "execution_count": 8,
   "id": "be1c898a",
   "metadata": {},
   "outputs": [
    {
     "name": "stdout",
     "output_type": "stream",
     "text": [
      "A balanced amount of randomness.\n"
     ]
    }
   ],
   "source": [
    "temperature = 0.7\n",
    "if temperature > 1.0:\n",
    "    print('The model will be quite creative!')\n",
    "elif temperature > 0.0:\n",
    "    print('A balanced amount of randomness.')\n",
    "else:\n",
    "    print('Deterministic output.')"
   ]
  },
  {
   "cell_type": "markdown",
   "id": "888a2ac3",
   "metadata": {},
   "source": [
    "#### 🏗️ Activity 3:\n",
    "\n",
    "*Write code that prints **\"even\"** if a number is divisible by 2, otherwise **\"odd\"**.*"
   ]
  },
  {
   "cell_type": "code",
   "execution_count": 9,
   "id": "16188ac4",
   "metadata": {},
   "outputs": [],
   "source": [
    "# Your code here ➡️"
   ]
  },
  {
   "cell_type": "markdown",
   "id": "f7dfa3c6",
   "metadata": {},
   "source": [
    "### 3.2 Loops & Comprehensions"
   ]
  },
  {
   "cell_type": "code",
   "execution_count": 10,
   "id": "6495b734",
   "metadata": {},
   "outputs": [
    {
     "name": "stdout",
     "output_type": "stream",
     "text": [
      "Message 1: Translate to French: write a haiku\n",
      "Message 2: Summarize: write a haiku\n",
      "Message 3: Explain like I am five: write a haiku\n",
      "n is still less than 3\n",
      "n is still less than 3\n"
     ]
    },
    {
     "data": {
      "text/plain": [
       "[3, 1, 5]"
      ]
     },
     "execution_count": 10,
     "metadata": {},
     "output_type": "execute_result"
    }
   ],
   "source": [
    "# For‑loop\n",
    "for i in range(3):\n",
    "    print(f'Message {i+1}: {prompts[i]} write a haiku')\n",
    "\n",
    "# While‑loop (basic)\n",
    "n = 1\n",
    "while n < 3:\n",
    "    print('n is still less than 3')\n",
    "    n += 1\n",
    "\n",
    "# List comprehension\n",
    "token_counts = [len(p.split()) for p in prompts]\n",
    "token_counts"
   ]
  },
  {
   "cell_type": "markdown",
   "id": "6c020a56",
   "metadata": {},
   "source": [
    "#### 🏗️ Activity 4:\n",
    "\n",
    "*Use a list comprehension to generate the squares of numbers 0‑9.*"
   ]
  },
  {
   "cell_type": "code",
   "execution_count": 11,
   "id": "057b5f69",
   "metadata": {},
   "outputs": [],
   "source": [
    "# Your code here ➡️"
   ]
  },
  {
   "cell_type": "markdown",
   "id": "86f073a6",
   "metadata": {},
   "source": [
    "### 3.3 Functions"
   ]
  },
  {
   "cell_type": "code",
   "execution_count": 12,
   "id": "17d7669c",
   "metadata": {},
   "outputs": [
    {
     "data": {
      "text/plain": [
       "9"
      ]
     },
     "execution_count": 12,
     "metadata": {},
     "output_type": "execute_result"
    }
   ],
   "source": [
    "def count_tokens(strings: list[str]) -> int:\n",
    "    \"\"\"Return the total number of whitespace-separated tokens in a list of strings.\"\"\"\n",
    "    return sum(len(s.split()) for s in strings)\n",
    "\n",
    "count_tokens(prompts)"
   ]
  },
  {
   "cell_type": "markdown",
   "id": "3ba132df",
   "metadata": {},
   "source": [
    "#### 🏗️ Activity 5:\n",
    " \n",
    "*Write a function `calculate_average(numbers: List[float]) -> float` that returns the average of a list of numbers.*"
   ]
  },
  {
   "cell_type": "code",
   "execution_count": 13,
   "id": "12f86238",
   "metadata": {},
   "outputs": [],
   "source": [
    "# Your code here ➡️"
   ]
  },
  {
   "cell_type": "markdown",
   "id": "2a852fa3",
   "metadata": {},
   "source": [
    "### 3.4 Exception handling"
   ]
  },
  {
   "cell_type": "markdown",
   "id": "2f3765e3",
   "metadata": {},
   "source": [
    "Exception handling in Python is a way to manage errors that occur during program execution without crashing the program. It uses the try, except, and optionally finally blocks to catch and respond to unexpected situations, such as dividing by zero or accessing a missing file.\n",
    "\n",
    "Code that might raise an error is placed inside a `try` block; if an error occurs, the program jumps to the `except` block, where you can define how to handle it.\n",
    "\n",
    "A `finally` block can be added to run code that must execute no matter what, such as closing files or cleaning up resources. This makes your programs more robust and user-friendly.\n",
    "\n",
    "\n",
    "\n",
    "\n",
    "\n",
    "\n",
    "\n",
    "\n"
   ]
  },
  {
   "cell_type": "markdown",
   "id": "7158b636",
   "metadata": {},
   "source": [
    "🔧 What Do They Do?\n",
    "\n",
    "* `try`: Block of code where something might go wrong.\n",
    "\n",
    "* `except`: Catches and handles errors (exceptions) if they occur in the try block.\n",
    "\n",
    "* `finally`: Code here always runs, whether an exception occurred or not—often used for cleanup (like closing files or releasing resources)."
   ]
  },
  {
   "cell_type": "code",
   "execution_count": 14,
   "id": "8ed927d1",
   "metadata": {},
   "outputs": [
    {
     "name": "stdout",
     "output_type": "stream",
     "text": [
      "You can't divide by zero!\n",
      "This runs no matter what.\n"
     ]
    }
   ],
   "source": [
    "try:\n",
    "    x = 10 / 0\n",
    "except ZeroDivisionError:\n",
    "    print(\"You can't divide by zero!\")\n",
    "finally:\n",
    "    print(\"This runs no matter what.\")"
   ]
  },
  {
   "cell_type": "code",
   "execution_count": 15,
   "id": "f7e58d8e",
   "metadata": {},
   "outputs": [
    {
     "name": "stdout",
     "output_type": "stream",
     "text": [
      "This runs no matter what.\n"
     ]
    }
   ],
   "source": [
    "try:\n",
    "    x = 10 / 5\n",
    "except ZeroDivisionError:\n",
    "    print(\"You can't divide by zero!\")\n",
    "finally:\n",
    "    print(\"This runs no matter what.\")"
   ]
  },
  {
   "cell_type": "markdown",
   "id": "33be35eb0f71fce5",
   "metadata": {},
   "source": [
    "### 3.5 Async"
   ]
  },
  {
   "cell_type": "markdown",
   "id": "4c263d58e94a24f2",
   "metadata": {},
   "source": [
    "`async` enables **asynchronous programming**, allowing a program to run tasks without waiting for each one to finish before starting the next.\n",
    "\n",
    "Using the `async` and `await` keywords, you can define and pause asynchronous functions so that other operations can run while waiting—such as reading files, making web requests, or querying databases. This helps improve efficiency, especially in I/O-bound programs, by preventing the application from getting \"stuck\" during slow operations."
   ]
  },
  {
   "cell_type": "code",
   "execution_count": 1,
   "id": "216e076ac251264d",
   "metadata": {
    "ExecuteTime": {
     "end_time": "2025-05-29T12:43:06.647272Z",
     "start_time": "2025-05-29T12:43:01.639170Z"
    }
   },
   "outputs": [
    {
     "name": "stdout",
     "output_type": "stream",
     "text": [
      "Task 1 started\n",
      "Task 2 started\n",
      "Task 3 started\n",
      "Task 3 finished after 1 seconds\n",
      "Task 1 finished after 2 seconds\n",
      "Task 2 finished after 3 seconds\n",
      "All tasks completed in 3.01 seconds\n"
     ]
    }
   ],
   "source": [
    "import asyncio, nest_asyncio\n",
    "import time\n",
    "\n",
    "nest_asyncio.apply()   # This is needed to run async code in Jupyter notebooks\n",
    "\n",
    "\n",
    "async def task(name, delay):\n",
    "    print(f\"{name} started\")\n",
    "    await asyncio.sleep(delay)\n",
    "    print(f\"{name} finished after {delay} seconds\")\n",
    "\n",
    "\n",
    "async def main():\n",
    "    start = time.time()\n",
    "\n",
    "    # Run tasks concurrently\n",
    "    await asyncio.gather(\n",
    "        task(\"Task 1\", 2),\n",
    "        task(\"Task 2\", 3),\n",
    "        task(\"Task 3\", 1)\n",
    "    )\n",
    "\n",
    "    end = time.time()\n",
    "    print(f\"All tasks completed in {end - start:.2f} seconds\")\n",
    "\n",
    "asyncio.run(main())"
   ]
  },
  {
   "cell_type": "markdown",
   "id": "3acfdf33",
   "metadata": {},
   "source": [
    "💡 Why This Is Better:\n",
    "\n",
    "* `asyncio.gather()` runs all tasks concurrently, not one after the other.\n",
    "\n",
    "* Even though the total delays add up to 6 seconds (2 + 3 + 1), the program finishes in just ~3 seconds, showing that tasks ran in parallel (non-blocking)."
   ]
  },
  {
   "cell_type": "markdown",
   "id": "4293d55a",
   "metadata": {},
   "source": [
    "## 4. Working with Libraries — NumPy & Pandas (very small taste)"
   ]
  },
  {
   "cell_type": "code",
   "execution_count": 16,
   "id": "6768be61",
   "metadata": {},
   "outputs": [
    {
     "name": "stdout",
     "output_type": "stream",
     "text": [
      "NumPy mean: 2.0\n"
     ]
    },
    {
     "data": {
      "text/html": [
       "<div>\n",
       "<style scoped>\n",
       "    .dataframe tbody tr th:only-of-type {\n",
       "        vertical-align: middle;\n",
       "    }\n",
       "\n",
       "    .dataframe tbody tr th {\n",
       "        vertical-align: top;\n",
       "    }\n",
       "\n",
       "    .dataframe thead th {\n",
       "        text-align: right;\n",
       "    }\n",
       "</style>\n",
       "<table border=\"1\" class=\"dataframe\">\n",
       "  <thead>\n",
       "    <tr style=\"text-align: right;\">\n",
       "      <th></th>\n",
       "      <th>prompt</th>\n",
       "      <th>tokens</th>\n",
       "    </tr>\n",
       "  </thead>\n",
       "  <tbody>\n",
       "    <tr>\n",
       "      <th>0</th>\n",
       "      <td>Translate to French:</td>\n",
       "      <td>3</td>\n",
       "    </tr>\n",
       "    <tr>\n",
       "      <th>1</th>\n",
       "      <td>Summarize:</td>\n",
       "      <td>1</td>\n",
       "    </tr>\n",
       "    <tr>\n",
       "      <th>2</th>\n",
       "      <td>Explain like I am five:</td>\n",
       "      <td>5</td>\n",
       "    </tr>\n",
       "  </tbody>\n",
       "</table>\n",
       "</div>"
      ],
      "text/plain": [
       "                    prompt  tokens\n",
       "0     Translate to French:       3\n",
       "1               Summarize:       1\n",
       "2  Explain like I am five:       5"
      ]
     },
     "execution_count": 16,
     "metadata": {},
     "output_type": "execute_result"
    }
   ],
   "source": [
    "import numpy as np\n",
    "import pandas as pd\n",
    "\n",
    "# NumPy array\n",
    "arr = np.array([1, 2, 3])\n",
    "print('NumPy mean:', arr.mean())\n",
    "\n",
    "# Pandas DataFrame\n",
    "df = pd.DataFrame({'prompt': prompts, 'tokens': token_counts})\n",
    "df"
   ]
  },
  {
   "cell_type": "markdown",
   "id": "c0527c38",
   "metadata": {},
   "source": [
    "#### 🏗️ Activity 6:\n",
    "\n",
    "1. Add a new column `length` to `df` that contains the character length of each prompt.\n",
    "2. Display the updated DataFrame."
   ]
  },
  {
   "cell_type": "code",
   "execution_count": 17,
   "id": "f955cedc",
   "metadata": {},
   "outputs": [],
   "source": [
    "# Your code here ➡️"
   ]
  },
  {
   "cell_type": "markdown",
   "id": "14a50c0e",
   "metadata": {},
   "source": [
    "## 5. Your First OpenAI Call 🌐\n",
    "> _Skip if you don't have an API key yet._\n",
    ">\n",
    "> _If you do have an API key: Uncomment & set your environment variable._"
   ]
  },
  {
   "cell_type": "code",
   "execution_count": 18,
   "id": "af0a8704",
   "metadata": {},
   "outputs": [],
   "source": [
    "#\n",
    "# import os\n",
    "# import openai\n",
    "# from openai import OpenAI\n",
    "# from dotenv import load_dotenv\n",
    "# load_dotenv()\n",
    "\n",
    "# openai.api_key = os.environ['OPENAI_API_KEY']\n",
    "\n",
    "# #Then install openai (if needed) & make a minimal chat completion call\n",
    "# #pip install --quiet openai\n",
    "\n",
    "\n",
    "# client = OpenAI()\n",
    "\n",
    "# response = client.chat.completions.create(\n",
    "#     model='gpt-4o-mini',\n",
    "#     messages=[{'role': 'user', 'content': 'Say hi!'}]\n",
    "# )\n",
    "# print(response.choices[0].message.content)\n"
   ]
  },
  {
   "cell_type": "markdown",
   "id": "7c19124d",
   "metadata": {},
   "source": [
    "Define Helper functions"
   ]
  },
  {
   "cell_type": "code",
   "execution_count": 19,
   "id": "6e182eee",
   "metadata": {},
   "outputs": [],
   "source": [
    "# from IPython.display import display, Markdown\n",
    "\n",
    "\n",
    "# YOUR_PROMPT = \"What is the difference between LangChain and LlamaIndex?\"\n",
    "\n",
    "# client.chat.completions.create(\n",
    "#     model=\"gpt-4o-mini\",\n",
    "#     messages=[{\"role\" : \"user\", \"content\" : YOUR_PROMPT}]\n",
    "# )\n",
    "\n",
    "# def get_response(client: OpenAI, messages: str, model: str = \"gpt-4.1-nano\") -> str:\n",
    "#     return client.chat.completions.create(\n",
    "#         model=model,\n",
    "#         messages=messages\n",
    "#     )\n",
    "\n",
    "# def system_prompt(message: str) -> dict:\n",
    "#     return {\"role\": \"developer\", \"content\": message}\n",
    "\n",
    "# def assistant_prompt(message: str) -> dict:\n",
    "#     return {\"role\": \"assistant\", \"content\": message}\n",
    "\n",
    "# def user_prompt(message: str) -> dict:\n",
    "#     return {\"role\": \"user\", \"content\": message}\n",
    "\n",
    "# def pretty_print(message: str) -> str:\n",
    "#     display(Markdown(message.choices[0].message.content))\n",
    "\n",
    "# messages = [user_prompt(YOUR_PROMPT)]\n",
    "\n",
    "# chatgpt_response = get_response(client, messages)\n",
    "\n",
    "# pretty_print(chatgpt_response)"
   ]
  },
  {
   "cell_type": "markdown",
   "id": "0f9a53dc",
   "metadata": {},
   "source": [
    "#### 🏗️ Activity 7:\n",
    "\n",
    "Create a basic chat function that asks the OpenAI model a simple question and prints the response.\n",
    "\n",
    "\n"
   ]
  },
  {
   "cell_type": "markdown",
   "id": "8716756c",
   "metadata": {},
   "source": [
    "## 🎉 Congratulations! \n",
    "You've covered Python basics you will use daily in LLM workflows. From here, you might explore:\n",
    "* Prompt engineering patterns\n",
    "* Tokenization & chunking strategies\n",
    "* Vector embeddings & similarity search\n",
    "* Building an end‑to‑end Retrieval‑Augmented Generation (RAG) pipeline\n",
    "\n",
    "Happy coding 🚀"
   ]
  },
  {
   "cell_type": "markdown",
   "id": "24e0c818",
   "metadata": {},
   "source": [
    "## 6. Function Deep Dive  🔍"
   ]
  },
  {
   "cell_type": "markdown",
   "id": "61934577",
   "metadata": {},
   "source": [
    "Python functions are first‑class objects—you can pass them around just like variables. Let's explore optional arguments, `*args` / `**kwargs`, lambdas, and higher‑order functions."
   ]
  },
  {
   "cell_type": "code",
   "execution_count": 20,
   "id": "e3cd856f",
   "metadata": {},
   "outputs": [
    {
     "name": "stdout",
     "output_type": "stream",
     "text": [
      "Hello, Ada!\n",
      "Howdy, Grace!\n",
      "Mean: 3.0\n"
     ]
    },
    {
     "data": {
      "text/plain": [
       "[0, 1, 4, 9, 16]"
      ]
     },
     "execution_count": 20,
     "metadata": {},
     "output_type": "execute_result"
    }
   ],
   "source": [
    "from typing import Callable, Any\n",
    "\n",
    "def greet(name: str, greeting: str = \"Hello\") -> str:\n",
    "    \"\"\"Return a friendly greeting.\"\"\"\n",
    "    return f\"{greeting}, {name}!\"\n",
    "\n",
    "print(greet(\"Ada\"))\n",
    "print(greet(\"Grace\", greeting=\"Howdy\"))\n",
    "\n",
    "# Variable‑length arguments\n",
    "def avg(*numbers: float) -> float:\n",
    "    return sum(numbers) / len(numbers)\n",
    "\n",
    "print(\"Mean:\", avg(1, 2, 3, 4, 5))\n",
    "\n",
    "# Higher‑order: apply a function to every element\n",
    "def apply(fn: Callable[[Any], Any], iterable):\n",
    "    return [fn(x) for x in iterable]\n",
    "\n",
    "apply(lambda x: x ** 2, range(5))"
   ]
  },
  {
   "cell_type": "markdown",
   "id": "523695a5",
   "metadata": {},
   "source": [
    "#### 🏗️ Activity 8:\n",
    "\n",
    "Write a recursive function `factorial(n)` that returns `n!`. Test it for `n = 5`."
   ]
  },
  {
   "cell_type": "code",
   "execution_count": 21,
   "id": "5fd84b6e",
   "metadata": {},
   "outputs": [],
   "source": [
    "# Your code here ➡️"
   ]
  },
  {
   "cell_type": "markdown",
   "id": "d2c4b3e7",
   "metadata": {},
   "source": [
    "## 7. Classes & Objects  🏗️"
   ]
  },
  {
   "cell_type": "markdown",
   "id": "8de9c492",
   "metadata": {},
   "source": [
    "Object‑oriented programming (OOP) lets you bundle data **and** behavior. Here's a minimal example and a modern `@dataclass`."
   ]
  },
  {
   "cell_type": "code",
   "execution_count": 22,
   "id": "133aa217",
   "metadata": {},
   "outputs": [
    {
     "data": {
      "text/plain": [
       "<PromptManager with 2 prompts>"
      ]
     },
     "execution_count": 22,
     "metadata": {},
     "output_type": "execute_result"
    }
   ],
   "source": [
    "class PromptManager:\n",
    "    \"\"\"Store and manage prompt strings.\"\"\"\n",
    "    def __init__(self):\n",
    "        self.prompts = []\n",
    "\n",
    "    def add(self, text: str):\n",
    "        self.prompts.append(text)\n",
    "\n",
    "    def __len__(self):\n",
    "        return len(self.prompts)\n",
    "\n",
    "    def __repr__(self):\n",
    "        return f\"<PromptManager with {len(self)} prompts>\"\n",
    "\n",
    "pm = PromptManager()\n",
    "pm.add('Explain reinforcement learning.')\n",
    "pm.add('Translate to Czech.')\n",
    "pm"
   ]
  },
  {
   "cell_type": "code",
   "execution_count": 23,
   "id": "a804eb4f",
   "metadata": {},
   "outputs": [
    {
     "name": "stdout",
     "output_type": "stream",
     "text": [
      "Number of prompts: 2\n",
      "Prompts stored: ['Explain reinforcement learning.', 'Translate to Czech.']\n",
      "\n",
      "After adding more prompts: <PromptManager with 4 prompts>\n",
      "All prompts: ['Explain reinforcement learning.', 'Translate to Czech.', 'Generate a Python function', 'Debug this code snippet']\n"
     ]
    }
   ],
   "source": [
    "# Let's explore what we can do with the PromptManager instance\n",
    "print(f\"Number of prompts: {len(pm)}\")\n",
    "print(f\"Prompts stored: {pm.prompts}\")\n",
    "\n",
    "# Add more prompts\n",
    "pm.add('Generate a Python function')\n",
    "pm.add('Debug this code snippet')\n",
    "\n",
    "print(f\"\\nAfter adding more prompts: {pm}\")\n",
    "print(f\"All prompts: {pm.prompts}\")\n"
   ]
  },
  {
   "cell_type": "code",
   "execution_count": 24,
   "id": "c4af3b4a",
   "metadata": {},
   "outputs": [
    {
     "name": "stdout",
     "output_type": "stream",
     "text": [
      "HyperParams(lr=0.0003, batch_size=8, epochs=3)\n",
      "0.0003\n"
     ]
    }
   ],
   "source": [
    "from dataclasses import dataclass\n",
    "\n",
    "@dataclass\n",
    "class HyperParams:\n",
    "    lr: float\n",
    "    batch_size: int\n",
    "    epochs: int = 3  # default\n",
    "\n",
    "hp = HyperParams(lr=3e-4, batch_size=8)\n",
    "print(hp)\n",
    "print(hp.lr)"
   ]
  },
  {
   "cell_type": "markdown",
   "id": "46104753",
   "metadata": {},
   "source": [
    "#### 🏗️ Activity 9:\n",
    " \n",
    "Create a class `TokenCounter` with a method `count(text)` that returns the number of whitespace‑separated tokens in `text`. Instantiate it and test on a sample sentence."
   ]
  },
  {
   "cell_type": "code",
   "execution_count": 25,
   "id": "07e0382c",
   "metadata": {},
   "outputs": [],
   "source": [
    "# Your code here ➡️"
   ]
  },
  {
   "cell_type": "markdown",
   "id": "3a79efd2",
   "metadata": {},
   "source": [
    "## 8. Looping Patterns & Comprehensions 🔄"
   ]
  },
  {
   "cell_type": "code",
   "execution_count": 26,
   "id": "282353de",
   "metadata": {},
   "outputs": [
    {
     "name": "stdout",
     "output_type": "stream",
     "text": [
      "1 apple\n",
      "2 banana\n",
      "3 cherry\n",
      "apple -> $0.60\n",
      "banana -> $0.30\n",
      "cherry -> $0.80\n"
     ]
    },
    {
     "data": {
      "text/plain": [
       "{'apple': 0.6, 'banana': 0.3, 'cherry': 0.8}"
      ]
     },
     "execution_count": 26,
     "metadata": {},
     "output_type": "execute_result"
    }
   ],
   "source": [
    "items = ['apple', 'banana', 'cherry']\n",
    "prices = [0.6, 0.3, 0.8]\n",
    "\n",
    "# enumerate\n",
    "for idx, item in enumerate(items, start=1):\n",
    "    print(idx, item)\n",
    "\n",
    "# zip\n",
    "for item, price in zip(items, prices):\n",
    "    print(f'{item} -> ${price:.2f}')\n",
    "\n",
    "# Dictionary comprehension\n",
    "price_map = {item: price for item, price in zip(items, prices)}\n",
    "price_map"
   ]
  },
  {
   "cell_type": "markdown",
   "id": "3a729d45",
   "metadata": {},
   "source": [
    "#### 🏗️ Activity 10:\n",
    " \n",
    "Use a **set comprehension** to collect all unique lengths of words in `items`."
   ]
  },
  {
   "cell_type": "code",
   "execution_count": 27,
   "id": "24fc6cc3",
   "metadata": {},
   "outputs": [],
   "source": [
    "# Your code here ➡️"
   ]
  },
  {
   "cell_type": "markdown",
   "id": "fccda2bf",
   "metadata": {},
   "source": [
    "## 9. Decorators"
   ]
  },
  {
   "cell_type": "markdown",
   "id": "c89fe703",
   "metadata": {},
   "source": [
    "A **decorator** in Python is a special function that modifies or enhances the behavior of another function or method without changing its actual code. It \"wraps\" the target function, allowing you to add extra functionality before or after the original function runs.\n",
    "\n",
    " Decorators are often used for tasks like logging, access control, timing, or caching. You apply a decorator using the `@decorator_name` syntax just above the function definition.\n",
    " \n",
    " This makes code cleaner, reusable, and easier to manage by separating concerns. You will encounter many decorators during the bootcamp."
   ]
  },
  {
   "cell_type": "code",
   "execution_count": 28,
   "id": "8d188a65",
   "metadata": {},
   "outputs": [],
   "source": [
    "def my_decorator(func):\n",
    "    def wrapper(name):\n",
    "        print(\"Before the function runs.\")\n",
    "        func(name)\n",
    "        print(\"After the function runs.\")\n",
    "    return wrapper\n"
   ]
  },
  {
   "cell_type": "markdown",
   "id": "8247e771",
   "metadata": {},
   "source": [
    "✅ Explanation:\n",
    "\n",
    "* The wrapper function takes an argument (name) and passes it to the original func.\n",
    "\n",
    "* This way, the decorator works with functions that accept arguments."
   ]
  },
  {
   "cell_type": "code",
   "execution_count": 29,
   "id": "0e1896e7",
   "metadata": {},
   "outputs": [],
   "source": [
    "@my_decorator\n",
    "def say_hello(name):\n",
    "    print(f\"Hello, {name}!\")"
   ]
  },
  {
   "cell_type": "markdown",
   "id": "13dcdcf5",
   "metadata": {},
   "source": [
    "The function `say_hello` is decorated with `@my_decorator`.\n",
    "\n",
    "Once a function is decorated, you can call it and it will run with the added behavior from the decorator.\n",
    "\n",
    "In the current situation, the function's behavior is wrapped with two prints, one before and one after the function runs."
   ]
  },
  {
   "cell_type": "code",
   "execution_count": 30,
   "id": "ed23eb9d",
   "metadata": {},
   "outputs": [
    {
     "name": "stdout",
     "output_type": "stream",
     "text": [
      "Before the function runs.\n",
      "Hello, Bob!\n",
      "After the function runs.\n"
     ]
    }
   ],
   "source": [
    "say_hello(\"Bob\")"
   ]
  },
  {
   "cell_type": "markdown",
   "id": "91e4475f",
   "metadata": {},
   "source": [
    "💡 Bonus Tip:\n",
    "\n",
    "If you want your decorator to work with any number of arguments, use `*args` and `**kwargs`:\n"
   ]
  },
  {
   "cell_type": "code",
   "execution_count": 31,
   "id": "ffda4363",
   "metadata": {},
   "outputs": [],
   "source": [
    "def my_decorator(func):\n",
    "    def wrapper(*args, **kwargs):\n",
    "        print(\"Before the function runs.\")\n",
    "        func(*args, **kwargs)\n",
    "        print(\"After the function runs.\")\n",
    "    return wrapper"
   ]
  },
  {
   "cell_type": "markdown",
   "id": "b1b78d8a",
   "metadata": {},
   "source": [
    "## 10. Mutability and immutability"
   ]
  },
  {
   "cell_type": "markdown",
   "id": "fec92602",
   "metadata": {},
   "source": [
    "### 10.1 Definition"
   ]
  },
  {
   "cell_type": "markdown",
   "id": "f0675320",
   "metadata": {},
   "source": [
    "In Python, mutability refers to whether an object’s value can be changed after it is created.\n",
    "\n",
    "**Mutable objects** — like lists, dictionaries, and sets—can be modified in place, meaning you can change, add, or remove elements without creating a new object.\n",
    "\n",
    "In contrast, **immutable** objects—such as integers, floats, strings, and tuples—cannot be altered once they are created; any operation that seems to modify them actually creates a new object. Understanding mutability is important because it affects how data is handled in memory and can influence the behavior of functions, especially when passing arguments."
   ]
  },
  {
   "cell_type": "markdown",
   "id": "bde8f472",
   "metadata": {},
   "source": [
    "### 10.2 In pratice"
   ]
  },
  {
   "cell_type": "markdown",
   "id": "0e791059",
   "metadata": {},
   "source": [
    "The cell bellows shows **mutability**: the list is modified in place, it remains the same object, stored in the same place in the memory (cf. id value)."
   ]
  },
  {
   "cell_type": "code",
   "execution_count": 32,
   "id": "39ac3dee",
   "metadata": {},
   "outputs": [
    {
     "name": "stdout",
     "output_type": "stream",
     "text": [
      "Original ID: 4855032768\n",
      "Modified List: [1, 2, 3, 4]\n",
      "ID After Modification: 4855032768\n",
      "append_result is none: True\n"
     ]
    }
   ],
   "source": [
    "my_list = [1, 2, 3]\n",
    "print(\"Original ID:\", id(my_list))\n",
    "\n",
    "append_result = my_list.append(4)  # Modify the list in place and returns None\n",
    "print(\"Modified List:\", my_list)\n",
    "print(\"ID After Modification:\", id(my_list))  # Same ID\n",
    "print(\"append_result is none:\", (append_result is None))"
   ]
  },
  {
   "cell_type": "markdown",
   "id": "89ddfa8b",
   "metadata": {},
   "source": [
    "The cell bellow shows **immutability**: a new string is created and referenced by the same variables. It's stored somewhere else in the memory (cf. id value)."
   ]
  },
  {
   "cell_type": "code",
   "execution_count": 33,
   "id": "1267c25d",
   "metadata": {},
   "outputs": [
    {
     "name": "stdout",
     "output_type": "stream",
     "text": [
      "Original ID: 4407153968\n",
      "Modified String: hello world\n",
      "ID After Modification: 4862193840\n",
      "Modified String: HELLO WORLD\n",
      "ID After Modification: 4862193072\n"
     ]
    }
   ],
   "source": [
    "my_str = \"hello\"\n",
    "print(\"Original ID:\", id(my_str))\n",
    "\n",
    "my_str = my_str + \" world\"  # Create a new string\n",
    "print(\"Modified String:\", my_str)\n",
    "print(\"ID After Modification:\", id(my_str))  # Different ID\n",
    "\n",
    "my_str = my_str.upper()\n",
    "print(\"Modified String:\", my_str)\n",
    "print(\"ID After Modification:\", id(my_str))  # Different ID"
   ]
  },
  {
   "cell_type": "markdown",
   "id": "3d5478bd",
   "metadata": {},
   "source": [
    "#### ✅ Summary:\n",
    "\n",
    "**Mutable** → can change in place → same `id`\n",
    "\n",
    "**Immutable** → changes create new object → different `id`"
   ]
  },
  {
   "cell_type": "markdown",
   "id": "7950f641",
   "metadata": {},
   "source": [
    "### 10.3 Consequences for function arguments"
   ]
  },
  {
   "cell_type": "markdown",
   "id": "7c017309",
   "metadata": {},
   "source": [
    "When a mutable is passed as argument to a function, it can be modified within this function, like the list below."
   ]
  },
  {
   "cell_type": "code",
   "execution_count": 34,
   "id": "a7114db4",
   "metadata": {},
   "outputs": [
    {
     "name": "stdout",
     "output_type": "stream",
     "text": [
      "[1, 2, 3, 'hello']\n"
     ]
    }
   ],
   "source": [
    "from typing import Any\n",
    "\n",
    "input = [1, 2, 3]\n",
    "\n",
    "def add_to_list(input: list, new_element: Any):\n",
    "    input.append(new_element)\n",
    "\n",
    "add_to_list(input, \"hello\")\n",
    "\n",
    "print(input)"
   ]
  },
  {
   "cell_type": "markdown",
   "id": "26e100bc",
   "metadata": {},
   "source": [
    "`input` refers to the same object before and after the function call."
   ]
  },
  {
   "cell_type": "markdown",
   "id": "306b8f37",
   "metadata": {},
   "source": [
    "When an immutable is passed as an argument to a function, it cannot be modified with the function, like the string below. Try and guess what will happen when you run the cell?"
   ]
  },
  {
   "cell_type": "code",
   "execution_count": 35,
   "id": "0810b3a7",
   "metadata": {},
   "outputs": [
    {
     "name": "stdout",
     "output_type": "stream",
     "text": [
      "Hello\n"
     ]
    }
   ],
   "source": [
    "input = \"Hello\"\n",
    "\n",
    "def add_to_string(input, new_element: str):\n",
    "    input += new_element\n",
    "\n",
    "add_to_string(input, \" World\")\n",
    "\n",
    "print(input)"
   ]
  },
  {
   "cell_type": "markdown",
   "id": "9f1176b6",
   "metadata": {},
   "source": [
    "With an immutable, it is required to return a new immutable and modify the variable assignment. Even though `input` is the same name, it refers to two different objects before and after the function call."
   ]
  },
  {
   "cell_type": "code",
   "execution_count": 36,
   "id": "300b83a4",
   "metadata": {},
   "outputs": [
    {
     "name": "stdout",
     "output_type": "stream",
     "text": [
      "ID:  4842806832\n",
      "Hello World\n",
      "ID:  4848585328\n"
     ]
    }
   ],
   "source": [
    "input = \"Hello\"\n",
    "print(\"ID: \", id(input))\n",
    "\n",
    "def add_to_string(input, new_element: str):\n",
    "    input += new_element\n",
    "    return input\n",
    "\n",
    "input = add_to_string(input, \" World\")\n",
    "\n",
    "print(input)\n",
    "print(\"ID: \", id(input))"
   ]
  },
  {
   "cell_type": "markdown",
   "id": "8200995e",
   "metadata": {},
   "source": [
    "## 11. Pandas DataFrames — A Deeper Look 🐼"
   ]
  },
  {
   "cell_type": "code",
   "execution_count": 37,
   "id": "0220e871",
   "metadata": {},
   "outputs": [
    {
     "name": "stdout",
     "output_type": "stream",
     "text": [
      "DataFrame Info:\n",
      "<class 'pandas.core.frame.DataFrame'>\n",
      "RangeIndex: 4 entries, 0 to 3\n",
      "Data columns (total 5 columns):\n",
      " #   Column  Non-Null Count  Dtype \n",
      "---  ------  --------------  ----- \n",
      " 0   name    4 non-null      object\n",
      " 1   age     4 non-null      int64 \n",
      " 2   city    4 non-null      object\n",
      " 3   score   4 non-null      int64 \n",
      " 4   date    4 non-null      object\n",
      "dtypes: int64(2), object(3)\n",
      "memory usage: 292.0+ bytes\n",
      "None\n",
      "\n",
      "Summary Statistics:\n",
      "             age      score\n",
      "count   4.000000   4.000000\n",
      "mean   32.500000  87.500000\n",
      "std     6.454972   7.593857\n",
      "min    25.000000  78.000000\n",
      "25%    28.750000  83.250000\n",
      "50%    32.500000  88.500000\n",
      "75%    36.250000  92.750000\n",
      "max    40.000000  95.000000\n",
      "\n",
      "Average Scores by City:\n",
      "city\n",
      "London      92.0\n",
      "New York    85.0\n",
      "Paris       78.0\n",
      "Tokyo       95.0\n",
      "Name: score, dtype: float64\n",
      "\n",
      "Pivot Table:\n",
      "           age  score\n",
      "city                 \n",
      "London    30.0   92.0\n",
      "New York  25.0   85.0\n",
      "Paris     35.0   78.0\n",
      "Tokyo     40.0   95.0\n",
      "\n",
      "Transposed Pivot Table:\n",
      "city   London  New York  Paris  Tokyo\n",
      "age      30.0      25.0   35.0   40.0\n",
      "score    92.0      85.0   78.0   95.0\n"
     ]
    }
   ],
   "source": [
    "import pandas as pd\n",
    "\n",
    "# Create a DataFrame from a dictionary\n",
    "data = {\n",
    "    'name': ['Alice', 'Bob', 'Charlie', 'David'],\n",
    "    'age': [25, 30, 35, 40],\n",
    "    'city': ['New York', 'London', 'Paris', 'Tokyo'],\n",
    "    'score': [85, 92, 78, 95],\n",
    "    'date': ['2023-01-15', '2023-02-20', '2023-03-10', '2023-04-05']\n",
    "}\n",
    "\n",
    "df = pd.DataFrame(data)\n",
    "\n",
    "# Saving with specific options\n",
    "df.to_csv('student_data.csv',\n",
    "          index=False,  # don't save index\n",
    "          date_format='%Y-%m-%d')  # format dates\n",
    "\n",
    "# Reading with specific options\n",
    "df_loaded = pd.read_csv('student_data.csv',\n",
    "                        index_col='date',\n",
    "                        parse_dates=True)  # parse date columns\n",
    "\n",
    "df_loaded.head()\n",
    "\n",
    "# Display basic info and summary statistics\n",
    "print('DataFrame Info:')\n",
    "print(df.info())\n",
    "print('\\nSummary Statistics:')\n",
    "print(df.describe())\n",
    "\n",
    "# Group by city and calculate mean score\n",
    "city_avg = df.groupby('city')['score'].mean()\n",
    "print('\\nAverage Scores by City:')\n",
    "print(city_avg)\n",
    "\n",
    "# Create a pivot table\n",
    "pivot = df.pivot_table(index='city', values=['age', 'score'], aggfunc='mean')\n",
    "print('\\nPivot Table:')\n",
    "print(pivot)\n",
    "\n",
    "# Transpose the pivot table\n",
    "print('\\nTransposed Pivot Table:')\n",
    "print(pivot.T)\n",
    "\n"
   ]
  },
  {
   "cell_type": "markdown",
   "id": "2bf274de",
   "metadata": {},
   "source": [
    "#### 🏗️ Activity 11:\n",
    " \n",
    "1. Add a boolean column `passes` set to `True` when `score` ≥ 80.  \n",
    "2. Filter the DataFrame to show only Alice."
   ]
  },
  {
   "cell_type": "code",
   "execution_count": 38,
   "id": "9684e3ad",
   "metadata": {},
   "outputs": [],
   "source": [
    "# Your code here ➡️"
   ]
  },
  {
   "cell_type": "markdown",
   "id": "51e9b902",
   "metadata": {},
   "source": [
    "## 12. Vector Math with NumPy ➗"
   ]
  },
  {
   "cell_type": "code",
   "execution_count": 39,
   "id": "e5043662",
   "metadata": {},
   "outputs": [
    {
     "name": "stdout",
     "output_type": "stream",
     "text": [
      "Vector 1: [1 2 3]\n",
      "Vector 2: [4 5 6]\n",
      "Addition: [5 7 9]\n",
      "Subtraction: [3 3 3]\n",
      "Scalar multiplication: [2 4 6]\n"
     ]
    }
   ],
   "source": [
    "\n",
    "import numpy as np\n",
    "\n",
    "# Create two simple vectors\n",
    "vec1 = np.array([1, 2, 3])\n",
    "vec2 = np.array([4, 5, 6])\n",
    "\n",
    "# Basic vector operations\n",
    "addition = vec1 + vec2\n",
    "subtraction = vec2 - vec1\n",
    "scalar_mult = vec1 * 2\n",
    "\n",
    "print('Vector 1:', vec1)\n",
    "print('Vector 2:', vec2)\n",
    "print('Addition:', addition)\n",
    "print('Subtraction:', subtraction)\n",
    "print('Scalar multiplication:', scalar_mult)"
   ]
  },
  {
   "cell_type": "markdown",
   "id": "19fe6896",
   "metadata": {},
   "source": [
    "#### 🏗️ Activity 12:\n",
    "\n",
    "Generate two random 300‑dimensional vectors and check their length (hint: `np.random.randn`)."
   ]
  },
  {
   "cell_type": "code",
   "execution_count": 40,
   "id": "5bf090f2",
   "metadata": {},
   "outputs": [],
   "source": [
    "# Your code here ➡️"
   ]
  },
  {
   "cell_type": "markdown",
   "id": "e92a004c",
   "metadata": {},
   "source": [
    "## 13. Datetime Essentials 🕒"
   ]
  },
  {
   "cell_type": "code",
   "execution_count": 41,
   "id": "261bfdfa",
   "metadata": {},
   "outputs": [
    {
     "name": "stdout",
     "output_type": "stream",
     "text": [
      "Now: 2025-05-28 17:55:48.207400\n",
      "One week from now: 2025-06-04 17:55:48.207400\n"
     ]
    },
    {
     "data": {
      "text/plain": [
       "datetime.datetime(2025, 5, 27, 13, 0)"
      ]
     },
     "execution_count": 41,
     "metadata": {},
     "output_type": "execute_result"
    }
   ],
   "source": [
    "from datetime import datetime, timedelta\n",
    "\n",
    "now = datetime.now()\n",
    "one_week = timedelta(weeks=1)\n",
    "print('Now:', now)\n",
    "print('One week from now:', now + one_week)\n",
    "\n",
    "# Parsing a date string\n",
    "d = datetime.strptime('2025-05-27 13:00', '%Y-%m-%d %H:%M')\n",
    "d"
   ]
  },
  {
   "cell_type": "code",
   "execution_count": 42,
   "id": "0a2cb1f2",
   "metadata": {},
   "outputs": [
    {
     "data": {
      "text/plain": [
       "2025-01-01    0\n",
       "2025-01-02    1\n",
       "2025-01-03    2\n",
       "2025-01-04    3\n",
       "2025-01-05    4\n",
       "Freq: D, dtype: int64"
      ]
     },
     "execution_count": 42,
     "metadata": {},
     "output_type": "execute_result"
    }
   ],
   "source": [
    "# Pandas date_range for time‑series\n",
    "import pandas as pd\n",
    "\n",
    "rng = pd.date_range('2025-01-01', periods=5, freq='D')\n",
    "ts = pd.Series(range(5), index=rng)\n",
    "ts"
   ]
  },
  {
   "cell_type": "markdown",
   "id": "473103e4",
   "metadata": {},
   "source": [
    "#### 🏗️ Activity 13:\n",
    "\n",
    "1. find what date is today\n",
    "2. find what date was 30 days ago"
   ]
  },
  {
   "cell_type": "code",
   "execution_count": 43,
   "id": "d8d23151",
   "metadata": {},
   "outputs": [],
   "source": [
    "# Your code here ➡️"
   ]
  }
 ],
 "metadata": {
  "kernelspec": {
   "display_name": ".venv",
   "language": "python",
   "name": "python3"
  },
  "language_info": {
   "codemirror_mode": {
    "name": "ipython",
    "version": 3
   },
   "file_extension": ".py",
   "mimetype": "text/x-python",
   "name": "python",
   "nbconvert_exporter": "python",
   "pygments_lexer": "ipython3",
   "version": "3.12.8"
  }
 },
 "nbformat": 4,
 "nbformat_minor": 5
}
